{
 "cells": [
  {
   "cell_type": "markdown",
   "id": "02556fcb",
   "metadata": {},
   "source": [
    "<h1>함수 정의와 호출</h1>\n",
    "<h2>함수의 기본 구조</h2>\n",
    "def 함수명([인자1,인자2, 인자n]):\n",
    "<br>    <코드 블록>\n",
    "    \n",
    "    [return <반환 값>]"
   ]
  },
  {
   "cell_type": "code",
   "execution_count": 4,
   "id": "36bc7064",
   "metadata": {},
   "outputs": [],
   "source": [
    "def add(sum1,sum2):\n",
    "    print(sum1 + sum2)\n",
    "    return(sum1 + sum2)"
   ]
  },
  {
   "cell_type": "code",
   "execution_count": 5,
   "id": "6f56d3eb",
   "metadata": {},
   "outputs": [
    {
     "name": "stdout",
     "output_type": "stream",
     "text": [
      "3\n"
     ]
    },
    {
     "data": {
      "text/plain": [
       "3"
      ]
     },
     "execution_count": 5,
     "metadata": {},
     "output_type": "execute_result"
    }
   ],
   "source": [
    "add(1,2)"
   ]
  },
  {
   "cell_type": "markdown",
   "id": "1c6ebec5",
   "metadata": {},
   "source": [
    "<h2>인자도 반환 값도 없는 함수</h2>"
   ]
  },
  {
   "cell_type": "code",
   "execution_count": 23,
   "id": "2b6b7990",
   "metadata": {},
   "outputs": [],
   "source": [
    "def my_func():\n",
    "    print(\"my first function!\")\n",
    "    print(\"this is a function\")"
   ]
  },
  {
   "cell_type": "code",
   "execution_count": 24,
   "id": "135f5c90",
   "metadata": {},
   "outputs": [
    {
     "name": "stdout",
     "output_type": "stream",
     "text": [
      "my first function!\n",
      "this is a function\n"
     ]
    }
   ],
   "source": [
    "my_func()"
   ]
  },
  {
   "cell_type": "code",
   "execution_count": 25,
   "id": "f5f6633f",
   "metadata": {},
   "outputs": [],
   "source": [
    "def life():\n",
    "    print(\"life is short\")\n",
    "    print(\"you need python\")"
   ]
  },
  {
   "cell_type": "code",
   "execution_count": 26,
   "id": "c3ec41d3",
   "metadata": {},
   "outputs": [
    {
     "name": "stdout",
     "output_type": "stream",
     "text": [
      "life is short\n",
      "you need python\n"
     ]
    }
   ],
   "source": [
    "life()"
   ]
  },
  {
   "cell_type": "code",
   "execution_count": 27,
   "id": "d6d68647",
   "metadata": {},
   "outputs": [
    {
     "name": "stdout",
     "output_type": "stream",
     "text": [
      "life is short\n",
      "you need python\n",
      "None\n"
     ]
    }
   ],
   "source": [
    "print(life())"
   ]
  },
  {
   "cell_type": "markdown",
   "id": "1decf01f",
   "metadata": {},
   "source": [
    "<h2>인자는 있으나 반환 값이 없는 함수</h2>"
   ]
  },
  {
   "cell_type": "code",
   "execution_count": 29,
   "id": "612489af",
   "metadata": {},
   "outputs": [],
   "source": [
    "def my_friend(friendName):\n",
    "    print(\"{}는 나의 친구입니다.\".format(friendName))\n"
   ]
  },
  {
   "cell_type": "code",
   "execution_count": 30,
   "id": "ba73fda2",
   "metadata": {},
   "outputs": [
    {
     "name": "stdout",
     "output_type": "stream",
     "text": [
      "철수는 나의 친구입니다.\n",
      "영미는 나의 친구입니다.\n"
     ]
    }
   ],
   "source": [
    "my_friend(\"철수\")\n",
    "my_friend(\"영미\")"
   ]
  },
  {
   "cell_type": "code",
   "execution_count": 31,
   "id": "e7d70302",
   "metadata": {},
   "outputs": [],
   "source": [
    "def AmericaPresident(PresidentName):\n",
    "    print(\"{}는 미국 대통령입니다.\".format(PresidentName))"
   ]
  },
  {
   "cell_type": "code",
   "execution_count": 32,
   "id": "38b11297",
   "metadata": {},
   "outputs": [
    {
     "name": "stdout",
     "output_type": "stream",
     "text": [
      "트럼프는 미국 대통령입니다.\n",
      "오바마는 미국 대통령입니다.\n",
      "조지워싱턴는 미국 대통령입니다.\n"
     ]
    }
   ],
   "source": [
    "AmericaPresident(\"트럼프\")\n",
    "AmericaPresident(\"오바마\")\n",
    "AmericaPresident(\"조지워싱턴\")"
   ]
  },
  {
   "cell_type": "code",
   "execution_count": 33,
   "id": "6fcc4544",
   "metadata": {},
   "outputs": [],
   "source": [
    "def KoreanWinner(KoreanWinnerName):\n",
    "    print(\"{}는 한국 위인입니다.\".format(KoreanWinnerName))"
   ]
  },
  {
   "cell_type": "code",
   "execution_count": 34,
   "id": "09b93a83",
   "metadata": {},
   "outputs": [
    {
     "name": "stdout",
     "output_type": "stream",
     "text": [
      "이순신는 한국 위인입니다.\n",
      "세종대왕는 한국 위인입니다.\n"
     ]
    }
   ],
   "source": [
    "KoreanWinner(\"이순신\")\n",
    "KoreanWinner(\"세종대왕\")"
   ]
  },
  {
   "cell_type": "code",
   "execution_count": 35,
   "id": "a2166c45",
   "metadata": {},
   "outputs": [],
   "source": [
    "def KoreaSoccerPlayer(KoreaSoccerPlayerName):\n",
    "    print(\"{}는 한국 축구선수 입니다.\".format(KoreaSoccerPlayerName))\n"
   ]
  },
  {
   "cell_type": "code",
   "execution_count": 37,
   "id": "3593d844",
   "metadata": {},
   "outputs": [
    {
     "name": "stdout",
     "output_type": "stream",
     "text": [
      "손흥민는 한국 축구선수 입니다.\n",
      "박지성는 한국 축구선수 입니다.\n",
      "윌스미스는 한국 축구선수 입니다.\n"
     ]
    }
   ],
   "source": [
    "KoreaSoccerPlayer(\"손흥민\")\n",
    "KoreaSoccerPlayer(\"박지성\")\n",
    "KoreaSoccerPlayer(\"윌스미스\")"
   ]
  },
  {
   "cell_type": "code",
   "execution_count": 38,
   "id": "b38f2e68",
   "metadata": {},
   "outputs": [],
   "source": [
    "def favorite(food,name):\n",
    "    print(\"{}는 {}이 좋아하는 음식입니다.\".format(food,name))\n"
   ]
  },
  {
   "cell_type": "code",
   "execution_count": 39,
   "id": "d6ca1113",
   "metadata": {},
   "outputs": [
    {
     "name": "stdout",
     "output_type": "stream",
     "text": [
      "돈까스는 배진혁이 좋아하는 음식입니다.\n"
     ]
    }
   ],
   "source": [
    "favorite(\"돈까스\",\"배진혁\")"
   ]
  },
  {
   "cell_type": "code",
   "execution_count": 40,
   "id": "0fabfa62",
   "metadata": {},
   "outputs": [],
   "source": [
    "def my_student_info(name, school_ID, phoneNumber):\n",
    "    print(\"-------------------------\")\n",
    "    print(\"- 학생이름:\", name)\n",
    "    print(\"- 학급번호:\", school_ID)\n",
    "    print(\"- 전화번호:\", phoneNumber)"
   ]
  },
  {
   "cell_type": "code",
   "execution_count": 56,
   "id": "cba07239",
   "metadata": {},
   "outputs": [
    {
     "name": "stdout",
     "output_type": "stream",
     "text": [
      "-----*-----****----***---------\n",
      "- 학생이름: 현아\n",
      "- 학급번호: 01\n",
      "- 전화번호: 010-1234-5678\n",
      "-----*-----****----***---------\n",
      "- 학생이름: 진아\n",
      "- 학급번호: 02\n",
      "- 전화번호: 010-4321-5678\n",
      "-----*-----****----***---------\n",
      "- 학생이름: 수아\n",
      "- 학급번호: 03\n",
      "- 전화번호: 010-2222-3333\n",
      "-----*-----****----***---------\n",
      "- 학생이름: 정아\n",
      "- 학급번호: 04\n",
      "- 전화번호: 010-3333-2222\n",
      "-----*-----****----***---------\n",
      "- 학생이름: 좋아\n",
      "- 학급번호: 05\n",
      "- 전화번호: 010-7777-7777\n"
     ]
    }
   ],
   "source": [
    "my_student_info(\"현아\",\"01\",\"010-1234-5678\")\n",
    "my_student_info(\"진아\",\"02\",\"010-4321-5678\")\n",
    "my_student_info(\"수아\",\"03\",\"010-2222-3333\")\n",
    "my_student_info(\"정아\",\"04\",\"010-3333-2222\")\n",
    "my_student_info(\"좋아\",\"05\",\"010-7777-7777\")"
   ]
  },
  {
   "cell_type": "code",
   "execution_count": 53,
   "id": "c17af86e",
   "metadata": {},
   "outputs": [],
   "source": [
    "def maths(FirstNum,SecoundNum,LastNum):\n",
    "    print(\"{} 곱하기 {} 는 {}입니다.\".format(FirstNum,SecoundNum,LastNum))\n",
    "    "
   ]
  },
  {
   "cell_type": "code",
   "execution_count": 54,
   "id": "71859ec4",
   "metadata": {},
   "outputs": [
    {
     "name": "stdout",
     "output_type": "stream",
     "text": [
      "1 곱하기 2 는 2입니다.\n",
      "2 곱하기 5 는 10입니다.\n",
      "9 곱하기 9 는 81입니다.\n"
     ]
    }
   ],
   "source": [
    "maths(1,2,2)\n",
    "maths(2,5,10)\n",
    "maths(9,9,81)"
   ]
  },
  {
   "cell_type": "code",
   "execution_count": 55,
   "id": "cf48dcb8",
   "metadata": {},
   "outputs": [],
   "source": [
    "#함수를 수정하면 모든 코드에 적용\n",
    "def my_student_info(name, school_ID, phoneNumber):\n",
    "    print(\"-----*-----****----***---------\")\n",
    "    print(\"- 학생이름:\", name)\n",
    "    print(\"- 학급번호:\", school_ID)\n",
    "    print(\"- 전화번호:\", phoneNumber)"
   ]
  },
  {
   "cell_type": "markdown",
   "id": "97be8a75",
   "metadata": {},
   "source": [
    "<h1>인자도 있고 반환 값도 있는 함수</h1>"
   ]
  },
  {
   "cell_type": "code",
   "execution_count": 57,
   "id": "b1b71f3a",
   "metadata": {},
   "outputs": [],
   "source": [
    "def my_calc(x,y):\n",
    "    z = x*y\n",
    "    return z"
   ]
  },
  {
   "cell_type": "code",
   "execution_count": 58,
   "id": "18cbe5d7",
   "metadata": {},
   "outputs": [
    {
     "data": {
      "text/plain": [
       "12"
      ]
     },
     "execution_count": 58,
     "metadata": {},
     "output_type": "execute_result"
    }
   ],
   "source": [
    "my_calc(3,4)"
   ]
  },
  {
   "cell_type": "code",
   "execution_count": 67,
   "id": "74cf9f94",
   "metadata": {},
   "outputs": [],
   "source": [
    "def my_str(a,b):\n",
    "    c= a + b\n",
    "    return c"
   ]
  },
  {
   "cell_type": "code",
   "execution_count": 68,
   "id": "9cf81656",
   "metadata": {},
   "outputs": [
    {
     "data": {
      "text/plain": [
       "'어서오세요이제가세요'"
      ]
     },
     "execution_count": 68,
     "metadata": {},
     "output_type": "execute_result"
    }
   ],
   "source": [
    "my_str(\"안녕\",\"하세요\")\n",
    "my_str(\"반갑\",\"습니다\")\n",
    "my_str(\"어서오세요\",\"이제가세요\")"
   ]
  },
  {
   "cell_type": "markdown",
   "id": "67041747",
   "metadata": {},
   "source": [
    "<h3>리스트를 인자로 갖는 함수</h3>"
   ]
  },
  {
   "cell_type": "code",
   "execution_count": 80,
   "id": "605f18b2",
   "metadata": {},
   "outputs": [],
   "source": [
    "def my_student_info_list(student_info):\n",
    "    print(\"**************\")\n",
    "    print(\"* 학생이름:\", student_info[0])\n",
    "    print(\"* 학급번호:\", student_info[1])\n",
    "    print(\"* 전화번호:\", student_info[2])\n",
    "    print(\"**************\")"
   ]
  },
  {
   "cell_type": "code",
   "execution_count": 82,
   "id": "5d95bc29",
   "metadata": {},
   "outputs": [
    {
     "name": "stdout",
     "output_type": "stream",
     "text": [
      "**************\n",
      "* 학생이름: 현아\n",
      "* 학급번호: 01\n",
      "* 전화번호: 01-234-5678\n",
      "**************\n",
      "**************\n",
      "* 학생이름: 현아\n",
      "* 학급번호: 01\n",
      "* 전화번호: 01-234-5678\n",
      "**************\n"
     ]
    }
   ],
   "source": [
    "student1_info = [\"현아\", \"01\", \"01-234-5678\"]\n",
    "my_student_info_list(student1_info)\n",
    "my_student_info_list([\"현아\", \"01\", \"01-234-5678\"])"
   ]
  },
  {
   "cell_type": "code",
   "execution_count": 74,
   "id": "3785fd77",
   "metadata": {},
   "outputs": [],
   "source": [
    "def president_info_list(president_info):\n",
    "    print(\"나라:\", president_info[0])\n",
    "    print(\"이름:\", president_info[1])\n",
    "    print(\"전화번호:\", president_info[2])"
   ]
  },
  {
   "cell_type": "code",
   "execution_count": 83,
   "id": "561080e8",
   "metadata": {},
   "outputs": [
    {
     "name": "stdout",
     "output_type": "stream",
     "text": [
      "나라: 프랑스\n",
      "이름: 마크롱\n",
      "전화번호: 010-2222-3333\n",
      "나라: 미국\n",
      "이름: 트럼프\n",
      "전화번호: 010-1234-5678\n"
     ]
    }
   ],
   "source": [
    "president_info = [\"미국\",\"트럼프\",\"010-1234-5678\"]\n",
    "president_info = [\"프랑스\",\"마크롱\",\"010-2222-3333\"]\n",
    "president_info_list(president_info)\n",
    "president_info_list([\"미국\",\"트럼프\",\"010-1234-5678\"])"
   ]
  },
  {
   "cell_type": "markdown",
   "id": "d4e79268",
   "metadata": {},
   "source": [
    "<h1>7.2 변수의 유효 범위</h1>\n",
    "<h2>전역 변수와 지역 변수의 차이</h2>\n",
    "<h2>함수 안에서 정의한 변수는 함수 안에서만 사용할 수 있다.</h2>"
   ]
  },
  {
   "cell_type": "code",
   "execution_count": 158,
   "id": "f4282892",
   "metadata": {},
   "outputs": [],
   "source": [
    "a = 5 # 전역 변수\n",
    "\n",
    "def func1():\n",
    "    a = 1 # 지역 변수, func1()에서만 사용\n",
    "    print(\"[func1] 지역 변수 a =\", a)\n",
    "    \n",
    "def func2():\n",
    "    a = 2 # 지역 변수. func2()에서만 사용\n",
    "    print(\"[funce2] 지역 변수 a =\", a)\n",
    "    \n",
    "def func3():\n",
    "    print(\"[funce3] 전역 변수 a =\", a)    \n",
    "    \n",
    "def func4():\n",
    "    global a #함수 내에서 전역 변수 변경 위해 선언\n",
    "    a = 4 # 위에 global a로 전역 변수 선언 했기 때문에 지역함수 변경이 아닌 전역 변수의 값 변경\n",
    "    print(\"[func4] 전역 변수 a =\", a)"
   ]
  },
  {
   "cell_type": "code",
   "execution_count": 160,
   "id": "f1247412",
   "metadata": {},
   "outputs": [
    {
     "name": "stdout",
     "output_type": "stream",
     "text": [
      "[func1] 지역 변수 a = 1\n",
      "[func1] 지역 변수 a = 4\n",
      "[funce2] 지역 변수 a = 2\n",
      "[func2] 지역 변수 a = 4\n",
      "[funce3] 전역 변수 a = 4\n",
      "[func3] 전역 변수 a = 4\n",
      "[func4] 전역 변수 a = 4\n",
      "[func4] 전역 변수 a = 4\n"
     ]
    }
   ],
   "source": [
    "func1()\n",
    "print(\"[func1] 지역 변수 a =\", a)\n",
    "func2()\n",
    "print(\"[func2] 지역 변수 a =\", a)\n",
    "func3()\n",
    "print(\"[func3] 전역 변수 a =\", a)    \n",
    "func4()\n",
    "print(\"[func4] 전역 변수 a =\", a)\n"
   ]
  },
  {
   "cell_type": "code",
   "execution_count": 161,
   "id": "84ed333d",
   "metadata": {},
   "outputs": [
    {
     "name": "stdout",
     "output_type": "stream",
     "text": [
      "[func1] 지역 변수 a = 1\n"
     ]
    }
   ],
   "source": [
    "func1()"
   ]
  },
  {
   "cell_type": "code",
   "execution_count": 162,
   "id": "afc153db",
   "metadata": {},
   "outputs": [
    {
     "name": "stdout",
     "output_type": "stream",
     "text": [
      "[funce2] 지역 변수 a = 2\n"
     ]
    }
   ],
   "source": [
    "func2()"
   ]
  },
  {
   "cell_type": "code",
   "execution_count": 163,
   "id": "a055be13",
   "metadata": {},
   "outputs": [
    {
     "name": "stdout",
     "output_type": "stream",
     "text": [
      "[funce3] 전역 변수 a = 4\n"
     ]
    }
   ],
   "source": [
    "func3() #처음엔 맨위 지정한 a =5가 뜨다가 아래에서 global a 선언하고 a=4로 변경 했기 때문에 4가 됨  "
   ]
  },
  {
   "cell_type": "code",
   "execution_count": 164,
   "id": "82324d34",
   "metadata": {},
   "outputs": [
    {
     "name": "stdout",
     "output_type": "stream",
     "text": [
      "[func4] 전역 변수 a = 4\n",
      "[func4] 전역 변수 a = 4\n"
     ]
    }
   ],
   "source": [
    "func4()\n",
    "print(\"[func4] 전역 변수 a =\", a)"
   ]
  },
  {
   "cell_type": "code",
   "execution_count": null,
   "id": "c68fe801",
   "metadata": {},
   "outputs": [],
   "source": [
    "price = 1000\n",
    "num = 4\n",
    "def fishbread_first():\n",
    "    print(\"붕어빵 {}원에 {}개만큼 드립니다.\".format(price,num))\n",
    "\n",
    "def fishbread_second():\n",
    "    num = 3\n",
    "    print(\"물가 상승으로 붕어빵 {}원에 {}개만큼 드립니다.\".format(price,num))\n",
    "    \n",
    "def fishbread_end():\n",
    "    global price\n",
    "    global num\n",
    "    price = 100\n",
    "    num = 10\n",
    "    print(\"장사 접습니다 붕어빵 {}원에 {}개 만큼 드립니다.\".format(price,num))"
   ]
  },
  {
   "cell_type": "code",
   "execution_count": 170,
   "id": "f413cc3e",
   "metadata": {},
   "outputs": [
    {
     "name": "stdout",
     "output_type": "stream",
     "text": [
      "붕어빵 1000원에 4개만큼 드립니다.\n"
     ]
    }
   ],
   "source": [
    "fishbread_first()"
   ]
  },
  {
   "cell_type": "code",
   "execution_count": 171,
   "id": "4ec60dbb",
   "metadata": {},
   "outputs": [
    {
     "name": "stdout",
     "output_type": "stream",
     "text": [
      "물가 상승으로 붕어빵 1000원에 3개만큼 드립니다.\n"
     ]
    }
   ],
   "source": [
    "fishbread_second()"
   ]
  },
  {
   "cell_type": "code",
   "execution_count": 172,
   "id": "2e8f9836",
   "metadata": {},
   "outputs": [
    {
     "name": "stdout",
     "output_type": "stream",
     "text": [
      "장사 접습니다 붕어빵 100원에 10개 만큼 드립니다.\n"
     ]
    }
   ],
   "source": [
    "fishbread_end()"
   ]
  },
  {
   "cell_type": "code",
   "execution_count": 173,
   "id": "6f251d49",
   "metadata": {},
   "outputs": [
    {
     "name": "stdout",
     "output_type": "stream",
     "text": [
      "10\n"
     ]
    }
   ],
   "source": [
    "print(num)"
   ]
  },
  {
   "cell_type": "markdown",
   "id": "85ef93b2",
   "metadata": {},
   "source": [
    "<h1>7.3 람다(lamda) 함수</h3>\n",
    "<h3>한줄로 함수를 표혐하는 람다함수의 기본 구조</h3>\n",
    "<h3>(lambda <인자>:<인자 활용 수행 코드>)(<인자>)</h3>"
   ]
  },
  {
   "cell_type": "code",
   "execution_count": 176,
   "id": "d7f38ba6",
   "metadata": {},
   "outputs": [
    {
     "data": {
      "text/plain": [
       "20"
      ]
     },
     "execution_count": 176,
     "metadata": {},
     "output_type": "execute_result"
    }
   ],
   "source": [
    "(lambda x : x**2) (4)\n",
    "(lambda a : a*10) (2)\n"
   ]
  },
  {
   "cell_type": "markdown",
   "id": "8de1aeb9",
   "metadata": {},
   "source": [
    "<h3>람다 함수를 변수에 할당한 후에 인자를 호출해서 사용</h3>"
   ]
  },
  {
   "cell_type": "code",
   "execution_count": 178,
   "id": "0620047b",
   "metadata": {},
   "outputs": [
    {
     "data": {
      "text/plain": [
       "4"
      ]
     },
     "execution_count": 178,
     "metadata": {},
     "output_type": "execute_result"
    }
   ],
   "source": [
    "mySquare = lambda x : x**2\n",
    "mySquare(2)"
   ]
  },
  {
   "cell_type": "code",
   "execution_count": 179,
   "id": "7d94435b",
   "metadata": {},
   "outputs": [
    {
     "data": {
      "text/plain": [
       "36"
      ]
     },
     "execution_count": 179,
     "metadata": {},
     "output_type": "execute_result"
    }
   ],
   "source": [
    "mySquare(6)"
   ]
  },
  {
   "cell_type": "code",
   "execution_count": 187,
   "id": "1b85c4cc",
   "metadata": {},
   "outputs": [
    {
     "data": {
      "text/plain": [
       "1400000"
      ]
     },
     "execution_count": 187,
     "metadata": {},
     "output_type": "execute_result"
    }
   ],
   "source": [
    "dollar = lambda a : a * 1400\n",
    "dollar(1000)"
   ]
  },
  {
   "cell_type": "markdown",
   "id": "88a81a5c",
   "metadata": {},
   "source": [
    "<h3>여러개의 인자를 받아 사용하는 것도 가능</h3>"
   ]
  },
  {
   "cell_type": "code",
   "execution_count": 190,
   "id": "b081087a",
   "metadata": {},
   "outputs": [
    {
     "data": {
      "text/plain": [
       "31"
      ]
     },
     "execution_count": 190,
     "metadata": {},
     "output_type": "execute_result"
    }
   ],
   "source": [
    "mySimpleFunc = lambda x,y,z : 2*x + 3*y + z\n",
    "mySimpleFunc(1,2,4)\n",
    "mySimpleFunc(3,5,10)"
   ]
  },
  {
   "cell_type": "markdown",
   "id": "8727df5d",
   "metadata": {},
   "source": [
    "<h1>유용한 내장 함수</h1>"
   ]
  },
  {
   "cell_type": "code",
   "execution_count": 191,
   "id": "968cddef",
   "metadata": {},
   "outputs": [
    {
     "data": {
      "text/plain": [
       "[0, 3, -1]"
      ]
     },
     "execution_count": 191,
     "metadata": {},
     "output_type": "execute_result"
    }
   ],
   "source": [
    "[int(0.123), int(3.512345), int(-1.312367)] #소수점 이하는 버림 "
   ]
  },
  {
   "cell_type": "code",
   "execution_count": 192,
   "id": "3fbec572",
   "metadata": {},
   "outputs": [
    {
     "data": {
      "text/plain": [
       "[1234, 5678, 9012]"
      ]
     },
     "execution_count": 192,
     "metadata": {},
     "output_type": "execute_result"
    }
   ],
   "source": [
    "[int('1234'), int('5678'), int('9012')] #문자열을 정수로 변환 "
   ]
  },
  {
   "cell_type": "code",
   "execution_count": 193,
   "id": "7705188b",
   "metadata": {},
   "outputs": [
    {
     "data": {
      "text/plain": [
       "[0.0, 123.0, -567.0]"
      ]
     },
     "execution_count": 193,
     "metadata": {},
     "output_type": "execute_result"
    }
   ],
   "source": [
    "[float(0),float(123),float(-567)]"
   ]
  },
  {
   "cell_type": "code",
   "execution_count": 195,
   "id": "571f99bf",
   "metadata": {},
   "outputs": [
    {
     "data": {
      "text/plain": [
       "[10.0, 0.123, -567.89]"
      ]
     },
     "execution_count": 195,
     "metadata": {},
     "output_type": "execute_result"
    }
   ],
   "source": [
    "[float('10'), float('0.123'), float('-567.89')] #문자열을 실수로 변환"
   ]
  },
  {
   "cell_type": "code",
   "execution_count": 196,
   "id": "718d166e",
   "metadata": {},
   "outputs": [
    {
     "data": {
      "text/plain": [
       "['123', '459678', '-987']"
      ]
     },
     "execution_count": 196,
     "metadata": {},
     "output_type": "execute_result"
    }
   ],
   "source": [
    "[str(123), str(459678), str(-987)]\n"
   ]
  },
  {
   "cell_type": "code",
   "execution_count": 197,
   "id": "705b7e81",
   "metadata": {},
   "outputs": [
    {
     "data": {
      "text/plain": [
       "['0.123', '345.678', '-5.87']"
      ]
     },
     "execution_count": 197,
     "metadata": {},
     "output_type": "execute_result"
    }
   ],
   "source": [
    "[str(0.123), str(345.678), str(-5.87)]"
   ]
  },
  {
   "cell_type": "code",
   "execution_count": 208,
   "id": "50c577a5",
   "metadata": {},
   "outputs": [],
   "source": [
    "list_data = ['abc', 1, 2, 'def']\n",
    "tuple_data =('abc', 1, 2, 'def')\n",
    "set_data ={'abc', 1, 2, 'def'}\n",
    "#세트는 중복된 건 무시함 \n",
    "#세트는 순서가 정해져 있음 무작위 "
   ]
  },
  {
   "cell_type": "code",
   "execution_count": 209,
   "id": "2f46864d",
   "metadata": {},
   "outputs": [
    {
     "data": {
      "text/plain": [
       "[list, tuple, set]"
      ]
     },
     "execution_count": 209,
     "metadata": {},
     "output_type": "execute_result"
    }
   ],
   "source": [
    "[type(list_data), type(tuple_data), type(set_data)]"
   ]
  },
  {
   "cell_type": "code",
   "execution_count": 210,
   "id": "91fb04ff",
   "metadata": {},
   "outputs": [
    {
     "name": "stdout",
     "output_type": "stream",
     "text": [
      "리스트로 변환: ['abc', 1, 2, 'def'] [1, 2, 'def', 'abc']\n"
     ]
    }
   ],
   "source": [
    "print(\"리스트로 변환:\", list(tuple_data), list(set_data)) #리스트로 변환"
   ]
  },
  {
   "cell_type": "code",
   "execution_count": 211,
   "id": "f8fcb638",
   "metadata": {},
   "outputs": [
    {
     "name": "stdout",
     "output_type": "stream",
     "text": [
      "투플 변환: ('abc', 1, 2, 'def') (1, 2, 'def', 'abc')\n"
     ]
    }
   ],
   "source": [
    "print(\"투플 변환:\", tuple(list_data), tuple(set_data)) #리스트로 변환"
   ]
  },
  {
   "cell_type": "code",
   "execution_count": 212,
   "id": "a180a877",
   "metadata": {},
   "outputs": [
    {
     "name": "stdout",
     "output_type": "stream",
     "text": [
      "세트 변환: {1, 2, 'def', 'abc'} {1, 2, 'def', 'abc'}\n"
     ]
    }
   ],
   "source": [
    "print(\"세트 변환:\", set(list_data), set(tuple_data)) #리스트로 변환"
   ]
  },
  {
   "cell_type": "code",
   "execution_count": 213,
   "id": "d2093e75",
   "metadata": {},
   "outputs": [
    {
     "data": {
      "text/plain": [
       "False"
      ]
     },
     "execution_count": 213,
     "metadata": {},
     "output_type": "execute_result"
    }
   ],
   "source": [
    "#bool 함수\n",
    "bool(0)"
   ]
  },
  {
   "cell_type": "code",
   "execution_count": 214,
   "id": "7d37b3cf",
   "metadata": {},
   "outputs": [
    {
     "data": {
      "text/plain": [
       "True"
      ]
     },
     "execution_count": 214,
     "metadata": {},
     "output_type": "execute_result"
    }
   ],
   "source": [
    "bool(1)"
   ]
  },
  {
   "cell_type": "code",
   "execution_count": 215,
   "id": "01b3d11a",
   "metadata": {},
   "outputs": [
    {
     "data": {
      "text/plain": [
       "True"
      ]
     },
     "execution_count": 215,
     "metadata": {},
     "output_type": "execute_result"
    }
   ],
   "source": [
    "bool(-10)"
   ]
  },
  {
   "cell_type": "code",
   "execution_count": 216,
   "id": "4d0e421a",
   "metadata": {},
   "outputs": [
    {
     "data": {
      "text/plain": [
       "True"
      ]
     },
     "execution_count": 216,
     "metadata": {},
     "output_type": "execute_result"
    }
   ],
   "source": [
    "bool(5.12)"
   ]
  },
  {
   "cell_type": "code",
   "execution_count": 217,
   "id": "4ab977fd",
   "metadata": {},
   "outputs": [
    {
     "data": {
      "text/plain": [
       "True"
      ]
     },
     "execution_count": 217,
     "metadata": {},
     "output_type": "execute_result"
    }
   ],
   "source": [
    "bool(-3.26)"
   ]
  },
  {
   "cell_type": "code",
   "execution_count": 220,
   "id": "a6dd9e9c",
   "metadata": {},
   "outputs": [
    {
     "data": {
      "text/plain": [
       "True"
      ]
     },
     "execution_count": 220,
     "metadata": {},
     "output_type": "execute_result"
    }
   ],
   "source": [
    "bool('a')"
   ]
  },
  {
   "cell_type": "code",
   "execution_count": 221,
   "id": "fcd22339",
   "metadata": {},
   "outputs": [
    {
     "data": {
      "text/plain": [
       "True"
      ]
     },
     "execution_count": 221,
     "metadata": {},
     "output_type": "execute_result"
    }
   ],
   "source": [
    "bool(' ')"
   ]
  },
  {
   "cell_type": "code",
   "execution_count": 222,
   "id": "ba80ee34",
   "metadata": {},
   "outputs": [
    {
     "data": {
      "text/plain": [
       "False"
      ]
     },
     "execution_count": 222,
     "metadata": {},
     "output_type": "execute_result"
    }
   ],
   "source": [
    "bool('')"
   ]
  },
  {
   "cell_type": "code",
   "execution_count": 223,
   "id": "a1873058",
   "metadata": {},
   "outputs": [
    {
     "data": {
      "text/plain": [
       "False"
      ]
     },
     "execution_count": 223,
     "metadata": {},
     "output_type": "execute_result"
    }
   ],
   "source": [
    "bool(None)"
   ]
  },
  {
   "cell_type": "code",
   "execution_count": 225,
   "id": "c4357247",
   "metadata": {},
   "outputs": [
    {
     "data": {
      "text/plain": [
       "False"
      ]
     },
     "execution_count": 225,
     "metadata": {},
     "output_type": "execute_result"
    }
   ],
   "source": [
    "bool()"
   ]
  },
  {
   "cell_type": "code",
   "execution_count": 226,
   "id": "96d29a64",
   "metadata": {},
   "outputs": [],
   "source": [
    "#리스트 튜플 세트를 인자로 bool 함수 호출\n"
   ]
  },
  {
   "cell_type": "code",
   "execution_count": 227,
   "id": "d2f82a2e",
   "metadata": {},
   "outputs": [],
   "source": [
    "def print_name(name):\n",
    "    if bool(name):\n",
    "        print(\"입력된 이름\", name)\n",
    "    else:\n",
    "        print(\"입력된 이름이 없습니다.\")"
   ]
  },
  {
   "cell_type": "code",
   "execution_count": 232,
   "id": "c45ec98b",
   "metadata": {},
   "outputs": [
    {
     "name": "stdout",
     "output_type": "stream",
     "text": [
      "입력된 이름 김치\n"
     ]
    }
   ],
   "source": [
    "print_name(\"김치\")"
   ]
  },
  {
   "cell_type": "code",
   "execution_count": 233,
   "id": "34f1ed87",
   "metadata": {},
   "outputs": [
    {
     "name": "stdout",
     "output_type": "stream",
     "text": [
      "입력된 이름이 없습니다.\n"
     ]
    }
   ],
   "source": [
    "print_name(\"\")"
   ]
  },
  {
   "cell_type": "markdown",
   "id": "e8edac13",
   "metadata": {},
   "source": [
    "### 최소값과 최대값을 구하는 함수"
   ]
  },
  {
   "cell_type": "code",
   "execution_count": 239,
   "id": "de3fae8e",
   "metadata": {},
   "outputs": [
    {
     "data": {
      "text/plain": [
       "[0, 99.5]"
      ]
     },
     "execution_count": 239,
     "metadata": {},
     "output_type": "execute_result"
    }
   ],
   "source": [
    "myNum = [10, 5, 12, 0, 3.5, 99.5, 42]\n",
    "[min(myNum), max(myNum)] #최소값 0 최대값 99.5"
   ]
  },
  {
   "cell_type": "code",
   "execution_count": 240,
   "id": "6c869b4a",
   "metadata": {},
   "outputs": [
    {
     "data": {
      "text/plain": [
       "['a', 'z']"
      ]
     },
     "execution_count": 240,
     "metadata": {},
     "output_type": "execute_result"
    }
   ],
   "source": [
    "myStr = 'zxyabc'\n",
    "[min(myStr), max(myStr)] #알파벳 최소 a 최대 z"
   ]
  },
  {
   "cell_type": "code",
   "execution_count": 241,
   "id": "ea379e0f",
   "metadata": {},
   "outputs": [
    {
     "data": {
      "text/plain": [
       "[0, 99.5]"
      ]
     },
     "execution_count": 241,
     "metadata": {},
     "output_type": "execute_result"
    }
   ],
   "source": [
    "#튜플과 세트에서 활용\n",
    "myNum = (10, 5, 12, 0, 3.5, 99.5, 42)\n",
    "[min(myNum),max(myNum)]"
   ]
  },
  {
   "cell_type": "code",
   "execution_count": 242,
   "id": "b37f7363",
   "metadata": {},
   "outputs": [
    {
     "data": {
      "text/plain": [
       "['Abc', 'efg']"
      ]
     },
     "execution_count": 242,
     "metadata": {},
     "output_type": "execute_result"
    }
   ],
   "source": [
    "myNum = {\"Abc\",\"abc\",\"bcd\",\"efg\"}\n",
    "[min(myNum), max(myNum)]"
   ]
  },
  {
   "cell_type": "markdown",
   "id": "cc47976c",
   "metadata": {},
   "source": [
    "### 절대값과 전체 합을 구하는 함수"
   ]
  },
  {
   "cell_type": "code",
   "execution_count": 243,
   "id": "3f6f5949",
   "metadata": {},
   "outputs": [
    {
     "data": {
      "text/plain": [
       "[10, 10]"
      ]
     },
     "execution_count": 243,
     "metadata": {},
     "output_type": "execute_result"
    }
   ],
   "source": [
    "[abs(10), abs(-10)]"
   ]
  },
  {
   "cell_type": "code",
   "execution_count": 244,
   "id": "016059e3",
   "metadata": {},
   "outputs": [
    {
     "data": {
      "text/plain": [
       "[2.45, 2.45]"
      ]
     },
     "execution_count": 244,
     "metadata": {},
     "output_type": "execute_result"
    }
   ],
   "source": [
    "[abs(2.45), abs(-2.45)]"
   ]
  },
  {
   "cell_type": "code",
   "execution_count": 245,
   "id": "9719b340",
   "metadata": {},
   "outputs": [
    {
     "data": {
      "text/plain": [
       "55"
      ]
     },
     "execution_count": 245,
     "metadata": {},
     "output_type": "execute_result"
    }
   ],
   "source": [
    "sumList = [1,2,3,4,5,6,7,8,9,10]\n",
    "sum(sumList)"
   ]
  },
  {
   "cell_type": "markdown",
   "id": "e033ea00",
   "metadata": {},
   "source": [
    "# 항목의 개수를 구하는 함수"
   ]
  },
  {
   "cell_type": "code",
   "execution_count": 246,
   "id": "bdc3add4",
   "metadata": {},
   "outputs": [
    {
     "data": {
      "text/plain": [
       "5"
      ]
     },
     "execution_count": 246,
     "metadata": {},
     "output_type": "execute_result"
    }
   ],
   "source": [
    "len(\"ab cd\")"
   ]
  },
  {
   "cell_type": "code",
   "execution_count": 247,
   "id": "d4b830fc",
   "metadata": {},
   "outputs": [
    {
     "data": {
      "text/plain": [
       "8"
      ]
     },
     "execution_count": 247,
     "metadata": {},
     "output_type": "execute_result"
    }
   ],
   "source": [
    "len([1,2,3,4,5,6,7,8]) # 리스트 개수 세기"
   ]
  },
  {
   "cell_type": "code",
   "execution_count": 248,
   "id": "cda17cd1",
   "metadata": {},
   "outputs": [
    {
     "data": {
      "text/plain": [
       "5"
      ]
     },
     "execution_count": 248,
     "metadata": {},
     "output_type": "execute_result"
    }
   ],
   "source": [
    "len((1,2,3,4,5))"
   ]
  },
  {
   "cell_type": "code",
   "execution_count": 249,
   "id": "0703ce23",
   "metadata": {},
   "outputs": [
    {
     "data": {
      "text/plain": [
       "5"
      ]
     },
     "execution_count": 249,
     "metadata": {},
     "output_type": "execute_result"
    }
   ],
   "source": [
    "len({1,2,3,4,5})"
   ]
  },
  {
   "cell_type": "code",
   "execution_count": 250,
   "id": "54d5f426",
   "metadata": {},
   "outputs": [
    {
     "data": {
      "text/plain": [
       "3"
      ]
     },
     "execution_count": 250,
     "metadata": {},
     "output_type": "execute_result"
    }
   ],
   "source": [
    "len({1:\"thomas\", 2:\"edwoard\",3:\"henry\"}) "
   ]
  },
  {
   "cell_type": "markdown",
   "id": "bb0d47eb",
   "metadata": {},
   "source": [
    "# 내장 함수의 활용"
   ]
  },
  {
   "cell_type": "code",
   "execution_count": 254,
   "id": "50383917",
   "metadata": {},
   "outputs": [
    {
     "name": "stdout",
     "output_type": "stream",
     "text": [
      "총점:350, 평균:87.5\n"
     ]
    }
   ],
   "source": [
    "#사용하지 않은 경우 \n",
    "scores = [90, 80, 95, 85] #과목별 시험 점수\n",
    "\n",
    "score_sum = 0    #총점 계산을 위한 초기값 설정\n",
    "subject_num = 0 #과목수 계산을 위한 초기값 설정\n",
    "for score in scores: \n",
    "    score_sum = score_sum + score # 과목별 점수 모두 더하기\n",
    "    subject_num = subject_num + 1 # 과목수 계산 \n",
    "    \n",
    "average = score_sum / subject_num # 평균(총점 / 과목수) 구하기\n",
    "\n",
    "print(\"총점:{0}, 평균:{1}\".format(score_sum,average))"
   ]
  },
  {
   "cell_type": "code",
   "execution_count": 255,
   "id": "0c4e4aad",
   "metadata": {},
   "outputs": [
    {
     "name": "stdout",
     "output_type": "stream",
     "text": [
      "총점:350,평균:87.5\n"
     ]
    }
   ],
   "source": [
    "#사용했을 경우\n",
    "scores = [90,80,95,85]\n",
    "print(\"총점:{0},평균:{1}\".format(sum(scores), sum(scores)/len(scores)))"
   ]
  },
  {
   "cell_type": "code",
   "execution_count": 257,
   "id": "3d9511e8",
   "metadata": {},
   "outputs": [
    {
     "name": "stdout",
     "output_type": "stream",
     "text": [
      "최하 점수:80, 최고 점수:95\n"
     ]
    }
   ],
   "source": [
    "print(\"최하 점수:{0}, 최고 점수:{1}\".format(min(scores), max(scores)))"
   ]
  },
  {
   "cell_type": "markdown",
   "id": "96c4cef2",
   "metadata": {},
   "source": [
    "# 7.5 정리"
   ]
  },
  {
   "cell_type": "code",
   "execution_count": null,
   "id": "701aa35e",
   "metadata": {},
   "outputs": [],
   "source": []
  }
 ],
 "metadata": {
  "kernelspec": {
   "display_name": "Python 3 (ipykernel)",
   "language": "python",
   "name": "python3"
  },
  "language_info": {
   "codemirror_mode": {
    "name": "ipython",
    "version": 3
   },
   "file_extension": ".py",
   "mimetype": "text/x-python",
   "name": "python",
   "nbconvert_exporter": "python",
   "pygments_lexer": "ipython3",
   "version": "3.9.13"
  }
 },
 "nbformat": 4,
 "nbformat_minor": 5
}
