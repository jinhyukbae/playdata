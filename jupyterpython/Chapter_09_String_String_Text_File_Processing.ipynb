{
 "cells": [
  {
   "cell_type": "markdown",
   "id": "d37aceb6",
   "metadata": {},
   "source": [
    "# 9장 문자열과 텍스트 파일 데이터 다루기\n",
    "\n",
    "# 9.1 문자열 다루기\n",
    "\n",
    "# 문자열 분리하기\n",
    "\n",
    "# 문자열을 분리하고 싶을 때 split()메서드를 사용한다. str.split([sep])"
   ]
  },
  {
   "cell_type": "code",
   "execution_count": 4,
   "id": "e9ca0454",
   "metadata": {},
   "outputs": [
    {
     "data": {
      "text/plain": [
       "['에스프레소,', '메리카노,카페라테,카푸치노']"
      ]
     },
     "execution_count": 4,
     "metadata": {},
     "output_type": "execute_result"
    }
   ],
   "source": [
    "coffee_menu_str = \"에스프레소,아메리카노,카페라테,카푸치노\"\n",
    "coffee_menu_str.split(',') #,를 기준으로 분리\n",
    "coffee_menu_str.split('아') #아를 기준으로 분리"
   ]
  },
  {
   "cell_type": "markdown",
   "id": "5fa9360a",
   "metadata": {},
   "source": [
    "# 문자열에 직접 split()메서드를 사용할 수 있다."
   ]
  },
  {
   "cell_type": "code",
   "execution_count": 5,
   "id": "a390ceed",
   "metadata": {},
   "outputs": [
    {
     "data": {
      "text/plain": [
       "['에스프레소', '아메리카노', '카페라테', '카푸치노']"
      ]
     },
     "execution_count": 5,
     "metadata": {},
     "output_type": "execute_result"
    }
   ],
   "source": [
    "\"에스프레소,아메리카노,카페라테,카푸치노\".split(',')"
   ]
  },
  {
   "cell_type": "code",
   "execution_count": 7,
   "id": "35edf1ba",
   "metadata": {},
   "outputs": [
    {
     "data": {
      "text/plain": [
       "['에스프레소', '아메리카노', '카페라테', '카푸치노']"
      ]
     },
     "execution_count": 7,
     "metadata": {},
     "output_type": "execute_result"
    }
   ],
   "source": [
    "\"에스프레소 아메리카노 카페라테 카푸치노\".split(' ') #공백을 기준으로 자름"
   ]
  },
  {
   "cell_type": "code",
   "execution_count": 9,
   "id": "ce2e0fdb",
   "metadata": {},
   "outputs": [
    {
     "data": {
      "text/plain": [
       "['에스프레소', '아메리카노', '카페라테', '카푸치노']"
      ]
     },
     "execution_count": 9,
     "metadata": {},
     "output_type": "execute_result"
    }
   ],
   "source": [
    "\"에스프레소 아메리카노 카페라테 카푸치노\".split()"
   ]
  },
  {
   "cell_type": "markdown",
   "id": "50681215",
   "metadata": {},
   "source": [
    "# 문자열에 인자없이 split를 사용하면 모든 공백과 개행문자를 없앨 수 있다."
   ]
  },
  {
   "cell_type": "code",
   "execution_count": 10,
   "id": "0635d73e",
   "metadata": {},
   "outputs": [
    {
     "data": {
      "text/plain": [
       "['에스프레소', '아메리카노', '카페라테', '카푸치노']"
      ]
     },
     "execution_count": 10,
     "metadata": {},
     "output_type": "execute_result"
    }
   ],
   "source": [
    "\"   에스프레소 \\n\\n 아메리카노 \\n 카페라테    카푸치노  \\n\\n\".split()"
   ]
  },
  {
   "cell_type": "markdown",
   "id": "e1bb570c",
   "metadata": {},
   "source": [
    "# 원하는 횟수만큼만 문자열을 분리할 때\n",
    "# str.split([sep ,] maxsplit=숫자 )"
   ]
  },
  {
   "cell_type": "code",
   "execution_count": 13,
   "id": "3b64de92",
   "metadata": {},
   "outputs": [
    {
     "data": {
      "text/plain": [
       "['에스프레소', '아메리카노', '카페라테 카푸치노']"
      ]
     },
     "execution_count": 13,
     "metadata": {},
     "output_type": "execute_result"
    }
   ],
   "source": [
    "\"에스프레소 아메리카노 카페라테 카푸치노\".split(maxsplit=2) # 2번만 분리 "
   ]
  },
  {
   "cell_type": "code",
   "execution_count": 16,
   "id": "d1794c06",
   "metadata": {},
   "outputs": [
    {
     "name": "stdout",
     "output_type": "stream",
     "text": [
      "['+82', '01-2345-6789']\n",
      "국내 전화번호: 01-2345-6789\n",
      "국가 번호: +82\n"
     ]
    }
   ],
   "source": [
    "phone_number = \"+82-01-2345-6789\"  #국가번호가 포함된 전화번호\n",
    "split_num = phone_number.split(\"-\", 1) #국가번호와 나머지 번호 분리\n",
    "\n",
    "print(split_num) # 82, 01-2345-6789 둘로 나뉨 \n",
    "print(\"국내 전화번호: {0}\".format(split_num[1])) #1번을 호출하면 01-2345-6789가 나옴\n",
    "print(\"국가 번호: {0}\".format(split_num[0]))"
   ]
  },
  {
   "cell_type": "markdown",
   "id": "7f2ce142",
   "metadata": {},
   "source": [
    "# 필요없는 문자열 삭제하기\n",
    "# 앞뒤 공백 또는 필요없는 문자 삭제\n",
    "# str.strip([chars])"
   ]
  },
  {
   "cell_type": "code",
   "execution_count": 19,
   "id": "ff51277c",
   "metadata": {},
   "outputs": [
    {
     "data": {
      "text/plain": [
       "'python'"
      ]
     },
     "execution_count": 19,
     "metadata": {},
     "output_type": "execute_result"
    }
   ],
   "source": [
    "\"aaaaaaaaapythonaaa\".strip('a') #앞과 뒤 동시에 일어남"
   ]
  },
  {
   "cell_type": "markdown",
   "id": "032e019e",
   "metadata": {},
   "source": [
    "# 두번 실행"
   ]
  },
  {
   "cell_type": "code",
   "execution_count": 31,
   "id": "954d1206",
   "metadata": {},
   "outputs": [
    {
     "data": {
      "text/plain": [
       "'bbbpythonbbbbb'"
      ]
     },
     "execution_count": 31,
     "metadata": {},
     "output_type": "execute_result"
    }
   ],
   "source": [
    "test_str = \"aaaabbbpythonbbbbbaa\" #문자열 앞 뒤의 a제거\n",
    "temp1 = test_str.strip('a')\n",
    "temp1"
   ]
  },
  {
   "cell_type": "code",
   "execution_count": 32,
   "id": "ada6f88c",
   "metadata": {},
   "outputs": [
    {
     "data": {
      "text/plain": [
       "'python'"
      ]
     },
     "execution_count": 32,
     "metadata": {},
     "output_type": "execute_result"
    }
   ],
   "source": [
    "temp1.strip('b') #문자열 앞 뒤의 b제거"
   ]
  },
  {
   "cell_type": "code",
   "execution_count": 33,
   "id": "8675a66e",
   "metadata": {},
   "outputs": [
    {
     "data": {
      "text/plain": [
       "'python'"
      ]
     },
     "execution_count": 33,
     "metadata": {},
     "output_type": "execute_result"
    }
   ],
   "source": [
    "test_str.strip('ab') #문자열 앞 뒤의 a와b 제거 "
   ]
  },
  {
   "cell_type": "markdown",
   "id": "af230362",
   "metadata": {},
   "source": [
    "# 순서는 상관없음 \n"
   ]
  },
  {
   "cell_type": "code",
   "execution_count": 36,
   "id": "d6323ce7",
   "metadata": {},
   "outputs": [
    {
     "data": {
      "text/plain": [
       "'python'"
      ]
     },
     "execution_count": 36,
     "metadata": {},
     "output_type": "execute_result"
    }
   ],
   "source": [
    "test_str.strip('ba')"
   ]
  },
  {
   "cell_type": "markdown",
   "id": "01754a3d",
   "metadata": {},
   "source": [
    "# 더 많은 문자를 삭제하는 예\n"
   ]
  },
  {
   "cell_type": "code",
   "execution_count": 38,
   "id": "293b79dc",
   "metadata": {},
   "outputs": [
    {
     "data": {
      "text/plain": [
       "'Python is powerful'"
      ]
     },
     "execution_count": 38,
     "metadata": {},
     "output_type": "execute_result"
    }
   ],
   "source": [
    "test_str_multi = \"##***!!!##.... Python is powerful.!... %%!#..\"\n",
    "test_str_multi.strip('*.#! %')"
   ]
  },
  {
   "cell_type": "code",
   "execution_count": 40,
   "id": "e988fd9b",
   "metadata": {},
   "outputs": [
    {
     "data": {
      "text/plain": [
       "'Python is powerful'"
      ]
     },
     "execution_count": 40,
     "metadata": {},
     "output_type": "execute_result"
    }
   ],
   "source": [
    "test_str_multi.strip('!@#$%^&.* ')"
   ]
  },
  {
   "cell_type": "code",
   "execution_count": 42,
   "id": "4722b358",
   "metadata": {},
   "outputs": [
    {
     "data": {
      "text/plain": [
       "'Python'"
      ]
     },
     "execution_count": 42,
     "metadata": {},
     "output_type": "execute_result"
    }
   ],
   "source": [
    "\" Python     \".strip( )\n",
    "\" Python     \".strip(' ' )"
   ]
  },
  {
   "cell_type": "markdown",
   "id": "893292b2",
   "metadata": {},
   "source": [
    "# 개행문자 삭제하기"
   ]
  },
  {
   "cell_type": "code",
   "execution_count": 43,
   "id": "ca3935d4",
   "metadata": {},
   "outputs": [
    {
     "data": {
      "text/plain": [
       "'python'"
      ]
     },
     "execution_count": 43,
     "metadata": {},
     "output_type": "execute_result"
    }
   ],
   "source": [
    "\" \\n python \\n\\n\".strip( ' \\n')"
   ]
  },
  {
   "cell_type": "code",
   "execution_count": 44,
   "id": "b37c614d",
   "metadata": {},
   "outputs": [
    {
     "data": {
      "text/plain": [
       "'python'"
      ]
     },
     "execution_count": 44,
     "metadata": {},
     "output_type": "execute_result"
    }
   ],
   "source": [
    "\"\\n python \\n\\n\".strip()"
   ]
  },
  {
   "cell_type": "markdown",
   "id": "612449dc",
   "metadata": {},
   "source": [
    "# 지정한 문자 외 다른 문자를 만날때가지만 삭제"
   ]
  },
  {
   "cell_type": "code",
   "execution_count": 45,
   "id": "1afef928",
   "metadata": {},
   "outputs": [
    {
     "data": {
      "text/plain": [
       "'Ball'"
      ]
     },
     "execution_count": 45,
     "metadata": {},
     "output_type": "execute_result"
    }
   ],
   "source": [
    "\"aaaBallaaaaa\".strip('a')"
   ]
  },
  {
   "cell_type": "markdown",
   "id": "8fcba89c",
   "metadata": {},
   "source": [
    "# 문자열 사이는 없어지지 않는다.\n"
   ]
  },
  {
   "cell_type": "code",
   "execution_count": 46,
   "id": "e5929e63",
   "metadata": {},
   "outputs": [
    {
     "data": {
      "text/plain": [
       "'this is very \\n fast.'"
      ]
     },
     "execution_count": 46,
     "metadata": {},
     "output_type": "execute_result"
    }
   ],
   "source": [
    "\"\\n this is very \\n fast. \\n\\n\".strip()"
   ]
  },
  {
   "cell_type": "markdown",
   "id": "20fe3aaf",
   "metadata": {},
   "source": [
    "# 문자열 왼쪽만 lstrip\n",
    "# 문자열 오른쪽만 rstrip"
   ]
  },
  {
   "cell_type": "code",
   "execution_count": 49,
   "id": "961eaad2",
   "metadata": {},
   "outputs": [
    {
     "name": "stdout",
     "output_type": "stream",
     "text": [
      "python is easy to learn.\n",
      "python is easy to learn.000\n",
      "000python is easy to learn.\n"
     ]
    }
   ],
   "source": [
    "str_lr = \"000python is easy to learn.000\"\n",
    "print(str_lr.strip('0')) #전체 0 제거\n",
    "print(str_lr.lstrip('0'))  # 왼쪽 0 제거\n",
    "print(str_lr.rstrip('0')) # 오른쪽 0 제거"
   ]
  },
  {
   "cell_type": "markdown",
   "id": "b17bda0c",
   "metadata": {},
   "source": [
    "# 리스트에서 콤마의 공백을 제거 후 공백제거\n"
   ]
  },
  {
   "cell_type": "code",
   "execution_count": 54,
   "id": "94481072",
   "metadata": {},
   "outputs": [
    {
     "data": {
      "text/plain": [
       "['  에스프레소', '        아메리카노', '         카페라테', '         카푸치노  ']"
      ]
     },
     "execution_count": 54,
     "metadata": {},
     "output_type": "execute_result"
    }
   ],
   "source": [
    "coffee_menu = \"  에스프레소,        아메리카노,         카페라테,         카푸치노  \"\n",
    "coffee_menu_list = coffee_menu.split(',')\n",
    "coffee_menu_list"
   ]
  },
  {
   "cell_type": "code",
   "execution_count": 56,
   "id": "f7502d6f",
   "metadata": {},
   "outputs": [
    {
     "name": "stdout",
     "output_type": "stream",
     "text": [
      "['에스프레소', '아메리카노', '카페라테', '카푸치노']\n"
     ]
    }
   ],
   "source": [
    "coffee_menu = \"  에스프레소,        아메리카노,         카페라테,         카푸치노  \"\n",
    "coffee_menu_list = coffee_menu.split(',')\n",
    "coffee_list = [] # 빈 리스트 생성\n",
    "for coffee in coffee_menu_list: #커피메뉴리스트에 속한 요소값들을 커피에 하나씩 추출해서 담음 for문이 끝날 때 까지 \n",
    "    temp = coffee.strip() #에스프레소를 담고 공백제거후 temp에 담음 아메리카노를 넣고 공백제거후 temp에 담음\n",
    "    coffee_list.append(temp) #coffee_list 라는 곳에 temp의 요소를 하나씩 추가함 에스프레소 추가 후 아메리카노 추가 후 카페라떼 추가 후 카푸치노 추가\n",
    "    \n",
    "print(coffee_list)# 커피리스트 출력    \n",
    "    "
   ]
  },
  {
   "cell_type": "markdown",
   "id": "9321174f",
   "metadata": {},
   "source": [
    "# 문자열 연결하기\n",
    "# 더하기 연산자로 문자열 연결하기"
   ]
  },
  {
   "cell_type": "code",
   "execution_count": 58,
   "id": "4aeee42a",
   "metadata": {},
   "outputs": [
    {
     "name": "stdout",
     "output_type": "stream",
     "text": [
      "철수님, 주소와 전화 번호를 입력해 주세요.\n",
      "영미님, 주소와 전화 번호를 입력해 주세요.\n"
     ]
    }
   ],
   "source": [
    "name1 = \"철수\"\n",
    "name2 = \"영미\"\n",
    "hello = \"님, 주소와 전화 번호를 입력해 주세요.\"\n",
    "print(name1 + hello)\n",
    "print(name2 + hello)"
   ]
  },
  {
   "cell_type": "markdown",
   "id": "e98da0a4",
   "metadata": {},
   "source": [
    "# join()메서드를 사용하기\n",
    "# 문자열을 항목으로 갖는 시퀀스(seq)의 항목 사이에 구분자 문자열(str)을 모두 넣은 후에 문자열로 반환된다.\n",
    "\n",
    "# str.join(seq)"
   ]
  },
  {
   "cell_type": "code",
   "execution_count": 59,
   "id": "3dc375ab",
   "metadata": {},
   "outputs": [
    {
     "data": {
      "text/plain": [
       "['서울시', '서초구', '반포대로', '201(반포동)']"
      ]
     },
     "execution_count": 59,
     "metadata": {},
     "output_type": "execute_result"
    }
   ],
   "source": [
    "addr_list = [\"서울시\",\"서초구\",\"반포대로\",\"201(반포동)\"]\n",
    "addr_list"
   ]
  },
  {
   "cell_type": "code",
   "execution_count": 60,
   "id": "1f32ae05",
   "metadata": {},
   "outputs": [
    {
     "data": {
      "text/plain": [
       "'서울시 서초구 반포대로 201(반포동)'"
      ]
     },
     "execution_count": 60,
     "metadata": {},
     "output_type": "execute_result"
    }
   ],
   "source": [
    "a = \" \" #사이에 공백을 넣어라\n",
    "a.join(addr_list)"
   ]
  },
  {
   "cell_type": "code",
   "execution_count": 61,
   "id": "4e41b026",
   "metadata": {},
   "outputs": [
    {
     "data": {
      "text/plain": [
       "'서울시 서초구 반포대로 201(반포동)'"
      ]
     },
     "execution_count": 61,
     "metadata": {},
     "output_type": "execute_result"
    }
   ],
   "source": [
    "\" \".join(addr_list)"
   ]
  },
  {
   "cell_type": "code",
   "execution_count": 63,
   "id": "4505e5c8",
   "metadata": {},
   "outputs": [
    {
     "data": {
      "text/plain": [
       "'서울시*^-^*서초구*^-^*반포대로*^-^*201(반포동)'"
      ]
     },
     "execution_count": 63,
     "metadata": {},
     "output_type": "execute_result"
    }
   ],
   "source": [
    "\"*^-^*\".join(addr_list)"
   ]
  },
  {
   "cell_type": "markdown",
   "id": "d0b82ad0",
   "metadata": {},
   "source": [
    "# 문자열 찾기 \n",
    "\n",
    "# find() 메서드\n",
    "\n",
    "# str.find(search_str)\n",
    "\n",
    "# 문자열에서 찾으려는 검색 문자열(search_str)과 첫번째로 일치하는 문자열 (str)의 위치를 반환한다."
   ]
  },
  {
   "cell_type": "code",
   "execution_count": 70,
   "id": "27c7364b",
   "metadata": {},
   "outputs": [
    {
     "name": "stdout",
     "output_type": "stream",
     "text": [
      "찾는 문자열의 위치: 0\n",
      "찾는 문자열의 위치: 7\n",
      "찾는 문자열의 위치: 5\n",
      "찾는 문자열의 위치: -1\n"
     ]
    }
   ],
   "source": [
    "str_f = \"python code.\"\n",
    "\n",
    "print(\"찾는 문자열의 위치:\",str_f.find(\"python\"))\n",
    "print(\"찾는 문자열의 위치:\",str_f.find(\"code\")) #공백도 넘버에 포함된다\n",
    "print(\"찾는 문자열의 위치:\",str_f.find(\"n\"))\n",
    "print(\"찾는 문자열의 위치:\",str_f.find(\"easy\"))"
   ]
  },
  {
   "cell_type": "markdown",
   "id": "781fb24c",
   "metadata": {},
   "source": [
    "# 시작과 끝 위치를 추가로 지정 가능\n",
    "\n",
    "# str.find(search_str, start, end)\n"
   ]
  },
  {
   "cell_type": "code",
   "execution_count": 73,
   "id": "e331443f",
   "metadata": {},
   "outputs": [
    {
     "name": "stdout",
     "output_type": "stream",
     "text": [
      "20\n",
      "-1\n"
     ]
    }
   ],
   "source": [
    "str_f_se = \"python is powerful. python is easy to learn.\"\n",
    "\n",
    "print(str_f_se.find(\"python\", 10, 30)) #파이썬이라는 문자를 찾아줘 10번째부터 30번째 범위내에서 20번째에 있으므로 20 출력 \n",
    "print(str_f_se.find(\"python\", 35)) # 파이썬 이라는 문자를 찾아줘 35번째부터 끝까지 범위내에서 없으므로 -1 출력 \n",
    "# 하나만 지정하면 시작을 의미"
   ]
  },
  {
   "cell_type": "markdown",
   "id": "b40dee76",
   "metadata": {},
   "source": [
    "# 해당 문자열이 몇 번 나오는지 알고 싶을 때는 count()메서드 이용\n",
    "\n",
    "# str.count(search_str)\n",
    "# str.count(search_str, start)\n",
    "# str.count(search_str, start, end)\n",
    "\n"
   ]
  },
  {
   "cell_type": "code",
   "execution_count": 78,
   "id": "fecd8f6e",
   "metadata": {},
   "outputs": [
    {
     "name": "stdout",
     "output_type": "stream",
     "text": [
      "Python의 개수는?:  3\n",
      "powerful의 개수는?:  1\n",
      "IPython의 개수는?:  0\n"
     ]
    }
   ],
   "source": [
    "str_c = \"Python is powerful. Python is easy to learn Python is open\"\n",
    "\n",
    "print(\"Python의 개수는?: \", str_c.count(\"Python\"))\n",
    "print(\"powerful의 개수는?: \", str_c.count(\"powerful\"))\n",
    "print(\"IPython의 개수는?: \", str_c.count(\"IPython\"))"
   ]
  },
  {
   "cell_type": "markdown",
   "id": "f75b4e7b",
   "metadata": {},
   "source": [
    "# startswith()와 endswith()\n",
    "\n",
    "# 해당 문자열로 시작하는지와 끝나는지를 검사한다. 시작하거나 끝나면 True를 아니면 False를 출력한다."
   ]
  },
  {
   "cell_type": "code",
   "execution_count": 82,
   "id": "ca786f86",
   "metadata": {},
   "outputs": [
    {
     "name": "stdout",
     "output_type": "stream",
     "text": [
      "Python으로 시작?:  True\n",
      "is로 시작?:  False\n",
      ".로 끝?:  True\n",
      "learn로 끝?:  False\n"
     ]
    }
   ],
   "source": [
    "str_se = \"Python is powerful. Python is easy to learn Python is open.\"\n",
    "\n",
    "print(\"Python으로 시작?: \", str_se.startswith(\"Python\"))\n",
    "print(\"is로 시작?: \", str_se.startswith(\"is\"))\n",
    "print(\".로 끝?: \", str_se.endswith(\".\"))\n",
    "print(\"learn로 끝?: \", str_se.endswith(\"learn\"))"
   ]
  },
  {
   "cell_type": "markdown",
   "id": "a13976bc",
   "metadata": {},
   "source": [
    "# 문자열 바꾸기\n",
    "\n",
    "# replace() 문자열에서 지정한 문자열을 찾아서 바꾸는 메서드\n",
    "\n",
    "# str.replace(old, new, maxcount)"
   ]
  },
  {
   "cell_type": "code",
   "execution_count": 84,
   "id": "12d07ce1",
   "metadata": {},
   "outputs": [
    {
     "name": "stdout",
     "output_type": "stream",
     "text": [
      "ipython is fast. ipython is friendly. ipython is open\n",
      "ipython is fast. ipython is friendly. python is open\n"
     ]
    }
   ],
   "source": [
    "str_a = 'python is fast. python is friendly. python is open'\n",
    "print(str_a.replace('python','ipython')) #파이선을 아이파이선으로 모두 변경\n",
    "print(str_a.replace('python','ipython', 2)) #파이선을 아이파이선으로 2번까지만 변경\n"
   ]
  },
  {
   "cell_type": "markdown",
   "id": "cd0c767a",
   "metadata": {},
   "source": [
    "# 제거할 때도 사용된다.\n"
   ]
  },
  {
   "cell_type": "code",
   "execution_count": 85,
   "id": "a4fafc0a",
   "metadata": {},
   "outputs": [
    {
     "name": "stdout",
     "output_type": "stream",
     "text": [
      "[python] [is] [fast]\n",
      "python] is] fast]\n",
      "python is fast\n"
     ]
    }
   ],
   "source": [
    "str_b = '[python] [is] [fast]'\n",
    "str_b1 = str_b.replace('[', '') #str_b에서 [를 찾아서 '' 공백으로 만들어라\n",
    "str_b2 = str_b1.replace(']', '') #str_b1에서 ]를 찾아서 '' 공백으로 만들어라\n",
    "\n",
    "print(str_b)\n",
    "print(str_b1)\n",
    "print(str_b2)"
   ]
  },
  {
   "cell_type": "markdown",
   "id": "81de6ba5",
   "metadata": {},
   "source": [
    "# 문자열의 구성 확인하기\n",
    "\n",
    "# 문자열이 어떻게 이루어져 있는 확인하기 위한 함수\n",
    "\n",
    "# isalpha() = 문자열이 숫자,특수문자,공백이 아닌 문자로 구성되어 있을 때만 True\n",
    "# isdigit() = 문자열이 모두 숫자로 구성되어 있을 때만 True\n",
    "# isalnum() = 문자열이 특수 문자나 공백이 아닌 문자와 숫자로 구성돼 있을때만 True\n",
    "# isspace() = 문자열이 모두 공백 문자로 구성되어 있을때만 True\n",
    "# issupper() = 문자열이 모두 로마자 대문자로 구성돼 있을 때만 True\n",
    "# islower() = 문자열이 모두 로마자 소문자로 구성돼 있을때만 True\n",
    "\n",
    "\n"
   ]
  },
  {
   "cell_type": "code",
   "execution_count": 87,
   "id": "4016b16e",
   "metadata": {},
   "outputs": [
    {
     "name": "stdout",
     "output_type": "stream",
     "text": [
      "True\n",
      "False\n"
     ]
    }
   ],
   "source": [
    "print('python'.isalpha()) #문자열에 공백 특수문자 숫자가 없으면 true\n",
    "print(\"Ver . 3. x.\".isalpha()) 문자 외에 false"
   ]
  },
  {
   "cell_type": "code",
   "execution_count": 89,
   "id": "6f579ce2",
   "metadata": {},
   "outputs": [
    {
     "name": "stdout",
     "output_type": "stream",
     "text": [
      "True\n",
      "False\n"
     ]
    }
   ],
   "source": [
    "print('12345'.isdigit()) # 문자열이 모두 숫자로 구성\n",
    "print('12345abc'.isdigit()) # 숫자 외에 false"
   ]
  },
  {
   "cell_type": "code",
   "execution_count": 95,
   "id": "58c37e3e",
   "metadata": {},
   "outputs": [
    {
     "name": "stdout",
     "output_type": "stream",
     "text": [
      "True\n",
      "False\n"
     ]
    }
   ],
   "source": [
    "print('abc1234'.isalnum()) #특문이나 공백이 아닌 문자와 숫자로 구성됐으면 true\n",
    "print('    abc1234'.isalnum()) # 문자와 숫자 외엔 false"
   ]
  },
  {
   "cell_type": "code",
   "execution_count": 96,
   "id": "38a730fd",
   "metadata": {},
   "outputs": [
    {
     "name": "stdout",
     "output_type": "stream",
     "text": [
      "True\n",
      "False\n"
     ]
    }
   ],
   "source": [
    "print('    '.isspace()) # 문자열이 공백으로만 구성\n",
    "print(' 1  '.isspace()) #  공백 외엔 false"
   ]
  },
  {
   "cell_type": "code",
   "execution_count": 99,
   "id": "64c266b7",
   "metadata": {},
   "outputs": [
    {
     "name": "stdout",
     "output_type": "stream",
     "text": [
      "True\n",
      "False\n",
      "True\n",
      "False\n"
     ]
    }
   ],
   "source": [
    "print('PYTHON'.isupper()) # 문자열이 모두 대문자 면 ture\n",
    "print('Python'.isupper()) # 문자열이 대문자 소문자 섞여 있음 false\n",
    "print('python'.islower()) # 문자열이 모두 소문자면 true\n",
    "print('Python'.islower()) # 문자열에 대문자가 이음 false\n",
    "\n"
   ]
  },
  {
   "cell_type": "markdown",
   "id": "e1078546",
   "metadata": {},
   "source": [
    "# 대소문자로 변경하기\n",
    "\n",
    "# str.lower =ㅁ 모두 소문자\n",
    "# str.upper = 모두 대문자로 변경\n"
   ]
  },
  {
   "cell_type": "code",
   "execution_count": 108,
   "id": "e54511f6",
   "metadata": {},
   "outputs": [
    {
     "name": "stdout",
     "output_type": "stream",
     "text": [
      "python is powerful. python is easy to learn\n",
      "PYTHON IS POWERFUL. PYTHON IS EASY TO LEARN\n"
     ]
    }
   ],
   "source": [
    "string1 = (\"python is powerful. PYTHON IS EASY TO LEARN\")\n",
    "print(string1.lower()) # 모두 소문자\n",
    "print(string1.upper()) #모두 대문자"
   ]
  },
  {
   "cell_type": "code",
   "execution_count": 109,
   "id": "cedada65",
   "metadata": {},
   "outputs": [
    {
     "name": "stdout",
     "output_type": "stream",
     "text": [
      "True\n",
      "True\n"
     ]
    }
   ],
   "source": [
    "print('Python'.lower () == 'python'.lower())\n",
    "print('Python'.upper () == 'python'.upper())"
   ]
  },
  {
   "cell_type": "markdown",
   "id": "787acf2a",
   "metadata": {},
   "source": [
    "# 9.2 텍스트 파일의 데이터를 읽고 처리하기\n",
    "\n",
    "# 데이터 파일 준비 및 읽기\n"
   ]
  },
  {
   "cell_type": "code",
   "execution_count": 113,
   "id": "985fbdc2",
   "metadata": {},
   "outputs": [
    {
     "name": "stdout",
     "output_type": "stream",
     "text": [
      "날짜    에스프레소  아메리카노  카페라테  카푸치노 \n",
      "10.15       10          50         45        20    \n",
      "10.16       12          45         41        18    \n",
      "10.17       11          53         32        25    \n",
      "10.18       15          49         38        22    \n"
     ]
    }
   ],
   "source": [
    "!type c:\\myPyCode\\data\\coffeeShopSales.txt"
   ]
  },
  {
   "cell_type": "code",
   "execution_count": 111,
   "id": "7602259d",
   "metadata": {},
   "outputs": [
    {
     "name": "stdout",
     "output_type": "stream",
     "text": [
      "c:\\myPyCode\\data\n"
     ]
    }
   ],
   "source": [
    "cd c:\\myPyCode\\data"
   ]
  },
  {
   "cell_type": "code",
   "execution_count": 112,
   "id": "fb8e80b6",
   "metadata": {},
   "outputs": [],
   "source": [
    "#입력\n",
    "f = open('coffeeShopSales.txt', 'w')\n",
    "f.write('날짜    에스프레소  아메리카노  카페라테  카푸치노 \\n')\n",
    "f.write('10.15       10          50         45        20    \\n')\n",
    "f.write('10.16       12          45         41        18    \\n')\n",
    "f.write('10.17       11          53         32        25    \\n')\n",
    "f.write('10.18       15          49         38        22    \\n')\n",
    "f.close()\n"
   ]
  },
  {
   "cell_type": "code",
   "execution_count": 114,
   "id": "906c14ac",
   "metadata": {},
   "outputs": [
    {
     "name": "stdout",
     "output_type": "stream",
     "text": [
      "날짜    에스프레소  아메리카노  카페라테  카푸치노 \n",
      "10.15       10          50         45        20    \n",
      "10.16       12          45         41        18    \n",
      "10.17       11          53         32        25    \n",
      "10.18       15          49         38        22    \n"
     ]
    }
   ],
   "source": [
    "#출력\n",
    "file_name = 'c:\\myPyCode\\data\\coffeeShopSales.txt'\n",
    "\n",
    "f = open(file_name) #파일 열기\n",
    "for line in f: # 한줄 씩 읽기 f를 line 에 집어넣고 차례차례 반복 \n",
    "    print(line, end='') #한줄 씩 출력\n",
    "f.close() #파일 닫기    "
   ]
  },
  {
   "cell_type": "markdown",
   "id": "b9a1138b",
   "metadata": {},
   "source": [
    "# 파일에서 읽은 문자열 데이터 처리\n",
    "\n",
    "# 첫 번째 줄에 있는 항목이름을 가져와 빈칸을 기준으로 나누고, 두번째 줄 이후의 항목값을 처리"
   ]
  },
  {
   "cell_type": "code",
   "execution_count": 115,
   "id": "6c773e8d",
   "metadata": {},
   "outputs": [
    {
     "data": {
      "text/plain": [
       "'날짜    에스프레소  아메리카노  카페라테  카푸치노 \\n'"
      ]
     },
     "execution_count": 115,
     "metadata": {},
     "output_type": "execute_result"
    }
   ],
   "source": [
    "f = open(file_name) #파일 열기\n",
    "header = f.readline() # 데이터의 첫번 째 줄을 읽음\n",
    "f.close() #파일 닫기\n",
    "\n",
    "header"
   ]
  },
  {
   "cell_type": "markdown",
   "id": "99809a3e",
   "metadata": {},
   "source": [
    "# split을 이용해 리스트 만들기"
   ]
  },
  {
   "cell_type": "code",
   "execution_count": 116,
   "id": "e7440748",
   "metadata": {},
   "outputs": [
    {
     "data": {
      "text/plain": [
       "['날짜', '에스프레소', '아메리카노', '카페라테', '카푸치노']"
      ]
     },
     "execution_count": 116,
     "metadata": {},
     "output_type": "execute_result"
    }
   ],
   "source": [
    "header_list = header.split() # 첫 줄의 문자열을 분리후 리스트로 변환\n",
    "header_list"
   ]
  },
  {
   "cell_type": "markdown",
   "id": "2cee0f79",
   "metadata": {},
   "source": [
    "# for 문을 이용하여 각 항목을 data_list에 넣는 코드"
   ]
  },
  {
   "cell_type": "code",
   "execution_count": 118,
   "id": "432a3113",
   "metadata": {},
   "outputs": [
    {
     "name": "stdout",
     "output_type": "stream",
     "text": [
      "['10.15', '10', '50', '45', '20']\n",
      "['10.16', '12', '45', '41', '18']\n",
      "['10.17', '11', '53', '32', '25']\n",
      "['10.18', '15', '49', '38', '22']\n"
     ]
    }
   ],
   "source": [
    "f = open(file_name)    #파일 열기\n",
    "header = f.readline()  # 데이터 첫번 째 줄 읽음\n",
    "header_list = header.split() # 첫줄 문자열을 분리한 후 리스트로 변환\n",
    "\n",
    "for line in f: #두번째 줄부터 반복적으로 처리\n",
    "    data_list = line.split() #문자열을 분리해서 리스트로 변환\n",
    "    print(data_list) #결과 확인을 위해 리스트 출력\n",
    "    \n",
    "f.close()    # 파일 다기"
   ]
  },
  {
   "cell_type": "markdown",
   "id": "8c03d649",
   "metadata": {},
   "source": [
    "# 문자열로 되어 있는 리스트를 숫자로 변환 후 , 커피 종류 별로 판매량 데이터를 분류해서 넣기 "
   ]
  },
  {
   "cell_type": "code",
   "execution_count": 122,
   "id": "5ff67f4f",
   "metadata": {},
   "outputs": [
    {
     "name": "stdout",
     "output_type": "stream",
     "text": [
      "에스프레소:[10, 12, 11, 15]\n",
      "아메리카노:[50, 45, 53, 49]\n",
      "카페라테:[45, 41, 32, 38]\n",
      "카푸치노:[20, 18, 25, 22]\n"
     ]
    }
   ],
   "source": [
    "f = open(file_name)\n",
    "header = f.readline()\n",
    "headerList = header.split()\n",
    "\n",
    "espresso = []\n",
    "americano = []\n",
    "cafelatte = []\n",
    "cappucino = []\n",
    "\n",
    "for line in f:\n",
    "    dataList = line.split()\n",
    "    espresso.append(int(dataList[1]))\n",
    "    americano.append(int(dataList[2]))\n",
    "    cafelatte.append(int(dataList[3]))\n",
    "    cappucino.append(int(dataList[4]))\n",
    "    \n",
    "f.close()\n",
    "\n",
    "print(\"{0}:{1}\".format(headerList[1], espresso)) #headerList의 1번째는 에스프레소 \n",
    "print(\"{0}:{1}\".format(headerList[2], americano))\n",
    "print(\"{0}:{1}\".format(headerList[3], cafelatte))\n",
    "print(\"{0}:{1}\".format(headerList[4], cappucino))\n",
    "    "
   ]
  },
  {
   "cell_type": "markdown",
   "id": "be885d8e",
   "metadata": {},
   "source": [
    "# 나흘간 메뉴별 판매량과 하루 평균 판매량 구하기"
   ]
  },
  {
   "cell_type": "code",
   "execution_count": 123,
   "id": "9fcada99",
   "metadata": {},
   "outputs": [
    {
     "name": "stdout",
     "output_type": "stream",
     "text": [
      "[에스프레소]\n",
      "- 나흘 전체: 48, 하루 평균:12.0\n",
      "[아메리카노]\n",
      "- 나흘 전체: 197, 하루 평균:49.25\n",
      "[카페라테]\n",
      "- 나흘 전체: 156, 하루 평균:39.0\n",
      "[카푸치노]\n",
      "- 나흘 전체: 85, 하루 평균:21.25\n"
     ]
    }
   ],
   "source": [
    "total_sum = [sum(espresso), sum(americano), sum(cafelatte), sum(cappucino)]\n",
    "total_avg = [sum(espresso)/len(espresso), # 평균 sum/len\n",
    "             sum(americano)/len(americano), \n",
    "             sum(cafelatte)/len(cafelatte), \n",
    "             sum(cappucino)/len(cappucino)]\n",
    "\n",
    "for k in range(len(total_sum)):#total_sum의 len 요소 총 4개 \n",
    "    print('[{0}]'.format(headerList[k+1])) #k+1 날짜를 건너 뛰기 위해 +1 해줌 \n",
    "    print('- 나흘 전체: {0}, 하루 평균:{1}'.format(total_sum[k], total_avg[k]))"
   ]
  },
  {
   "cell_type": "code",
   "execution_count": null,
   "id": "1857e318",
   "metadata": {},
   "outputs": [],
   "source": [
    "#"
   ]
  }
 ],
 "metadata": {
  "kernelspec": {
   "display_name": "Python 3 (ipykernel)",
   "language": "python",
   "name": "python3"
  },
  "language_info": {
   "codemirror_mode": {
    "name": "ipython",
    "version": 3
   },
   "file_extension": ".py",
   "mimetype": "text/x-python",
   "name": "python",
   "nbconvert_exporter": "python",
   "pygments_lexer": "ipython3",
   "version": "3.9.13"
  }
 },
 "nbformat": 4,
 "nbformat_minor": 5
}
