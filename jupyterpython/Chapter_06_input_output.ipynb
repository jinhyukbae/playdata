{
 "cells": [
  {
   "cell_type": "markdown",
   "id": "fa2247d0",
   "metadata": {},
   "source": [
    "<h1>6.1 화면 출력</h1>"
   ]
  },
  {
   "cell_type": "code",
   "execution_count": 1,
   "id": "7ca0bf1c",
   "metadata": {},
   "outputs": [
    {
     "name": "stdout",
     "output_type": "stream",
     "text": [
      "hello python\n"
     ]
    }
   ],
   "source": [
    "print(\"hello python\")"
   ]
  },
  {
   "cell_type": "code",
   "execution_count": 2,
   "id": "6d047cf3",
   "metadata": {},
   "outputs": [
    {
     "name": "stdout",
     "output_type": "stream",
     "text": [
      "best python book\n"
     ]
    }
   ],
   "source": [
    "print(\"best\",\"python\",\"book\") #문자열 여러개를 연결하여 출력(자동으로 공백 발생)"
   ]
  },
  {
   "cell_type": "code",
   "execution_count": 3,
   "id": "74df9727",
   "metadata": {},
   "outputs": [
    {
     "name": "stdout",
     "output_type": "stream",
     "text": [
      "best|python|book\n"
     ]
    }
   ],
   "source": [
    "print(\"best\",\"python\",\"book\", sep= \"|\") #sep 활용(공백 대신 다른 문자열)"
   ]
  },
  {
   "cell_type": "code",
   "execution_count": 4,
   "id": "80d666ab",
   "metadata": {},
   "outputs": [
    {
     "name": "stdout",
     "output_type": "stream",
     "text": [
      "abcdefg\n"
     ]
    }
   ],
   "source": [
    "print(\"abcd\" + \"efg\")#빈칸 없이 문자를 연결할때 + 사용"
   ]
  },
  {
   "cell_type": "code",
   "execution_count": 7,
   "id": "5b19c167",
   "metadata": {},
   "outputs": [
    {
     "name": "stdout",
     "output_type": "stream",
     "text": [
      "best python book:this book\n"
     ]
    }
   ],
   "source": [
    "print(\"best\", \"python\", \"book\" +\":\"  \"this book\")"
   ]
  },
  {
   "cell_type": "code",
   "execution_count": 8,
   "id": "a1b1c5c7",
   "metadata": {},
   "outputs": [
    {
     "name": "stdout",
     "output_type": "stream",
     "text": [
      "10\n"
     ]
    }
   ],
   "source": [
    "x = 10\n",
    "print(x) #변수에 저장된 내용을 출력 할 때"
   ]
  },
  {
   "cell_type": "code",
   "execution_count": 9,
   "id": "153bf208",
   "metadata": {},
   "outputs": [
    {
     "name": "stdout",
     "output_type": "stream",
     "text": [
      "Name: james, ID Number:, ID_num\n"
     ]
    }
   ],
   "source": [
    "name = \"james\"\n",
    "ID_num = 789\n",
    "print(\"Name:\", name + \",\", \"ID Number:, ID_num\")\n",
    "#문자열과 숫자를 함께 출력"
   ]
  },
  {
   "cell_type": "code",
   "execution_count": 10,
   "id": "40c92ce0",
   "metadata": {},
   "outputs": [
    {
     "name": "stdout",
     "output_type": "stream",
     "text": [
      "james is my friend.\n",
      "he is korean\n"
     ]
    }
   ],
   "source": [
    "#여러줄로 출력하기 (개행문자 \\n)\n",
    "\n",
    "print(\"james is my friend.\\nhe is korean\")"
   ]
  },
  {
   "cell_type": "code",
   "execution_count": 11,
   "id": "e9c9aff7",
   "metadata": {},
   "outputs": [
    {
     "name": "stdout",
     "output_type": "stream",
     "text": [
      "james is my friend.\n",
      "\n",
      "he is korean\n"
     ]
    }
   ],
   "source": [
    "#줄바꿈\n",
    "print(\"james is my friend.\\n\\nhe is korean\")"
   ]
  },
  {
   "cell_type": "code",
   "execution_count": 14,
   "id": "454c2cff",
   "metadata": {},
   "outputs": [
    {
     "name": "stdout",
     "output_type": "stream",
     "text": [
      "welcome to\n",
      "python\n"
     ]
    }
   ],
   "source": [
    "#줄을 바꾸지 않고 출력\n",
    "print(\"welcome to\")\n",
    "print(\"python\")"
   ]
  },
  {
   "cell_type": "code",
   "execution_count": 19,
   "id": "4e1b823a",
   "metadata": {},
   "outputs": [
    {
     "name": "stdout",
     "output_type": "stream",
     "text": [
      "welcome topython\n"
     ]
    }
   ],
   "source": [
    "#두줄로 출력된 결과를 한줄로 출력하기 end\n",
    "print(\"welcome to\", end=\"\")\n",
    "print(\"python\")"
   ]
  },
  {
   "cell_type": "markdown",
   "id": "f96a1dbc",
   "metadata": {},
   "source": [
    "<h2>형식 지정 출력</h2>\n",
    "<h2>나머지 연산자 %를 이용한 형식 및 위치 지정 </h2>\n",
    "<h2>나머지 연산자를 이용한 데이터의 출력형식과 위치를 지정하는 기본구조</h2>"
   ]
  },
  {
   "cell_type": "code",
   "execution_count": 34,
   "id": "07c70a9b",
   "metadata": {},
   "outputs": [
    {
     "name": "stdout",
     "output_type": "stream",
     "text": [
      "광재는 나의 친구입니다.\n"
     ]
    }
   ],
   "source": [
    "name = \"광재\"\n",
    "print(\"%s는 나의 친구입니다.\" % name) # %s 는 문자열 "
   ]
  },
  {
   "cell_type": "code",
   "execution_count": 39,
   "id": "817f7a6f",
   "metadata": {},
   "outputs": [
    {
     "name": "stdout",
     "output_type": "stream",
     "text": [
      "반지름: 3 원주율: 3.141592\n"
     ]
    }
   ],
   "source": [
    "r = 3\n",
    "pi = 3.141592\n",
    "print(\"반지름: %d 원주율: %f\" %(r,pi)) # %d는 정수 %f는 실수 float"
   ]
  },
  {
   "cell_type": "markdown",
   "id": "b0c59726",
   "metadata": {},
   "source": [
    "<h2>형식 지정 문자열에서 출력 위치 지정</h2>"
   ]
  },
  {
   "cell_type": "markdown",
   "id": "5ce2abd6",
   "metadata": {},
   "source": [
    "string.format을 이용하는 형식지정 문자열의 기본 구조\n",
    "<br>print(\"{},{}\"),format(,)"
   ]
  },
  {
   "cell_type": "code",
   "execution_count": 48,
   "id": "ec481e8d",
   "metadata": {},
   "outputs": [
    {
     "name": "stdout",
     "output_type": "stream",
     "text": [
      "Animal: cat\n",
      "Animal: dog\n",
      "Animal: cat,dog,fox\n",
      "cat,dog,fox\n"
     ]
    }
   ],
   "source": [
    "animal_0 = \"cat\"\n",
    "animal_1 = \"dog\"\n",
    "animal_2 = \"fox\"\n",
    "\n",
    "print(\"Animal: {0}\".format(animal_0))\n",
    "print(\"Animal: {0}\".format(animal_1))\n",
    "print(\"Animal: {0},{1},{2}\".format(animal_0,animal_1,animal_2))\n",
    "print(f\"{animal_0},{animal_1},{animal_2}\")"
   ]
  },
  {
   "cell_type": "markdown",
   "id": "bedaf38e",
   "metadata": {},
   "source": [
    "<h2>출력 위치 변경</h2>"
   ]
  },
  {
   "cell_type": "code",
   "execution_count": 54,
   "id": "ec067803",
   "metadata": {},
   "outputs": [
    {
     "name": "stdout",
     "output_type": "stream",
     "text": [
      "animal:dog,fox,cat\n"
     ]
    }
   ],
   "source": [
    "animal_0 = \"cat\"\n",
    "animal_1 = \"dog\"\n",
    "animal_2 = \"fox\"\n",
    "print(\"animal:{1},{2},{0}\".format(animal_0,animal_1,animal_2))"
   ]
  },
  {
   "cell_type": "code",
   "execution_count": 56,
   "id": "4475a33b",
   "metadata": {},
   "outputs": [
    {
     "name": "stdout",
     "output_type": "stream",
     "text": [
      "animal:fox,cat\n"
     ]
    }
   ],
   "source": [
    "print(\"animal:{2},{0}\".format(animal_0,animal_1,animal_2))"
   ]
  },
  {
   "cell_type": "code",
   "execution_count": 55,
   "id": "6095c2f9",
   "metadata": {},
   "outputs": [
    {
     "name": "stdout",
     "output_type": "stream",
     "text": [
      "animal:cat,dog,fox\n"
     ]
    }
   ],
   "source": [
    "print(\"animal:{},{},{}\".format(animal_0,animal_1,animal_2))"
   ]
  },
  {
   "cell_type": "markdown",
   "id": "dcccf03f",
   "metadata": {},
   "source": [
    "<h3>정수나 실수도 출력가능</h3>\n",
    "<h3>문자열을 변수에 대입한 후 변수를 불러서 출력 실수의 경우 17자리까지 표현되며 반올림 되어 출력된다.</h3>"
   ]
  },
  {
   "cell_type": "code",
   "execution_count": 58,
   "id": "a09b50b9",
   "metadata": {},
   "outputs": [
    {
     "name": "stdout",
     "output_type": "stream",
     "text": [
      "string:tomas, linteger Number: 10, floating number: 0.1234567891\n"
     ]
    }
   ],
   "source": [
    "name = 'tomas'\n",
    "age = 10\n",
    "a = 0.12345678910\n",
    "\n",
    "fmt_string = \"string:{0}, linteger Number: {1}, floating number: {2}\"\n",
    "print(fmt_string.format(name,age,a))"
   ]
  },
  {
   "cell_type": "markdown",
   "id": "adc193e1",
   "metadata": {},
   "source": [
    "<h3>형식 지정 문자열에서 숫자출력 형식 지정</h3>\n",
    "<h3>데이터가 숫자일 경우 {N:'출력형식'을 지정하여 다양한 형태로 출력이 가능}</h3>"
   ]
  },
  {
   "cell_type": "code",
   "execution_count": 59,
   "id": "55529dad",
   "metadata": {},
   "outputs": [
    {
     "name": "stdout",
     "output_type": "stream",
     "text": [
      "0.12, 0.12346,\n"
     ]
    }
   ],
   "source": [
    "a = 0.12345678910\n",
    "print(\"{0:.2f}, {0:.5f},\".format(a))"
   ]
  },
  {
   "cell_type": "markdown",
   "id": "5b2cde39",
   "metadata": {},
   "source": [
    "<h1>키보드 입력</h1>\n",
    "<h3>data = input(\"문자열\")</h3>"
   ]
  },
  {
   "cell_type": "code",
   "execution_count": 62,
   "id": "267531cf",
   "metadata": {},
   "outputs": [
    {
     "name": "stdout",
     "output_type": "stream",
     "text": [
      "당신의 이름은?배진혁\n",
      "당신은 배진혁이군요\n"
     ]
    }
   ],
   "source": [
    "yourname = input(\"당신의 이름은?\")\n",
    "print(\"당신은 {}이군요\".format(yourname))"
   ]
  },
  {
   "cell_type": "code",
   "execution_count": 63,
   "id": "4fa6719e",
   "metadata": {},
   "outputs": [
    {
     "name": "stdout",
     "output_type": "stream",
     "text": [
      "숫자를 입력하세요:1\n",
      "당신이 입력한 숫자는1 입니다.\n"
     ]
    }
   ],
   "source": [
    "num = input(\"숫자를 입력하세요:\")\n",
    "print(\"당신이 입력한 숫자는{} 입니다.\".format(num))"
   ]
  },
  {
   "cell_type": "code",
   "execution_count": 66,
   "id": "8e5378ab",
   "metadata": {},
   "outputs": [
    {
     "name": "stdout",
     "output_type": "stream",
     "text": [
      "정사각형 한변의 길이는?: 5\n",
      "정사각형의 넓이는25 입니다.\n"
     ]
    }
   ],
   "source": [
    "#숫자를 연산에 이용하기 위해서는 변환해야 함\n",
    "a = int(input(\"정사각형 한변의 길이는?: \"))\n",
    "area = a**2\n",
    "print(\"정사각형의 넓이는{} 입니다.\".format(area))"
   ]
  },
  {
   "cell_type": "code",
   "execution_count": 67,
   "id": "5c5c7ec5",
   "metadata": {},
   "outputs": [
    {
     "name": "stdout",
     "output_type": "stream",
     "text": [
      "정사각형 한변의 길이는?: 2\n",
      "정사각형의 넓이는4.0입니다.\n"
     ]
    }
   ],
   "source": [
    "#실수의 경우 정수인지 실수인지 모를 땐 실수로 처리하는 것이 좋음\n",
    "\n",
    "b = float(input(\"정사각형 한변의 길이는?: \"))\n",
    "area = b**2\n",
    "print(\"정사각형의 넓이는{}입니다.\".format(area))"
   ]
  },
  {
   "cell_type": "markdown",
   "id": "5ea641c8",
   "metadata": {},
   "source": [
    "<h1>6.3파일 읽고 쓰기</h1>\n",
    "<h3>출력결과를 화면이 아니라 파일로 출력하거나 읽어야 할 경우</h3>"
   ]
  },
  {
   "cell_type": "markdown",
   "id": "3345ab70",
   "metadata": {},
   "source": [
    "<h2>파일 열기</h2>\n",
    "<h3>내장 함수인 open()ㅇㄹ 이용해 파일을 열어야 한다.</h3>\n",
    "<h3>f= open('file_name', 'mode')</h3>\n",
    "<h3>file_name=열고자하는 파일</h3>\n",
    "<h3>mode = 파일속성</h3>"
   ]
  },
  {
   "cell_type": "code",
   "execution_count": 68,
   "id": "824034f2",
   "metadata": {},
   "outputs": [
    {
     "data": {
      "text/plain": [
       "'r = 읽기 모드로 파일열기(기본)\\nw = 쓰기 모드로 파일열기. 같은 이름의 파일이 있으면 기존 내용은 모두 삭제 됨\\nx = 쓰기 모드로 파일열기. 같은 이름의 파일이 있으면 오류 발생\\na ='"
      ]
     },
     "execution_count": 68,
     "metadata": {},
     "output_type": "execute_result"
    }
   ],
   "source": [
    "# r = 읽기 모드로 파일열기(기본)\n",
    "# w = 쓰기 모드로 파일열기. 같은 이름의 파일이 있으면 기존 내용은 모두 삭제 됨\n",
    "# x = 쓰기 모드로 파일열기. 같은 이름의 파일이 있으면 오류 발생\n",
    "# a = 추가 모드로 파일열기 같은 이름의 파일이 있는 경우 w와 같음\n",
    "# b = 바이너리 모드로 파일 열기\n",
    "# t = 텍스트 파일 모드로 파일 열기(기본) 지정하지 않으면 기본적으로 텍스트 모드로 지정됨"
   ]
  },
  {
   "cell_type": "code",
   "execution_count": 69,
   "id": "c1512c26",
   "metadata": {},
   "outputs": [
    {
     "name": "stdout",
     "output_type": "stream",
     "text": [
      "C:\\myPyCode\n"
     ]
    }
   ],
   "source": [
    "cd C:\\myPyCode"
   ]
  },
  {
   "cell_type": "code",
   "execution_count": 70,
   "id": "8ff73b3e",
   "metadata": {},
   "outputs": [],
   "source": [
    "#파일을 쓰기 모드로 열고 문자열 입력후 파일 닫기 코드\n",
    "f = open('myFile.txt', 'w') #myfile.txt를 파일 쓰기 모드로 염\n",
    "f.write('this is my first file') #연 파일에 문자열 쓰기 write\n",
    "f.close() #파일 닫기 "
   ]
  },
  {
   "cell_type": "code",
   "execution_count": 71,
   "id": "fc148ae9",
   "metadata": {},
   "outputs": [
    {
     "name": "stdout",
     "output_type": "stream",
     "text": [
      "this is my first file\n"
     ]
    }
   ],
   "source": [
    "#파일 이름을 이용하여 내용 확인하기\n",
    "!type myfile.txt"
   ]
  },
  {
   "cell_type": "code",
   "execution_count": 72,
   "id": "0b14f5e5",
   "metadata": {},
   "outputs": [
    {
     "name": "stdout",
     "output_type": "stream",
     "text": [
      "C:\\myPyCode\n"
     ]
    }
   ],
   "source": [
    "cd C:\\myPyCode\n"
   ]
  },
  {
   "cell_type": "code",
   "execution_count": 73,
   "id": "92db2cc2",
   "metadata": {},
   "outputs": [],
   "source": [
    "f = open('hellopython.txt', 'w')\n",
    "f.write('life is short you need python')\n",
    "f.close()"
   ]
  },
  {
   "cell_type": "code",
   "execution_count": 74,
   "id": "db511071",
   "metadata": {},
   "outputs": [
    {
     "name": "stdout",
     "output_type": "stream",
     "text": [
      "life is short you need python\n"
     ]
    }
   ],
   "source": [
    "!type hellopython.txt"
   ]
  },
  {
   "cell_type": "code",
   "execution_count": 75,
   "id": "35aa5a10",
   "metadata": {},
   "outputs": [
    {
     "name": "stdout",
     "output_type": "stream",
     "text": [
      "this is my first file\n"
     ]
    }
   ],
   "source": [
    "f = open('myfile.txt', 'r') #myfile.txt 파일 읽기 모드로 열기\n",
    "file_text = f.read() #파일 내용 읽은 후에 변수에 저장\n",
    "f.close() # 파일 닫기\n",
    "\n",
    "print(file_text) # 변수에 저장된 내용 출력"
   ]
  },
  {
   "cell_type": "code",
   "execution_count": 76,
   "id": "86c75b29",
   "metadata": {},
   "outputs": [
    {
     "name": "stdout",
     "output_type": "stream",
     "text": [
      "life is short you need python\n"
     ]
    }
   ],
   "source": [
    "f = open('hellopython.txt','r')\n",
    "file = f.read()\n",
    "f.close()\n",
    "print(file)"
   ]
  },
  {
   "cell_type": "markdown",
   "id": "e1259c53",
   "metadata": {},
   "source": [
    "<h1>6.4 반복문을 이용해 파일 읽고 쓰기</h1>\n",
    "\n",
    "<h2>파일에 문자열 한 줄씩 쓰기</h2>"
   ]
  },
  {
   "cell_type": "code",
   "execution_count": 79,
   "id": "bb668fe9",
   "metadata": {},
   "outputs": [],
   "source": [
    "f = open('two_times_table.txt','w') #파일을 쓰기 모드로 열기\n",
    "for num in range(1,6): #for문 num이 1~5까지 반복\n",
    "    format_string = \"2 * {0} = {1}\\n\".format(num,2*num) #저장할 문자열 생성\n",
    "    f.write(format_string) #파일에 문자열 저장\n",
    "f.close()    #파일 닫기"
   ]
  },
  {
   "cell_type": "code",
   "execution_count": 80,
   "id": "a60e4a61",
   "metadata": {},
   "outputs": [
    {
     "name": "stdout",
     "output_type": "stream",
     "text": [
      "2 * 1 = 2\n",
      "2 * 2 = 4\n",
      "2 * 3 = 6\n",
      "2 * 4 = 8\n",
      "2 * 5 = 10\n"
     ]
    }
   ],
   "source": [
    "!type two_times_table.txt"
   ]
  },
  {
   "cell_type": "code",
   "execution_count": 84,
   "id": "78719b55",
   "metadata": {},
   "outputs": [],
   "source": [
    "f = open('hello.txt','w')\n",
    "for num in range(1,10):\n",
    "    nine_string = \"2 * {0} = {1}\\n\".format(num,2*num)\n",
    "    f.write(nine_string)\n",
    "f.close()    "
   ]
  },
  {
   "cell_type": "code",
   "execution_count": 85,
   "id": "a4ab7e32",
   "metadata": {},
   "outputs": [
    {
     "name": "stdout",
     "output_type": "stream",
     "text": [
      "2 * 1 = 2\n",
      "2 * 2 = 4\n",
      "2 * 3 = 6\n",
      "2 * 4 = 8\n",
      "2 * 5 = 10\n",
      "2 * 6 = 12\n",
      "2 * 7 = 14\n",
      "2 * 8 = 16\n",
      "2 * 9 = 18\n"
     ]
    }
   ],
   "source": [
    "!type hello.txt"
   ]
  },
  {
   "cell_type": "code",
   "execution_count": 105,
   "id": "c541561a",
   "metadata": {},
   "outputs": [
    {
     "name": "stdout",
     "output_type": "stream",
     "text": [
      "2 * 1 = 2\n",
      "2 * 2 = 4\n"
     ]
    }
   ],
   "source": [
    "f = open(\"two_times_table.txt\") #파일을 읽기모드로 열기\n",
    "line1 = f.readline() #한 줄씩 문자열을 읽기\n",
    "line2 = f.readline()\n",
    "f.close() #파일 닫기\n",
    "print(line1, end=\"\") # 한 줄씩 문자열 출력(줄 바꿈 안 함)\n",
    "print(line2, end=\"\")\n"
   ]
  },
  {
   "cell_type": "code",
   "execution_count": 106,
   "id": "377db7c2",
   "metadata": {},
   "outputs": [
    {
     "name": "stdout",
     "output_type": "stream",
     "text": [
      "2 * 1 = 2\n",
      "2 * 2 = 4\n",
      "2 * 3 = 6\n",
      "2 * 4 = 8\n",
      "2 * 5 = 10\n"
     ]
    }
   ],
   "source": [
    "#readline 한줄\n",
    "f = open(\"two_times_table.txt\") #파일을 읽기 모드로 열기\n",
    "line = f.readline() #문자열 한 줄 읽기\n",
    "while line: #line이 공백인지 검사해서 반복 여부 결정 line 값이 있으면 무한 반복\n",
    "    print(line, end = \"\") #문자열 한줄 출력(줄 바꿈 안 함)\n",
    "    line = f.readline() #문자열 한줄 읽기\n",
    "f.close()"
   ]
  },
  {
   "cell_type": "code",
   "execution_count": 107,
   "id": "5c806382",
   "metadata": {},
   "outputs": [
    {
     "name": "stdout",
     "output_type": "stream",
     "text": [
      "['2 * 1 = 2\\n', '2 * 2 = 4\\n', '2 * 3 = 6\\n', '2 * 4 = 8\\n', '2 * 5 = 10\\n']\n"
     ]
    }
   ],
   "source": [
    "#readlines() 여러줄\n",
    "f = open(\"two_times_table.txt\") #파일을 읽기 모드로 열기\n",
    "lines = f.readlines() #파일 전체 읽기(리스트로 반환)\n",
    "f.close() # 파일 닫기\n",
    "\n",
    "print(lines) #리스트 변수 내용 출력"
   ]
  },
  {
   "cell_type": "code",
   "execution_count": 108,
   "id": "7634908c",
   "metadata": {},
   "outputs": [
    {
     "name": "stdout",
     "output_type": "stream",
     "text": [
      "2 * 1 = 2\n",
      "2 * 2 = 4\n",
      "2 * 3 = 6\n",
      "2 * 4 = 8\n",
      "2 * 5 = 10\n"
     ]
    }
   ],
   "source": [
    "#for문을 이용하여 전체 읽기 \n",
    "\n",
    "f = open(\"two_times_table.txt\") # 파일을 읽기 모드로 열기\n",
    "lines = f.readlines() #파일 전체 일기(리스트로 반환)\n",
    "f.close() #파일 닫기\n",
    "for line in lines: #리스트를 <반복 범위>로 지정 \n",
    "    print(line, end=\"\") #리스트 항목을 출력(줄 바꿈 안 함)"
   ]
  },
  {
   "cell_type": "code",
   "execution_count": 109,
   "id": "e21ed65b",
   "metadata": {},
   "outputs": [
    {
     "name": "stdout",
     "output_type": "stream",
     "text": [
      "2 * 1 = 2\n",
      "2 * 2 = 4\n",
      "2 * 3 = 6\n",
      "2 * 4 = 8\n",
      "2 * 5 = 10\n"
     ]
    }
   ],
   "source": [
    "f = open(\"two_times_table.txt\") # 파일을 읽기모드로 열기\n",
    "for line in f.readlines(): #파일 전체를 읽고 리스트 항목을 line에 할당\n",
    "        print(line, end=\"\")\n",
    "f.close()        \n"
   ]
  },
  {
   "cell_type": "markdown",
   "id": "4f267449",
   "metadata": {},
   "source": [
    "<h1>6.5 with 문 </h1>"
   ]
  },
  {
   "cell_type": "code",
   "execution_count": 110,
   "id": "0137f795",
   "metadata": {},
   "outputs": [],
   "source": [
    "with open('c:/myPyCode/myTextFile2.txt', 'w')as f:\n",
    "    f.write(\"hello\")\n",
    "    f.write(\"im\")\n",
    "    f.write(\"python\")"
   ]
  },
  {
   "cell_type": "code",
   "execution_count": 111,
   "id": "e8679f24",
   "metadata": {},
   "outputs": [
    {
     "name": "stdout",
     "output_type": "stream",
     "text": [
      "helloimpython\n"
     ]
    }
   ],
   "source": [
    "with open('c:/myPyCode/myTextFile2.txt', 'r')as f:\n",
    "    file_string = f.read()\n",
    "    print(file_string)"
   ]
  },
  {
   "cell_type": "code",
   "execution_count": 112,
   "id": "42442597",
   "metadata": {},
   "outputs": [
    {
     "name": "stdout",
     "output_type": "stream",
     "text": [
      "helloimpython\n"
     ]
    }
   ],
   "source": [
    "!type myTextFile2.txt"
   ]
  },
  {
   "cell_type": "code",
   "execution_count": 113,
   "id": "7cf10888",
   "metadata": {},
   "outputs": [],
   "source": [
    "with open('c:/myPyCode/myTextFile2.txt', 'w')as f:#파일을 쓰기 모드로 ㅕㄹ기\n",
    "    for num in range(1,6): #for문에서 num이 1~5까지 반복\n",
    "        format_string = \"3 x {0} = {1}\\n\".format(num,3*num) #문자열 생성\n",
    "        f.write(format_string) #파일에 문자열 쓰기\n",
    "        \n",
    "        "
   ]
  },
  {
   "cell_type": "code",
   "execution_count": 114,
   "id": "92023d5a",
   "metadata": {},
   "outputs": [
    {
     "name": "stdout",
     "output_type": "stream",
     "text": [
      "3 x 1 = 3\n",
      "3 x 2 = 6\n",
      "3 x 3 = 9\n",
      "3 x 4 = 12\n",
      "3 x 5 = 15\n"
     ]
    }
   ],
   "source": [
    "with open('c:/myPyCode/myTextFile2.txt', 'r')as f: #파일을 읽기모드로 열기\n",
    "    for line in f: #파일 전체를 읽고 리스트 항목을 line에 할당\n",
    "        print(line, end=\"\") "
   ]
  },
  {
   "cell_type": "code",
   "execution_count": null,
   "id": "aae83e3f",
   "metadata": {},
   "outputs": [],
   "source": []
  }
 ],
 "metadata": {
  "kernelspec": {
   "display_name": "Python 3 (ipykernel)",
   "language": "python",
   "name": "python3"
  },
  "language_info": {
   "codemirror_mode": {
    "name": "ipython",
    "version": 3
   },
   "file_extension": ".py",
   "mimetype": "text/x-python",
   "name": "python",
   "nbconvert_exporter": "python",
   "pygments_lexer": "ipython3",
   "version": "3.9.13"
  }
 },
 "nbformat": 4,
 "nbformat_minor": 5
}
