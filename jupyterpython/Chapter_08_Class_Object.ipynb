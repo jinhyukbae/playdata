{
 "cells": [
  {
   "cell_type": "markdown",
   "id": "7ef3fddb",
   "metadata": {},
   "source": [
    "## 8장 객체와 클래스\n",
    "# 8.1 클래스 선언과 객체 생성\n",
    "# 객체란?\n",
    "# 속성과 행위로 구성된 대상을 의미함\n",
    "# 속성 = 상태, 특징\n",
    "# 행위 = 행동, 동작, 기능\n",
    "# 객체는 변수와 함수의 묶음\n",
    "# 객체 = 사람\n",
    "# 변수 = 키,몸무게, 이름\n",
    "# 함수 = 걷기,뛰기"
   ]
  },
  {
   "cell_type": "markdown",
   "id": "e51c5edc",
   "metadata": {},
   "source": [
    "# ㅡㅡㅡㅡㅡㅡㅡㅡㅡㅡㅡㅡㅡㅡㅡㅡㅡㅡㅡㅡㅡㅡㅡㅡㅡㅡㅡㅡㅡ\n",
    "# 클래스 선언\n",
    "# class 클래스명():\n",
    "# [변수1] 클래스 변수                                                               속성\n",
    "# [변수2] \n",
    "# def 함수1(self, 인자1, 인자2): 클래스 함수\n",
    "#       <코드 블록>                                                                      행위\n",
    "# def 함수2(self, 인자1, 인자2): \n",
    "#       <코드 블록>"
   ]
  },
  {
   "cell_type": "markdown",
   "id": "70d667fb",
   "metadata": {},
   "source": [
    "# 객체 생성 및 활용"
   ]
  },
  {
   "cell_type": "code",
   "execution_count": 55,
   "id": "7d51046b",
   "metadata": {},
   "outputs": [],
   "source": [
    "class Bicycle(): #클래스 선언 대문자로 시작 \n",
    "    pass"
   ]
  },
  {
   "cell_type": "markdown",
   "id": "0ad8b939",
   "metadata": {},
   "source": [
    "# 클래스로부터 인스턴스(instance)인 객체를 선언\n",
    "# 객체명 = 클래스명()"
   ]
  },
  {
   "cell_type": "code",
   "execution_count": 56,
   "id": "e75d0fea",
   "metadata": {},
   "outputs": [],
   "source": [
    "my_bicycle = Bicycle() #my_bicycle 객체 Bicycle 클래스"
   ]
  },
  {
   "cell_type": "code",
   "execution_count": 57,
   "id": "19ecb83d",
   "metadata": {},
   "outputs": [
    {
     "data": {
      "text/plain": [
       "<__main__.Bicycle at 0x249f8e07970>"
      ]
     },
     "execution_count": 57,
     "metadata": {},
     "output_type": "execute_result"
    }
   ],
   "source": [
    "my_bicycle"
   ]
  },
  {
   "cell_type": "markdown",
   "id": "bfd37dfa",
   "metadata": {},
   "source": [
    "# 객체에 속성을 추가하기\n",
    "# 객체명,변수명 = 속성값\n"
   ]
  },
  {
   "cell_type": "code",
   "execution_count": 58,
   "id": "2913f71a",
   "metadata": {},
   "outputs": [],
   "source": [
    "my_bicycle.wheel_size = 26 #객체명.변수명 \n",
    "my_bicycle.color = 'black' #객체명.변수명"
   ]
  },
  {
   "cell_type": "markdown",
   "id": "d58c8937",
   "metadata": {},
   "source": [
    "# 속성 가져오기\n",
    "# 깩체명.변수명"
   ]
  },
  {
   "cell_type": "code",
   "execution_count": 59,
   "id": "28c751bb",
   "metadata": {},
   "outputs": [
    {
     "name": "stdout",
     "output_type": "stream",
     "text": [
      "바퀴 크기: 26\n",
      "색상: black\n"
     ]
    }
   ],
   "source": [
    "print(\"바퀴 크기:\", my_bicycle.wheel_size)\n",
    "print(\"색상:\", my_bicycle.color)"
   ]
  },
  {
   "cell_type": "markdown",
   "id": "2d10ee9b",
   "metadata": {},
   "source": [
    "# 함수 추가 "
   ]
  },
  {
   "cell_type": "code",
   "execution_count": 78,
   "id": "73771fe3",
   "metadata": {},
   "outputs": [],
   "source": [
    "class Bicycle():\n",
    "    \n",
    "    def move(self, speed):\n",
    "        print(\"자전거: 시속 {0}킬로미터로 전진\".format(speed))\n",
    "        \n",
    "    def turn(self, direction):\n",
    "        print(\"자전거: {0}회전\".format(direction))\n",
    "        \n",
    "    def stop(self):\n",
    "        print(\"자전거({0},{1}): 정지\".format( self.wheel_size, self.color)) "
   ]
  },
  {
   "cell_type": "markdown",
   "id": "d1fd0163",
   "metadata": {},
   "source": [
    "# 객체의 메서드를 호출\n",
    "# 객체명.메서드명(인자1,인자2)"
   ]
  },
  {
   "cell_type": "code",
   "execution_count": 79,
   "id": "4995c24d",
   "metadata": {},
   "outputs": [
    {
     "name": "stdout",
     "output_type": "stream",
     "text": [
      "자전거: 시속 30킬로미터로 전진\n",
      "자전거: 우회전\n",
      "자전거(30,pink): 정지\n"
     ]
    }
   ],
   "source": [
    "my_bicycle = Bicycle() # Bicycle 클래스의 인스턴스인 my_bicycle 객체 생성\n",
    "\n",
    "my_bicycle.wheel_size = 30\n",
    "my_bicycle.color = 'pink'\n",
    "\n",
    "my_bicycle.move(30)\n",
    "my_bicycle.turn(\"우\")\n",
    "my_bicycle.stop()"
   ]
  },
  {
   "cell_type": "code",
   "execution_count": 80,
   "id": "fddfded1",
   "metadata": {},
   "outputs": [
    {
     "name": "stdout",
     "output_type": "stream",
     "text": [
      "자전거: 시속 20킬로미터로 전진\n",
      "자전거: 좌회전\n",
      "자전거(27,red): 정지\n"
     ]
    }
   ],
   "source": [
    "bicycle1 = Bicycle() #Bicycle 클래스의 인스턴스인 bicycle1 객체 생성\n",
    "\n",
    "bicycle1.wheel_size = 27 #객체에 속성 설정\n",
    "bicycle1.color = 'red'\n",
    "\n",
    "bicycle1.move(20)\n",
    "bicycle1.turn('좌')\n",
    "bicycle1.stop()"
   ]
  },
  {
   "cell_type": "code",
   "execution_count": 81,
   "id": "b5018bcd",
   "metadata": {},
   "outputs": [
    {
     "name": "stdout",
     "output_type": "stream",
     "text": [
      "자전거: 시속 100킬로미터로 전진\n",
      "자전거: 우회전\n",
      "자전거(30,blue): 정지\n"
     ]
    }
   ],
   "source": [
    "bicycle2 = Bicycle() #Bicycle 클래스의 인스턴스인 bicycle2 객체 생성 객체는 클래스의 인스턴스다\n",
    "\n",
    "bicycle2.wheel_size = 30 #객체의 속성 설정\n",
    "bicycle2.color = 'blue'\n",
    "\n",
    "bicycle2.move(100)\n",
    "bicycle2.turn('우')\n",
    "bicycle2.stop()"
   ]
  },
  {
   "cell_type": "markdown",
   "id": "355ef727",
   "metadata": {},
   "source": [
    "# 객체 초기화\n",
    "# init 함수\n",
    "# 객체를 생성하는 것과 동시에 속성값을 지정할 수 있다. 생성될 때 자동으로 실행되기 때문에 속성을 초기화 할 수 있다."
   ]
  },
  {
   "cell_type": "code",
   "execution_count": 88,
   "id": "bf6db7e2",
   "metadata": {},
   "outputs": [],
   "source": [
    "class Bicycle():\n",
    "    def __init__(self, wheel_size, color): #init 함수는 제일먼저 실행 됨 \n",
    "        self.wheel_size = wheel_size\n",
    "        self.color = color\n",
    "        \n",
    "    def move(self, speed):\n",
    "        print(\"자전거: 시속{0}킬로미터로 전진\".format(speed))\n",
    "        \n",
    "    def turn(self, direction):\n",
    "        print(\"자전거: {0}회전\".format(direction))\n",
    "        \n",
    "    def stop(self):\n",
    "        print(\"자전거({0},{1}): 정지\".format(self.wheel_size, self.color))\n",
    "        "
   ]
  },
  {
   "cell_type": "code",
   "execution_count": 91,
   "id": "89a2a673",
   "metadata": {},
   "outputs": [
    {
     "name": "stdout",
     "output_type": "stream",
     "text": [
      "자전거: 시속30킬로미터로 전진\n",
      "자전거: 우회전\n",
      "자전거(26,black): 정지\n"
     ]
    }
   ],
   "source": [
    "my_bicycle = Bicycle(26, 'black') #객체 생성과 동시에 속성값을 지정.\n",
    "\n",
    "my_bicycle.move(30) #객체 메서드 호출\n",
    "my_bicycle.turn('우')\n",
    "my_bicycle.stop()"
   ]
  },
  {
   "cell_type": "code",
   "execution_count": 92,
   "id": "e7706f94",
   "metadata": {},
   "outputs": [
    {
     "name": "stdout",
     "output_type": "stream",
     "text": [
      "자전거: 시속2000킬로미터로 전진\n",
      "자전거: 좌우회전\n",
      "자전거(300,rainbow): 정지\n"
     ]
    }
   ],
   "source": [
    "hi = Bicycle(300,'rainbow')\n",
    "\n",
    "hi.move(2000)\n",
    "hi.turn('좌우')\n",
    "hi.stop()"
   ]
  },
  {
   "cell_type": "markdown",
   "id": "2c5c1f6d",
   "metadata": {},
   "source": [
    "# 클래스에서 사용하는 변수\n",
    "# 클래스 변수 = 클래스 내에 있지만, 함수밖에서 '변수명 = 데이터 형식으로 정의되며 모든 객체가 공통 사용 '클래스명.변수명' 으로 사용한다.\n",
    "\n",
    "# 인스턴스 변수 = 함수내에서 사용된 변수 이며 'self.변수명 = 데이터' 형식으로 정ㅇ의한 변수로서 'self.변수명'으로 접근할 수 있다."
   ]
  },
  {
   "cell_type": "code",
   "execution_count": 93,
   "id": "fb2e2f31",
   "metadata": {},
   "outputs": [],
   "source": [
    "class Car():\n",
    "    instance_count = 0 #클래스 변수 생성 및 초기화\n",
    "    \n",
    "    def __init__(self, size, color):\n",
    "        self.size = size #인스턴스 변수 생성 및 초기화\n",
    "        self.color = color #인스턴스 변수 생성 및 초기화\n",
    "        Car.instance_count += 1 #셀프가 있으면 인스턴스변수 없으면 클래스 변수 클래스 변수 이용\n",
    "        print(\"자동차 객체의 수: {}\".format(Car.instance_count))\n",
    "        \n",
    "    def move(self):\n",
    "        print(\"자동차({0},{1})가 움직입니다.\".format(self.size,self.color))"
   ]
  },
  {
   "cell_type": "code",
   "execution_count": 104,
   "id": "c6cecd91",
   "metadata": {},
   "outputs": [
    {
     "name": "stdout",
     "output_type": "stream",
     "text": [
      "자동차 객체의 수: 19\n",
      "자동차(small,black)가 움직입니다.\n",
      "자동차 객체의 수: 20\n",
      "자동차(big,pink)가 움직입니다.\n"
     ]
    }
   ],
   "source": [
    "# car1 car 2 car 3 등은 Car클래스의 인스턴스인 객체\n",
    "car1 = Car('small','black') #car1 은 self Car 는 클래스 ('small','black')에 small은 size color는 black \n",
    "car1.move()\n",
    "car2 = Car('big','pink') #car2는 self Car는 클래스 ('big','pink')에 big은 size pink는 color\n",
    "car2.move()\n",
    "\n",
    "\n",
    "#car1은 객체 Car는 클래스 car1은 Car의 인스턴스 객체는 클래스의 인스턴스"
   ]
  },
  {
   "cell_type": "markdown",
   "id": "59eb46eb",
   "metadata": {},
   "source": [
    "# 클래스명.변수명으로 언제든 호출"
   ]
  },
  {
   "cell_type": "code",
   "execution_count": 106,
   "id": "0cecdf60",
   "metadata": {},
   "outputs": [
    {
     "name": "stdout",
     "output_type": "stream",
     "text": [
      "Car 클래스의 총 인스턴스 개수:20\n"
     ]
    }
   ],
   "source": [
    "print(\"Car 클래스의 총 인스턴스 개수:{}\".format(Car.instance_count))"
   ]
  },
  {
   "cell_type": "markdown",
   "id": "9d251cd6",
   "metadata": {},
   "source": [
    "# 모든 객체에서 공통으로 사용\n"
   ]
  },
  {
   "cell_type": "code",
   "execution_count": 108,
   "id": "0fa9b3a2",
   "metadata": {},
   "outputs": [
    {
     "name": "stdout",
     "output_type": "stream",
     "text": [
      "Car 클래스의 총 인스턴스 개수:20\n",
      "Car 클래스의 총 인스턴스 개수:20\n"
     ]
    }
   ],
   "source": [
    "print(\"Car 클래스의 총 인스턴스 개수:{}\".format(car1.instance_count))\n",
    "print(\"Car 클래스의 총 인스턴스 개수:{}\".format(car2.instance_count))"
   ]
  },
  {
   "cell_type": "markdown",
   "id": "7150e61c",
   "metadata": {},
   "source": [
    "# 인스턴스 변수는 각 객체에서 별도로 관리됩니다."
   ]
  },
  {
   "cell_type": "code",
   "execution_count": 113,
   "id": "f584c056",
   "metadata": {},
   "outputs": [
    {
     "name": "stdout",
     "output_type": "stream",
     "text": [
      "자동차(small,black)가 움직입니다.\n",
      "자동차(big,pink)가 움직입니다.\n"
     ]
    }
   ],
   "source": [
    "car1.move()\n",
    "car2.move()"
   ]
  },
  {
   "cell_type": "markdown",
   "id": "9a2521ec",
   "metadata": {},
   "source": [
    "# 이름이 같은 클래스 변수와 인스턴스 변수의 경우"
   ]
  },
  {
   "cell_type": "code",
   "execution_count": 120,
   "id": "205f10fb",
   "metadata": {},
   "outputs": [],
   "source": [
    "class Car2():\n",
    "    count = 0 #클래스 변수 생성 및 초기화\n",
    "    \n",
    "    def __init__(self ,size, num):\n",
    "        self.size = size\n",
    "        self.count = num\n",
    "        Car2.count += 1\n",
    "        print(\"자동차 객체의 수: Car2.count = {0}\".format(Car2.count))\n",
    "        print(\"인스턴스 변수 초기화:self.count = {0}\".format(self.count))\n",
    "        \n",
    "    def move(self):\n",
    "        print(\"자동차 ({0} & {1})가 움직입니다.\".format(self.size, self.count))"
   ]
  },
  {
   "cell_type": "markdown",
   "id": "5f693588",
   "metadata": {},
   "source": [
    "# 변수 이름은 같지만 별개로 동작"
   ]
  },
  {
   "cell_type": "code",
   "execution_count": 122,
   "id": "a13b5c53",
   "metadata": {},
   "outputs": [
    {
     "name": "stdout",
     "output_type": "stream",
     "text": [
      "자동차 객체의 수: Car2.count = 2\n",
      "인스턴스 변수 초기화:self.count = 20\n",
      "자동차 객체의 수: Car2.count = 3\n",
      "인스턴스 변수 초기화:self.count = 30\n"
     ]
    }
   ],
   "source": [
    "car1 = Car2('big', 20) \n",
    "car2 = Car2('small',30)\n",
    "\n",
    "#car1 은 객체 Car2는 클래스 괄호 안에는 (size,num)\n",
    "#self count=num 이므로 Car2.count와 다르게 작용 "
   ]
  },
  {
   "cell_type": "code",
   "execution_count": 123,
   "id": "9abff23e",
   "metadata": {},
   "outputs": [],
   "source": [
    "# 클래스에서 사용하는 함수\n",
    "\n",
    "#인스턴스 메서드\n",
    "\n",
    "# 각 객체에서 개별적으로 동작하는 함수를 만들고자 할 때 사용하는 함수\n",
    "\n",
    "#class 클래스명():\n",
    "    # def 함수명(self, 인자1, 인자2 인자n):\n",
    "        # self.변수명1 = 인자1\n",
    "        # self.변수명2 = 인자2\n",
    "        # self.변수명3 = 데이터\n",
    "\n",
    "# 다음과 같이 객체를 생성한 후 에 호출할 수 있다.\n",
    "# 객체명 = 클래스명() 객체명.메서드명(인자1,인자2,인자3, 인자n)"
   ]
  },
  {
   "cell_type": "code",
   "execution_count": 129,
   "id": "552e16cb",
   "metadata": {},
   "outputs": [],
   "source": [
    "# Car 클래스 선언\n",
    "class Car():\n",
    "    instance_count = 0 # 클래스 변수 생성 및 초기화\n",
    "    \n",
    "    #초기화 함수 인스턴트 메서드\n",
    "    def __init__(self, size, color):\n",
    "        self.size = size #인스턴스 변수 생성 및 초기화\n",
    "        self.color = color # 인스턴스 변수 생성 및 초기화\n",
    "        Car.instance_count += 1 #클래스 변수 이용\n",
    "        print(\"자동차 객체의 수{0}\".format(Car.instance_count))\n",
    "    #인스턴스 메서드    \n",
    "    def move(self, speed):\n",
    "        self.speed = speed\n",
    "        print(\"자동차({0} & {1})가 \".format(self.size, self.color), end = ''    )\n",
    "        print(\"시속 {0}킬로미터로 전진\".format(self.speed))\n",
    "    #인스턴스 메서드          \n",
    "    def auto_cruise(self):\n",
    "        print(\"자율 주행 모드\")\n",
    "        self.move(self.speed) #move() 함수의 인자로 인스턴스 변수를 입력"
   ]
  },
  {
   "cell_type": "code",
   "execution_count": 131,
   "id": "5d8cfbc2",
   "metadata": {},
   "outputs": [
    {
     "name": "stdout",
     "output_type": "stream",
     "text": [
      "자동차 객체의 수3\n",
      "자동차 객체의 수4\n",
      "자동차(small & red)가 시속 80킬로미터로 전진\n",
      "자동차(big & green)가 시속 300킬로미터로 전진\n",
      "자율 주행 모드\n",
      "자동차(small & red)가 시속 80킬로미터로 전진\n",
      "자율 주행 모드\n",
      "자동차(big & green)가 시속 300킬로미터로 전진\n"
     ]
    }
   ],
   "source": [
    "car1 = Car(\"small\", \"red\") #객체 생성(car1)\n",
    "car2 = Car(\"big\", \"green\") #객체 생성(car2)\n",
    "\n",
    "car1.move(80)\n",
    "car2.move(300)\n",
    "\n",
    "car1.auto_cruise() #객체(car1)의 auto_cruise() 메서드 호출\n",
    "car2.auto_cruise() #객체(car2)의 auto_cruise() 메서드 호출\n"
   ]
  },
  {
   "cell_type": "markdown",
   "id": "5ee8dc15",
   "metadata": {},
   "source": [
    "# 정적 메서드\n",
    "# 클래스나 클래스의 인스턴트(객체)와는 무관하게 독립적으로 만들고 싶은 함수를 만들고 싶을 때 사용\n",
    "# 함수 앞에 @staticmethod 를 선언해서 사용한다.\n",
    "\n",
    "# class 클래스명():\n",
    "# @staticmethod\n",
    "# def 함수명(인자1, 인자2,인자n)\n",
    "# 코드블록\n",
    "\n",
    "# 정적 메서드는 보통 객체를 생성하지 않고 클래스명을 이용해 바로 메서드를 호출 한다.\n",
    "# 클래스명.메서드명(인자1,인자2,인자n):\n",
    "# 날짜 및 시간 정보 제공, 환율 정보 제공, 단위변환과 같이 객체와 관계없이 독립적으로 동작하는 함수를 만들 때 주로 사용한다.\n"
   ]
  },
  {
   "cell_type": "code",
   "execution_count": 132,
   "id": "17332295",
   "metadata": {},
   "outputs": [],
   "source": [
    "# Car 클래스 선언\n",
    "class Car():\n",
    "    # def __init__(self, size, color): ->앞의 코드 활용\n",
    "    # def move(self, speed): 앞의 코드 활용\n",
    "    # def auto_cruise(self): 앞의 코드 활용\n",
    "    \n",
    "    # 정적 메서드\n",
    "    @staticmethod\n",
    "    def check_type(model_code):\n",
    "        if(model_code >= 20):\n",
    "            print(\"이 자동차는 전기차입니다.\")\n",
    "        elif(10 <= model_code <= 20):\n",
    "            print(\"이 자동차는 가솔린차입니다.\")\n",
    "        else:\n",
    "            print(\"이 자동차는 디젤차입니다.\")"
   ]
  },
  {
   "cell_type": "code",
   "execution_count": 136,
   "id": "f6ea0a5a",
   "metadata": {},
   "outputs": [
    {
     "name": "stdout",
     "output_type": "stream",
     "text": [
      "이 자동차는 전기차입니다.\n",
      "이 자동차는 디젤차입니다.\n"
     ]
    }
   ],
   "source": [
    "Car.check_type(25) #클래스명.메서드명(인자)\n",
    "Car.check_type(2)"
   ]
  },
  {
   "cell_type": "markdown",
   "id": "8856196a",
   "metadata": {},
   "source": [
    "# 클래스 메서드\n",
    "# 클래스 변수를 사용하기 위한 함수\n",
    "# 함수를 정의할 때 첫번째 인자로 클래스를 넘겨받는 cls가 필요하며 이를 이용해 클래스변수에 접근한다. 함수앞에@Classmethod를 지정해야 한다.\n",
    "\n",
    "# class 클래스명():\n",
    "# @Classmethod\n",
    "# def 함수명(cls, 인자1,인자2,인자n):\n",
    "# 코드\n",
    "\n",
    "# 클래스 메서드로 객체를 생성하지 않고 바로 호출 가능\n",
    "# 클래스명.메서드명(인자1,인자2,인자n):\n",
    "# 클래스 메서드는 생성된 객체의 개수를 반환하는 등 클래스 전체에서 관리해야 할 기능이 있을 때 주로 사용한다.\n"
   ]
  },
  {
   "cell_type": "code",
   "execution_count": 142,
   "id": "d0995507",
   "metadata": {},
   "outputs": [],
   "source": [
    "# Car 클래스 선언\n",
    "class Car():\n",
    "    instance_count = 0 #클래스 변수\n",
    "    \n",
    "    # 초기화 함수 인스턴스 메서드\n",
    "    def __init__(self, size, color):\n",
    "        self.size = size # 인스턴스 변수\n",
    "        self.color = color #인스턴스 변수\n",
    "        Car.instance_count += 1\n",
    "    # def move(self, speed): => 앞의 코드 활용\n",
    "    # def auto_cruise(self): => 앞의 코드 활용\n",
    "    # @staticmethod\n",
    "    # def check_type(model_code): => 앞의 코드 활용\n",
    "    \n",
    "    # 클래스 메서드\n",
    "    @classmethod\n",
    "    def count_instance(cls):\n",
    "        print(\"자동차 객체의 개수: {0}\".format(cls.instance_count))"
   ]
  },
  {
   "cell_type": "markdown",
   "id": "78fa69ae",
   "metadata": {},
   "source": [
    "# instance_count는 객체가 증가할 때마다 1씩 증가한ㄷ. 클래스메드를 호출하면 현재까지 생성된 객체의 개수를 알 수 있다."
   ]
  },
  {
   "cell_type": "code",
   "execution_count": 143,
   "id": "c02792c3",
   "metadata": {},
   "outputs": [
    {
     "name": "stdout",
     "output_type": "stream",
     "text": [
      "자동차 객체의 개수: 0\n",
      "자동차 객체의 개수: 1\n",
      "자동차 객체의 개수: 2\n"
     ]
    }
   ],
   "source": [
    "Car.count_instance() # 객체 생성 전에 클래스 메서드 호출\n",
    "\n",
    "car1 = Car(\"small\",\"red\") #첫 번째 객체 생성\n",
    "Car.count_instance() # 클래스 메서드 호출\n",
    "\n",
    "car2 = Car(\"big\", \"green\") #두 번째 객체 생성\n",
    "Car.count_instance() # 클래스 메서드 호출"
   ]
  },
  {
   "cell_type": "markdown",
   "id": "8e89a132",
   "metadata": {},
   "source": [
    "# 8.3 객체와 클래스를 사용하는 이유\n",
    "# 코드관리가 편하다. 큰 프로그램을 만들 때는 클래스와 객체를 많이 이용. 유사한 객체가 많은 프로그램을 만들때도 주로 클래스와 객체를 이용해 코드를 작성한다.\n",
    "\n",
    "# 로봇의 속성: 이름, 위치\n",
    "# 로봇의 동작: 한 칸 이동\n",
    "\n",
    "# 클래스와 객체를 사용하지 않을 시"
   ]
  },
  {
   "cell_type": "code",
   "execution_count": 146,
   "id": "59227654",
   "metadata": {},
   "outputs": [],
   "source": [
    "robot_name = 'R1' #로봇 이름\n",
    "robot_pos = 0 #로봇 초기 위치\n",
    "\n",
    "def robot_move():\n",
    "    global robot_pos\n",
    "    robot_pos += 1\n",
    "    print(\"{0} position: {1}\".format(robot_name, robot_pos))\n",
    "    \n",
    "    \n",
    "    \n",
    "    "
   ]
  },
  {
   "cell_type": "code",
   "execution_count": 147,
   "id": "d631512e",
   "metadata": {},
   "outputs": [
    {
     "name": "stdout",
     "output_type": "stream",
     "text": [
      "R1 position: 1\n"
     ]
    }
   ],
   "source": [
    "robot_move()"
   ]
  },
  {
   "cell_type": "markdown",
   "id": "0f6568ab",
   "metadata": {},
   "source": [
    "# 로봇 2대 만들기"
   ]
  },
  {
   "cell_type": "code",
   "execution_count": 148,
   "id": "e4b84cc4",
   "metadata": {},
   "outputs": [],
   "source": [
    "robot1_name = 'R1' #로봇 이름\n",
    "robot1_pos = 0 #로봇 초기 위치\n",
    "\n",
    "def robot1_move():\n",
    "    global robot1_pos\n",
    "    robot1_pos += 1\n",
    "    print(\"{0} position: {1}\".format(robot1_name, robot1_pos))\n",
    "    \n",
    "robot2_name = 'R2' #로봇 이름\n",
    "robot2_pos = 10 #로봇 초기 위치\n",
    "\n",
    "def robot2_move():\n",
    "    global robot2_pos\n",
    "    robot2_pos += 1\n",
    "    print(\"{0} position: {1}\".format(robot2_name, robot2_pos))    "
   ]
  },
  {
   "cell_type": "code",
   "execution_count": 150,
   "id": "8520754a",
   "metadata": {},
   "outputs": [
    {
     "name": "stdout",
     "output_type": "stream",
     "text": [
      "R1 position: 2\n",
      "R2 position: 11\n"
     ]
    }
   ],
   "source": [
    "robot1_move()\n",
    "robot2_move()"
   ]
  },
  {
   "cell_type": "markdown",
   "id": "c6ba4182",
   "metadata": {},
   "source": [
    "# 로봇이 늘어날 수록 더 많은 변수와 함수가 필요하며 코드가 길어짐 로봇 별로 변수와 함수의 역할이 같으므로 클래스와 객체를 이용하면 편리함"
   ]
  },
  {
   "cell_type": "code",
   "execution_count": 151,
   "id": "6a4de3e4",
   "metadata": {},
   "outputs": [],
   "source": [
    "class Robot():\n",
    "    def __init__(self, name, pos):\n",
    "        self.name = name # 로봇 객체의 이름\n",
    "        self.pos = pos # 로봇 객체의 위치\n",
    "        \n",
    "    def move(self):\n",
    "        self.pos += 1\n",
    "        print(\"{0} position: {1}\".format(self.name, self.pos))\n",
    "    "
   ]
  },
  {
   "cell_type": "code",
   "execution_count": 152,
   "id": "b7f84f31",
   "metadata": {},
   "outputs": [],
   "source": [
    "#객체 생성\n",
    "robot1 = Robot('R1',2)\n",
    "robot2 = Robot('R2', 200)"
   ]
  },
  {
   "cell_type": "code",
   "execution_count": 154,
   "id": "1074fdeb",
   "metadata": {},
   "outputs": [
    {
     "name": "stdout",
     "output_type": "stream",
     "text": [
      "R1 position: 4\n",
      "R2 position: 201\n"
     ]
    }
   ],
   "source": [
    "#메서드 실행\n",
    "robot1.move()\n",
    "robot2.move()"
   ]
  },
  {
   "cell_type": "code",
   "execution_count": 155,
   "id": "a92250a7",
   "metadata": {},
   "outputs": [
    {
     "name": "stdout",
     "output_type": "stream",
     "text": [
      "R3 position: 31\n",
      "R4 position: 41\n"
     ]
    }
   ],
   "source": [
    "#더 많은 객체 생성 및 메서드 실행\n",
    "myRobot3 = Robot('R3', 30)\n",
    "myRobot4 = Robot('R4', 40)\n",
    "\n",
    "myRobot3.move()\n",
    "myRobot4.move()"
   ]
  },
  {
   "cell_type": "markdown",
   "id": "7cde8a60",
   "metadata": {},
   "source": [
    "# 8.4 클래스 상속\n",
    "# 만들어진 클래스 변수와 함수를 이어받고 새로운 내용을 추가해 클래스를 선언할 수 있다. 이를 상속이라고 한다. 부모 클래스(슈퍼 클래스, 상위 클래스)와 자식 클래스 (서브 클래스, 하위 클래스)라고 한다.\n",
    "# class 자식 클래스 이름(부모 클래스 이름): \n",
    "# <코드 블록>"
   ]
  },
  {
   "cell_type": "code",
   "execution_count": 157,
   "id": "68f4b786",
   "metadata": {},
   "outputs": [],
   "source": [
    "class Bicycle():\n",
    "    def __init__(self, wheel_size, color):\n",
    "        self.wheel_size = wheel_size\n",
    "        self.color = color\n",
    "        \n",
    "    def move(self, speed):\n",
    "        print(\"자전거 : 시속{0}킬로미터로 전진\".format(speed))\n",
    "        \n",
    "    def turn(self, direction):\n",
    "        print(\"자전거: {0}회전\".format(direction))\n",
    "    \n",
    "    def stop(self):\n",
    "        print(\"자전거({0}, {1}): 정지\".format(self.wheel_size, self.color))\n",
    "        "
   ]
  },
  {
   "cell_type": "markdown",
   "id": "31a12615",
   "metadata": {},
   "source": [
    "# 자식 클래스 생성 방법\n",
    "# 부모클래스 이름.함수명() 또는 super().함수명()을 사용한다."
   ]
  },
  {
   "cell_type": "code",
   "execution_count": 158,
   "id": "32339b2a",
   "metadata": {},
   "outputs": [],
   "source": [
    "class FoldingBicycle(Bicycle):\n",
    "        def __init__(self, wheel_size, color, state): #FoldingBicycle 초기화\n",
    "            Bicycle.__init__(self, wheel_size, color) #Bicycle의 초기화 재사용\n",
    "            #super().__init__(self, wheel_size, color) 도 사용 가능\n",
    "            self.state = state # 자식 클래스에서 새로 추가한 변수\n",
    "        def fold(self):\n",
    "            self.state = 'folding'\n",
    "            print(\"자전거: 접기, state = {0}\".format(self.state))\n",
    "            \n",
    "        def unfold(self):\n",
    "            self.state = 'unfolding'\n",
    "            print(\"자전거: 펴기, state = {0}\".format(self.state))"
   ]
  },
  {
   "cell_type": "code",
   "execution_count": 166,
   "id": "a1af9150",
   "metadata": {},
   "outputs": [
    {
     "name": "stdout",
     "output_type": "stream",
     "text": [
      "자전거 : 시속20킬로미터로 전진\n",
      "자전거: 접기, state = folding\n",
      "자전거: 펴기, state = unfolding\n"
     ]
    }
   ],
   "source": [
    "folding_bicycle = FoldingBicycle(27, 'white', 'unfolding') #객체 휠사이즈 컬러 스테이트 생성\n",
    "# 객체명 = 클래스명(인자)\n",
    "folding_bicycle.move(20) # 부모 클래스의 함수(메서드) 호출\n",
    "# 객체명.메서드명(인자) \n",
    "# move를 위에서 만든 적은 없으나 부모 클래스 Bicycle에는 만들었으므로 부모 클래스에서 호출 \n",
    "folding_bicycle.fold() \n",
    "folding_bicycle.unfold()"
   ]
  },
  {
   "cell_type": "markdown",
   "id": "b05e8323",
   "metadata": {},
   "source": [
    "# 8.5 정리"
   ]
  },
  {
   "cell_type": "code",
   "execution_count": null,
   "id": "8246faa7",
   "metadata": {},
   "outputs": [],
   "source": [
    ",,class FoldingBicycle(Bicycle):\n",
    "        def __init__(self, wheel_size, color, state): #FoldingBicycle 초기화\n",
    "            Bicycle.__init__(self, wheel_size, color) #Bicycle의 초기화 재사용\n",
    "            #super().__init__(self, wheel_size, color) 도 사용 가능\n",
    "            self.state = state # 자식 클래스에서 새로 추가한 변수\n",
    "        def fold(self):\n",
    "            self.state = 'folding'\n",
    "            print(\"자전거: 접기, state = {0}\".format(self.state))\n",
    "            \n",
    "        def move(self, speed):\n",
    "        print(\"자전거 : 시속{0}킬로미터로 후진\".format(speed))\n",
    "        \n",
    "        #오버라이딩 Bicycle 부모함수에 move가 있어도 자식 클래스에 같은이름으로 쓰면 덮어 씌워버림  \n",
    "        \n",
    "        def unfold(self):\n",
    "            self.state = 'unfolding'\n",
    "            print(\"자전거: 펴기, state = {0}\".format(self.state))"
   ]
  }
 ],
 "metadata": {
  "kernelspec": {
   "display_name": "Python 3 (ipykernel)",
   "language": "python",
   "name": "python3"
  },
  "language_info": {
   "codemirror_mode": {
    "name": "ipython",
    "version": 3
   },
   "file_extension": ".py",
   "mimetype": "text/x-python",
   "name": "python",
   "nbconvert_exporter": "python",
   "pygments_lexer": "ipython3",
   "version": "3.9.13"
  }
 },
 "nbformat": 4,
 "nbformat_minor": 5
}
