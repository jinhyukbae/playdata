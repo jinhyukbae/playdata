{
 "cells": [
  {
   "cell_type": "markdown",
   "id": "6207e7fd",
   "metadata": {},
   "source": [
    "<h1>5장 제어문</h1>\n",
    "<h2>조건에 따라 분기하는 if문</h2>\n",
    "<br>단일 조건에 따른 분기(if)"
   ]
  },
  {
   "cell_type": "markdown",
   "id": "2784b32d",
   "metadata": {},
   "source": [
    "if<조건문>:\n",
    "<br>    <코드블록>\n",
    "<br>파이썬에서 콜론 과 들여쓰기로 코드의 구조를 결정한다. 스페이스바 또는 탭으로 조절"
   ]
  },
  {
   "cell_type": "code",
   "execution_count": 2,
   "id": "2bbd98c9",
   "metadata": {},
   "outputs": [
    {
     "name": "stdout",
     "output_type": "stream",
     "text": [
      "pass\n"
     ]
    }
   ],
   "source": [
    "x = 95\n",
    "if x >= 90:\n",
    "    print(\"pass\")\n",
    "    \n",
    "    "
   ]
  },
  {
   "cell_type": "code",
   "execution_count": 10,
   "id": "4fea602d",
   "metadata": {},
   "outputs": [
    {
     "name": "stdout",
     "output_type": "stream",
     "text": [
      "돈을 넣어주세요 :600000\n",
      "잔돈 599800원을 반환합니다.\n",
      "커피를 줍니다.\n"
     ]
    }
   ],
   "source": [
    "a = int(input(\"돈을 넣어주세요 : \"))\n",
    "if a == 200:\n",
    "    print(\"커피\")\n",
    "elif a > 200:\n",
    "    print(f\"잔돈 {a-200}원을 반환합니다.\")\n",
    "    print(\"커피를 줍니다.\")\n",
    "elif a < 200: \n",
    "    print(\"잔액이 부족합니다.\")\n",
    "    print(f\"잔돈 {a}원을 반환합니다.\")"
   ]
  },
  {
   "cell_type": "markdown",
   "id": "5cc335cc",
   "metadata": {},
   "source": [
    "<h2>단일 조건 및 그 외 조건에 따른 분기 (if~else)</h2>"
   ]
  },
  {
   "cell_type": "code",
   "execution_count": 12,
   "id": "9bf20701",
   "metadata": {},
   "outputs": [],
   "source": [
    "\n",
    "#if<조건문>:\n",
    "\n",
    "#    <코드블록>\n",
    "    \n",
    "#else:\n",
    "\n",
    "#    <코드블록2>\n",
    "    "
   ]
  },
  {
   "cell_type": "code",
   "execution_count": 13,
   "id": "9ba2bec7",
   "metadata": {},
   "outputs": [
    {
     "name": "stdout",
     "output_type": "stream",
     "text": [
      "fail\n"
     ]
    }
   ],
   "source": [
    "x = 75\n",
    "if x >= 90:\n",
    "    print(\"pass\")\n",
    "else:\n",
    "    print(\"fail\")"
   ]
  },
  {
   "cell_type": "markdown",
   "id": "545c3870",
   "metadata": {},
   "source": [
    "<h2>여러 조건에 따른 분기(if~elif~else)</h2>"
   ]
  },
  {
   "cell_type": "code",
   "execution_count": 14,
   "id": "97c5ea1f",
   "metadata": {},
   "outputs": [
    {
     "ename": "SyntaxError",
     "evalue": "invalid syntax (1802566455.py, line 1)",
     "output_type": "error",
     "traceback": [
      "\u001b[1;36m  File \u001b[1;32m\"C:\\Users\\user\\AppData\\Local\\Temp\\ipykernel_1128\\1802566455.py\"\u001b[1;36m, line \u001b[1;32m1\u001b[0m\n\u001b[1;33m    if <조건문>:\u001b[0m\n\u001b[1;37m       ^\u001b[0m\n\u001b[1;31mSyntaxError\u001b[0m\u001b[1;31m:\u001b[0m invalid syntax\n"
     ]
    }
   ],
   "source": [
    "if <조건문>:\n",
    "    <코드>\n",
    "elif <조건문>:\n",
    "    <코드>\n",
    "elif <조건문>:\n",
    "    <코드>\n",
    "else:\n",
    "    <코드>"
   ]
  },
  {
   "cell_type": "code",
   "execution_count": 16,
   "id": "dec83b08",
   "metadata": {},
   "outputs": [
    {
     "name": "stdout",
     "output_type": "stream",
     "text": [
      "good\n"
     ]
    }
   ],
   "source": [
    "x = 85\n",
    "if x >= 90:\n",
    "    print(\"very good\")\n",
    "elif (x>=80) and (x<90): #x가 80보다 크거나 같고 90보다 작아야함 80~89\n",
    "    print(\"good\")\n",
    "else:\n",
    "    print(\"bad\")"
   ]
  },
  {
   "cell_type": "code",
   "execution_count": 19,
   "id": "02d3e1fd",
   "metadata": {},
   "outputs": [
    {
     "name": "stdout",
     "output_type": "stream",
     "text": [
      "good\n"
     ]
    }
   ],
   "source": [
    "x = 85\n",
    "if x >= 90:\n",
    "    print(\"very good\")\n",
    "elif 80<=x<90:\n",
    "    print(\"good\")\n",
    "else:\n",
    "    print(\"bad\")"
   ]
  },
  {
   "cell_type": "code",
   "execution_count": 20,
   "id": "cc19c31a",
   "metadata": {},
   "outputs": [
    {
     "name": "stdout",
     "output_type": "stream",
     "text": [
      "perfect\n"
     ]
    }
   ],
   "source": [
    "x = 100\n",
    "if x >= 90: #90이상이면\n",
    "    if x == 100: #100이면\n",
    "        print(\"perfect\")\n",
    "    else:\n",
    "        print(\"very good\")\n",
    "elif (x >= 80) and (x < 90): #x가 80이랑 크거나 같고 90보다 작으면 80<=x<90\n",
    "    print(\"good\")\n",
    "else:#나머지\n",
    "    print(\"bad\")\n",
    "    "
   ]
  },
  {
   "cell_type": "code",
   "execution_count": 21,
   "id": "1761d05d",
   "metadata": {},
   "outputs": [],
   "source": [
    "# 나중에 구현하고 싶을 때 Pass 활용\n",
    "x = 75\n",
    "if x >= 80:\n",
    "    pass\n",
    "else:\n",
    "    pass"
   ]
  },
  {
   "cell_type": "markdown",
   "id": "8eb1864a",
   "metadata": {},
   "source": [
    "<h1>5.2 지정된 범위만큼 반복하는 for문</h1>\n",
    "<h2>반복문의 필요성</h2>"
   ]
  },
  {
   "cell_type": "markdown",
   "id": "a97801fe",
   "metadata": {},
   "source": [
    "<h2>for문의 구조</h2>\n"
   ]
  },
  {
   "cell_type": "markdown",
   "id": "4f9aca53",
   "metadata": {},
   "source": [
    "for 반복변수 in 반복범위:\n",
    "<br>    코드"
   ]
  },
  {
   "cell_type": "code",
   "execution_count": 23,
   "id": "842fc979",
   "metadata": {},
   "outputs": [
    {
     "name": "stdout",
     "output_type": "stream",
     "text": [
      "0\n",
      "1\n",
      "2\n",
      "3\n",
      "4\n",
      "5\n"
     ]
    }
   ],
   "source": [
    "for a in [0,1,2,3,4,5]:\n",
    "    print(a)"
   ]
  },
  {
   "cell_type": "code",
   "execution_count": 25,
   "id": "a6f68c27",
   "metadata": {
    "scrolled": false
   },
   "outputs": [
    {
     "name": "stdout",
     "output_type": "stream",
     "text": [
      "james\n",
      "robot\n",
      "lisa\n",
      "mary\n"
     ]
    }
   ],
   "source": [
    "myFriends =['james', 'robot', 'lisa','mary']\n",
    "for myFriend in myFriends:\n",
    "    print(myFriend)"
   ]
  },
  {
   "cell_type": "markdown",
   "id": "1b74aaea",
   "metadata": {},
   "source": [
    "<h2>range() 함수이용</h2>"
   ]
  },
  {
   "cell_type": "raw",
   "id": "f2fff767",
   "metadata": {},
   "source": [
    "range(start:stop:step) range(1,N+1,2)"
   ]
  },
  {
   "cell_type": "code",
   "execution_count": 26,
   "id": "a5d2b62d",
   "metadata": {},
   "outputs": [
    {
     "name": "stdout",
     "output_type": "stream",
     "text": [
      "range(0, 10)\n"
     ]
    }
   ],
   "source": [
    "print(range(0,10,1))"
   ]
  },
  {
   "cell_type": "code",
   "execution_count": 27,
   "id": "b42341d5",
   "metadata": {},
   "outputs": [
    {
     "name": "stdout",
     "output_type": "stream",
     "text": [
      "[0, 1, 2, 3, 4, 5, 6, 7, 8, 9]\n"
     ]
    }
   ],
   "source": [
    "print(list(range(0,10,1))) #리스트로 출력"
   ]
  },
  {
   "cell_type": "code",
   "execution_count": 28,
   "id": "c3a0f99a",
   "metadata": {},
   "outputs": [
    {
     "name": "stdout",
     "output_type": "stream",
     "text": [
      "0\n",
      "1\n",
      "2\n",
      "3\n",
      "4\n",
      "5\n"
     ]
    }
   ],
   "source": [
    "for i in range(0,6,1):\n",
    "    print(i)"
   ]
  },
  {
   "cell_type": "code",
   "execution_count": 30,
   "id": "c672e11b",
   "metadata": {},
   "outputs": [
    {
     "name": "stdout",
     "output_type": "stream",
     "text": [
      "3\n",
      "6\n"
     ]
    }
   ],
   "source": [
    "for i in range(3,7,3):\n",
    "    print(i)"
   ]
  },
  {
   "cell_type": "code",
   "execution_count": 33,
   "id": "8d06a926",
   "metadata": {
    "scrolled": false
   },
   "outputs": [
    {
     "name": "stdout",
     "output_type": "stream",
     "text": [
      "[0, 1, 2, 3, 4, 5, 6, 7, 8, 9]\n",
      "[0, 1, 2, 3, 4, 5, 6, 7, 8, 9]\n",
      "[0, 1, 2, 3, 4, 5, 6, 7, 8, 9]\n"
     ]
    }
   ],
   "source": [
    "#생략가능\n",
    "print(list(range(0,10,1)))\n",
    "print(list(range(0,10)))\n",
    "print(list(range(10)))"
   ]
  },
  {
   "cell_type": "code",
   "execution_count": 35,
   "id": "524bb820",
   "metadata": {},
   "outputs": [
    {
     "name": "stdout",
     "output_type": "stream",
     "text": [
      "[0, 5, 10, 15]\n",
      "[-10, -8, -6, -4, -2]\n",
      "[3, 0, -3, -6, -9]\n",
      "[0]\n"
     ]
    }
   ],
   "source": [
    "#양수가아니어도가능\n",
    "print(list(range(0, 20, 5)))\n",
    "print(list(range(-10, 0, 2)))\n",
    "print(list(range(3, -10, -3)))\n",
    "print(list(range(0, 1, 1)))"
   ]
  },
  {
   "cell_type": "markdown",
   "id": "ff46aa94",
   "metadata": {},
   "source": [
    "<h2>중첩 for문</h2>"
   ]
  },
  {
   "cell_type": "code",
   "execution_count": 36,
   "id": "d0313b09",
   "metadata": {},
   "outputs": [
    {
     "ename": "SyntaxError",
     "evalue": "invalid syntax (2120076048.py, line 1)",
     "output_type": "error",
     "traceback": [
      "\u001b[1;36m  File \u001b[1;32m\"C:\\Users\\user\\AppData\\Local\\Temp\\ipykernel_1128\\2120076048.py\"\u001b[1;36m, line \u001b[1;32m1\u001b[0m\n\u001b[1;33m    for <반복변수> in <반복 범위>:\u001b[0m\n\u001b[1;37m        ^\u001b[0m\n\u001b[1;31mSyntaxError\u001b[0m\u001b[1;31m:\u001b[0m invalid syntax\n"
     ]
    }
   ],
   "source": [
    "for <반복변수> in <반복 범위>:\n",
    "    for<반복변수> in <반복 범위>:\n",
    "        코드"
   ]
  },
  {
   "cell_type": "code",
   "execution_count": 43,
   "id": "5c506bae",
   "metadata": {},
   "outputs": [
    {
     "name": "stdout",
     "output_type": "stream",
     "text": [
      "x y z\n",
      "x1 y1 z1\n",
      "x1 y1 z2\n",
      "x1 y2 z1\n",
      "x1 y2 z2\n",
      "x2 y1 z1\n",
      "x2 y1 z2\n",
      "x2 y2 z1\n",
      "x2 y2 z2\n"
     ]
    }
   ],
   "source": [
    "x_list = ['x1', 'x2']\n",
    "y_list = ['y1', 'y2']\n",
    "z_list = ['z1', 'z2']\n",
    "\n",
    "print(\"x y z\")\n",
    "for x in x_list:\n",
    "    for y in y_list:\n",
    "        for z in z_list:\n",
    "            print(x,y,z)"
   ]
  },
  {
   "cell_type": "code",
   "execution_count": 41,
   "id": "1fbe6d59",
   "metadata": {},
   "outputs": [
    {
     "name": "stdout",
     "output_type": "stream",
     "text": [
      "2 * 1 = 2\n",
      "2 * 2 = 4\n",
      "2 * 3 = 6\n",
      "2 * 4 = 8\n",
      "2 * 5 = 10\n",
      "2 * 6 = 12\n",
      "2 * 7 = 14\n",
      "2 * 8 = 16\n",
      "2 * 9 = 18\n",
      "3 * 1 = 3\n",
      "3 * 2 = 6\n",
      "3 * 3 = 9\n",
      "3 * 4 = 12\n",
      "3 * 5 = 15\n",
      "3 * 6 = 18\n",
      "3 * 7 = 21\n",
      "3 * 8 = 24\n",
      "3 * 9 = 27\n",
      "4 * 1 = 4\n",
      "4 * 2 = 8\n",
      "4 * 3 = 12\n",
      "4 * 4 = 16\n",
      "4 * 5 = 20\n",
      "4 * 6 = 24\n",
      "4 * 7 = 28\n",
      "4 * 8 = 32\n",
      "4 * 9 = 36\n",
      "5 * 1 = 5\n",
      "5 * 2 = 10\n",
      "5 * 3 = 15\n",
      "5 * 4 = 20\n",
      "5 * 5 = 25\n",
      "5 * 6 = 30\n",
      "5 * 7 = 35\n",
      "5 * 8 = 40\n",
      "5 * 9 = 45\n",
      "6 * 1 = 6\n",
      "6 * 2 = 12\n",
      "6 * 3 = 18\n",
      "6 * 4 = 24\n",
      "6 * 5 = 30\n",
      "6 * 6 = 36\n",
      "6 * 7 = 42\n",
      "6 * 8 = 48\n",
      "6 * 9 = 54\n",
      "7 * 1 = 7\n",
      "7 * 2 = 14\n",
      "7 * 3 = 21\n",
      "7 * 4 = 28\n",
      "7 * 5 = 35\n",
      "7 * 6 = 42\n",
      "7 * 7 = 49\n",
      "7 * 8 = 56\n",
      "7 * 9 = 63\n",
      "8 * 1 = 8\n",
      "8 * 2 = 16\n",
      "8 * 3 = 24\n",
      "8 * 4 = 32\n",
      "8 * 5 = 40\n",
      "8 * 6 = 48\n",
      "8 * 7 = 56\n",
      "8 * 8 = 64\n",
      "8 * 9 = 72\n",
      "9 * 1 = 9\n",
      "9 * 2 = 18\n",
      "9 * 3 = 27\n",
      "9 * 4 = 36\n",
      "9 * 5 = 45\n",
      "9 * 6 = 54\n",
      "9 * 7 = 63\n",
      "9 * 8 = 72\n",
      "9 * 9 = 81\n"
     ]
    }
   ],
   "source": [
    "for A in range(2,10):\n",
    "    for B in range(1,10):\n",
    "        print(f\"{A} * {B} = {A*B}\")"
   ]
  },
  {
   "cell_type": "code",
   "execution_count": 85,
   "id": "8085a705",
   "metadata": {},
   "outputs": [
    {
     "name": "stdout",
     "output_type": "stream",
     "text": [
      "[0, 8, 3]\n"
     ]
    }
   ],
   "source": [
    "import random\n",
    "a = [0,1,2,3,4,5,6,7,8,9]\n",
    "b = [0,1,2,3,4,5,6,7,8,9]\n",
    "c = [0,1,2,3,4,5,6,7,8,9]\n",
    "\n",
    "while 1:\n",
    "    print(random.sample(a,3))\n",
    "    if a == b == c:\n",
    "        break\n",
    "                  \n",
    "                  "
   ]
  },
  {
   "cell_type": "code",
   "execution_count": 78,
   "id": "bfb90d6e",
   "metadata": {},
   "outputs": [],
   "source": [
    "names = ['james', 'robot', 'lisa','mary']\n",
    "scores = [95,96,97,94]"
   ]
  },
  {
   "cell_type": "code",
   "execution_count": 79,
   "id": "04f469db",
   "metadata": {},
   "outputs": [
    {
     "name": "stdout",
     "output_type": "stream",
     "text": [
      "james 95\n",
      "robot 96\n",
      "lisa 97\n",
      "mary 94\n"
     ]
    }
   ],
   "source": [
    "names = ['james', 'robot', 'lisa','mary']\n",
    "scores = [95,96,97,94]\n",
    "for k in range(len(names)): # len 리스트의 길이 names의 길이 range(0,4) 만큼 돌린디.\n",
    "    print(names[k], scores[k])"
   ]
  },
  {
   "cell_type": "code",
   "execution_count": 80,
   "id": "c26cb242",
   "metadata": {},
   "outputs": [
    {
     "name": "stdout",
     "output_type": "stream",
     "text": [
      "james 95\n",
      "robot 96\n",
      "lisa 97\n",
      "mary 94\n"
     ]
    }
   ],
   "source": [
    "for name, score in zip(names, scores): #zip 같은 길이의 데이터끼리 묶어준다.\n",
    "    print(name, score)"
   ]
  },
  {
   "cell_type": "code",
   "execution_count": 82,
   "id": "520a3639",
   "metadata": {},
   "outputs": [
    {
     "name": "stdout",
     "output_type": "stream",
     "text": [
      "2 * 1 = 2\n",
      "2 * 2 = 4\n",
      "2 * 3 = 6\n",
      "2 * 4 = 8\n",
      "2 * 5 = 10\n",
      "2 * 6 = 12\n",
      "2 * 7 = 14\n",
      "2 * 8 = 16\n",
      "2 * 9 = 18\n",
      "3 * 1 = 3\n",
      "3 * 2 = 6\n",
      "3 * 3 = 9\n",
      "3 * 4 = 12\n",
      "3 * 5 = 15\n",
      "3 * 6 = 18\n",
      "3 * 7 = 21\n",
      "3 * 8 = 24\n",
      "3 * 9 = 27\n",
      "4 * 1 = 4\n",
      "4 * 2 = 8\n",
      "4 * 3 = 12\n",
      "4 * 4 = 16\n",
      "4 * 5 = 20\n",
      "4 * 6 = 24\n",
      "4 * 7 = 28\n",
      "4 * 8 = 32\n",
      "4 * 9 = 36\n",
      "5 * 1 = 5\n",
      "5 * 2 = 10\n",
      "5 * 3 = 15\n",
      "5 * 4 = 20\n",
      "5 * 5 = 25\n",
      "5 * 6 = 30\n",
      "5 * 7 = 35\n",
      "5 * 8 = 40\n",
      "5 * 9 = 45\n",
      "6 * 1 = 6\n",
      "6 * 2 = 12\n",
      "6 * 3 = 18\n",
      "6 * 4 = 24\n",
      "6 * 5 = 30\n",
      "6 * 6 = 36\n",
      "6 * 7 = 42\n",
      "6 * 8 = 48\n",
      "6 * 9 = 54\n",
      "7 * 1 = 7\n",
      "7 * 2 = 14\n",
      "7 * 3 = 21\n",
      "7 * 4 = 28\n",
      "7 * 5 = 35\n",
      "7 * 6 = 42\n",
      "7 * 7 = 49\n",
      "7 * 8 = 56\n",
      "7 * 9 = 63\n",
      "8 * 1 = 8\n",
      "8 * 2 = 16\n",
      "8 * 3 = 24\n",
      "8 * 4 = 32\n",
      "8 * 5 = 40\n",
      "8 * 6 = 48\n",
      "8 * 7 = 56\n",
      "8 * 8 = 64\n",
      "8 * 9 = 72\n",
      "9 * 1 = 9\n",
      "9 * 2 = 18\n",
      "9 * 3 = 27\n",
      "9 * 4 = 36\n",
      "9 * 5 = 45\n",
      "9 * 6 = 54\n",
      "9 * 7 = 63\n",
      "9 * 8 = 72\n",
      "9 * 9 = 81\n"
     ]
    }
   ],
   "source": [
    "for i in range(2,10):\n",
    "    for j in range(1,10):\n",
    "        print(f\"{i} * {j} = {i * j}\")"
   ]
  },
  {
   "cell_type": "markdown",
   "id": "a42ae952",
   "metadata": {},
   "source": [
    "<h1>5.3 조건에 따라 반복하는 while 문</h1>"
   ]
  },
  {
   "cell_type": "markdown",
   "id": "10c14d9c",
   "metadata": {},
   "source": [
    "<h2>while 문의 구조</h2>"
   ]
  },
  {
   "cell_type": "code",
   "execution_count": null,
   "id": "9a492cd2",
   "metadata": {},
   "outputs": [],
   "source": [
    "while 조건문:\n",
    "    코드"
   ]
  },
  {
   "cell_type": "code",
   "execution_count": 1,
   "id": "931eeb24",
   "metadata": {},
   "outputs": [
    {
     "name": "stdout",
     "output_type": "stream",
     "text": [
      "i sum\n",
      "1 1\n",
      "2 3\n",
      "3 6\n",
      "4 10\n",
      "5 15\n",
      "6 21\n"
     ]
    }
   ],
   "source": [
    "i = 0\n",
    "sum = 0\n",
    "\n",
    "print(\"i sum\")\n",
    "while (sum < 20): # 조건 검사\n",
    "    i = i + 1     # i를 1씩 증가\n",
    "    sum = sum + i   # 전의 sum과 현재 i를 더해서 sum을 갱신\n",
    "    print(i, sum) # i와 sum을 출력"
   ]
  },
  {
   "cell_type": "markdown",
   "id": "ba7556dc",
   "metadata": {},
   "source": [
    "<h2>무한반복 while문</h2>"
   ]
  },
  {
   "cell_type": "code",
   "execution_count": 5,
   "id": "031b6370",
   "metadata": {},
   "outputs": [],
   "source": [
    "# while True:\n",
    " #   print('while test')"
   ]
  },
  {
   "cell_type": "markdown",
   "id": "e74fc1b9",
   "metadata": {},
   "source": [
    "<h1>5.4 반복문을 제어하는 break 와 continue</h1>\n",
    "<h2>반복문을 빠져나오는 break</h2>"
   ]
  },
  {
   "cell_type": "code",
   "execution_count": 6,
   "id": "1425f3a2",
   "metadata": {},
   "outputs": [
    {
     "name": "stdout",
     "output_type": "stream",
     "text": [
      "1\n",
      "2\n",
      "3\n"
     ]
    }
   ],
   "source": [
    "k = 0\n",
    "while True:\n",
    "    k = k + 1 #k는 1씩 증가\n",
    "    \n",
    "    if(k > 3): #k가 3보다 크면\n",
    "        break #break로 while 문을 빠져나옴\n",
    "        \n",
    "    print(k) # k 출력     "
   ]
  },
  {
   "cell_type": "code",
   "execution_count": 8,
   "id": "0c7e6da3",
   "metadata": {},
   "outputs": [
    {
     "name": "stdout",
     "output_type": "stream",
     "text": [
      "0\n",
      "1\n",
      "2\n"
     ]
    }
   ],
   "source": [
    "for k in range(10):\n",
    "    if(k > 2): # k가 2보다 크면\n",
    "        break #break로 for문을 빠져나옴\n",
    "        \n",
    "    print(k)        "
   ]
  },
  {
   "cell_type": "markdown",
   "id": "04a6f6af",
   "metadata": {},
   "source": [
    "<h2>다음 반복을 실행하는 continue</h2>"
   ]
  },
  {
   "cell_type": "code",
   "execution_count": 10,
   "id": "f5820af9",
   "metadata": {},
   "outputs": [
    {
     "name": "stdout",
     "output_type": "stream",
     "text": [
      "0\n",
      "1\n",
      "3\n",
      "4\n"
     ]
    }
   ],
   "source": [
    "for k in range(5):\n",
    "    if (k == 2): # 2만 안하고 넘어감\n",
    "        continue #k == 2일 때만 print 안하고 다음 반복문으로 넘어감 for 3 ~ \n",
    "    print(k)    "
   ]
  },
  {
   "cell_type": "code",
   "execution_count": 11,
   "id": "53dcb020",
   "metadata": {},
   "outputs": [
    {
     "name": "stdout",
     "output_type": "stream",
     "text": [
      "1\n",
      "continue next\n",
      "3\n",
      "4\n"
     ]
    }
   ],
   "source": [
    "k = 0\n",
    "while True:\n",
    "    k = k + 1\n",
    "    \n",
    "    if(k == 2):\n",
    "        print(\"continue next\")\n",
    "        continue #2면 아래 조건 무시하고 위로 올라감 \n",
    "    if(k > 4):\n",
    "        break\n",
    "        \n",
    "    print(k)    "
   ]
  },
  {
   "cell_type": "markdown",
   "id": "923a0afd",
   "metadata": {},
   "source": [
    "<h1>5.5 간단하게 반복하는 한줄 for 문</h1>\n",
    "\n",
    "<h2>컴프리헨션 의 기본구조 </h2>"
   ]
  },
  {
   "cell_type": "code",
   "execution_count": 12,
   "id": "e431f567",
   "metadata": {},
   "outputs": [
    {
     "name": "stdout",
     "output_type": "stream",
     "text": [
      "[1, 4, 9, 16, 25]\n"
     ]
    }
   ],
   "source": [
    "numbers = [1,2,3,4,5]\n",
    "square = []\n",
    "\n",
    "for i in numbers:\n",
    "    square.append(i**2)\n",
    "    \n",
    "print(square)"
   ]
  },
  {
   "cell_type": "code",
   "execution_count": 14,
   "id": "2e9f86d7",
   "metadata": {},
   "outputs": [
    {
     "name": "stdout",
     "output_type": "stream",
     "text": [
      "[1, 4, 9, 16, 25]\n"
     ]
    }
   ],
   "source": [
    "numbers = [1,2,3,4,5]\n",
    "square = [i**2 for i in numbers]\n",
    "print(square)"
   ]
  },
  {
   "cell_type": "markdown",
   "id": "5d7bf371",
   "metadata": {},
   "source": [
    "조건문을 포함한 리스트 컴프리헨션"
   ]
  },
  {
   "cell_type": "code",
   "execution_count": 16,
   "id": "ee5b880f",
   "metadata": {},
   "outputs": [
    {
     "name": "stdout",
     "output_type": "stream",
     "text": [
      "[9, 16, 25]\n"
     ]
    }
   ],
   "source": [
    "numbers = [1,2,3,4,5]\n",
    "square = []\n",
    "\n",
    "for i in numbers:\n",
    "    if i >= 3:\n",
    "        square.append(i**2)\n",
    "    \n",
    "print(square)"
   ]
  },
  {
   "cell_type": "code",
   "execution_count": 19,
   "id": "c21ea4fa",
   "metadata": {},
   "outputs": [
    {
     "name": "stdout",
     "output_type": "stream",
     "text": [
      "[9, 16, 25]\n"
     ]
    }
   ],
   "source": [
    "numbers = [1,2,3,4,5]\n",
    "square = [i**2 for i in numbers if i >= 3]\n",
    "print(square)"
   ]
  },
  {
   "cell_type": "code",
   "execution_count": null,
   "id": "61454cea",
   "metadata": {},
   "outputs": [],
   "source": [
    "a = int(input(\"돈을 넣어주세요 :\"))\n",
    "count = 0\n",
    "\n",
    "while 1:\n",
    "    for i in range(1,10):\n",
    "        print(f\"{a}원을 줍니다\")\n",
    "        count = i + 1\n",
    "        if count == 10:\n",
    "            print(\"돈을 그만 줍니다\")    \n",
    "    break"
   ]
  },
  {
   "cell_type": "code",
   "execution_count": null,
   "id": "70586a89",
   "metadata": {},
   "outputs": [],
   "source": []
  }
 ],
 "metadata": {
  "kernelspec": {
   "display_name": "Python 3 (ipykernel)",
   "language": "python",
   "name": "python3"
  },
  "language_info": {
   "codemirror_mode": {
    "name": "ipython",
    "version": 3
   },
   "file_extension": ".py",
   "mimetype": "text/x-python",
   "name": "python",
   "nbconvert_exporter": "python",
   "pygments_lexer": "ipython3",
   "version": "3.9.13"
  }
 },
 "nbformat": 4,
 "nbformat_minor": 5
}
