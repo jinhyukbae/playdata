{
 "cells": [
  {
   "cell_type": "code",
   "execution_count": null,
   "id": "a05a2216",
   "metadata": {},
   "outputs": [],
   "source": [
    "가상 환경확인\n",
    "\n",
    "conda info --envs #설치버전 확인\n",
    "python --version #설치버전 확인\n",
    "conda search python #설치 가능 버전 확인\n",
    "conda create --name py3_8_5 python=3.8.5 #가상환경설치\n",
    "conda activate py3_8_5 #가상환경으로 변경\n",
    "conda deactivate #가상환경 해제\n",
    "\n",
    "필요한 라이브러리 \n",
    "\n",
    "pip install numpy\n",
    "pip install pandas\n",
    "pip install matplotlib\n",
    "pip install beautifulsoup4\n",
    "pip install selenium\n",
    "pip install pymysql\n",
    "pip install cryptography\n",
    "pip install openpyxl\n",
    "pip install xlrd\n",
    "\n",
    "주피터 노트북에 가상환경 추가\n",
    "\n",
    "pip install ipykernel\n",
    "python -m ipykernel install --user --name py3_8_5\n",
    "--display-name \"python3_8_5\"(py3_8_5)\n",
    "jupyter notebook\n",
    "\n",
    "conda remove --name py3_8_5 --all 가상 환경 삭제\n"
   ]
  },
  {
   "cell_type": "markdown",
   "id": "bb6d3cab",
   "metadata": {},
   "source": [
    "## 크롤링의 기본원리\n",
    "\n",
    "1. 접속해 웹 페이지를 확인\n",
    "\n",
    "2. 키보드의 F12를 눌러 내가 원하는 정보의 위치를 확인한다.\n",
    "\n",
    "3. 파이썬 코드를 작성해 접속한 웹 페이지의 html코드를 불러온다.\n",
    "\n",
    "4. 불러온 데이터에서 원하는 정보를 가공한 후 추출한다.\n",
    "\n",
    "5. 추출한 정보를 cvs나 데이터베이스 등 다양한 형태로 저장하거나 가공하고 시각화한다.\n",
    "\n"
   ]
  },
  {
   "cell_type": "code",
   "execution_count": null,
   "id": "e921323f",
   "metadata": {},
   "outputs": [],
   "source": [
    "from bs4 import BeautifulSoup"
   ]
  },
  {
   "cell_type": "code",
   "execution_count": null,
   "id": "0320199b",
   "metadata": {},
   "outputs": [],
   "source": [
    "html_doc = \"\"\"\n",
    "<!doctype html>\n",
    "<html>\n",
    "    <head> \n",
    "        <title> 기초 크롤링 </title> \n",
    "    </head>\n",
    "    <body> \n",
    "        크롤링을 해봅시다. \n",
    "    </body>\n",
    "</html>\n",
    "\"\"\""
   ]
  },
  {
   "cell_type": "code",
   "execution_count": null,
   "id": "ebfe588f",
   "metadata": {},
   "outputs": [],
   "source": [
    "html_doc = \"\"\"\n",
    "<!doctype html>\n",
    "<html>\n",
    "    <head> \n",
    "        <title> 기초 크롤링 </title> \n",
    "    </head>\n",
    "    <body> \n",
    "        <table border=\"1\">\n",
    "            <caption> 과일 가격 </caption>\n",
    "            <tr>\n",
    "                <th> 상품 </th>\n",
    "                <th> 가격 </th>\n",
    "            </tr>\n",
    "            <tr>\n",
    "                <td> 오렌지 </td>\n",
    "                <td> 100 </td>\n",
    "            <//tr>\n",
    "            <tr>\n",
    "                <td> 사과 </td>\n",
    "                <td> 150 </td>\n",
    "            </tr>\n",
    "        </table>\n",
    "\n",
    "        <table border=\"2\">\n",
    "            <caption> 의류 가격 </caption>\n",
    "            <tr>\n",
    "                <th> 상품 </th>\n",
    "                <th> 가격 </th>\n",
    "            </tr>\n",
    "            <tr>\n",
    "                <td> 셔츠 </td>\n",
    "                <td> 30000 </td>\n",
    "            </tr>\n",
    "            <tr>\n",
    "                <td> 바지 </td>\n",
    "                <td> 50000 </td>\n",
    "            </tr>\n",
    "        </table>\n",
    "        </body>\n",
    "</html>\n",
    "\"\"\""
   ]
  },
  {
   "cell_type": "markdown",
   "id": "c234e9ce",
   "metadata": {},
   "source": [
    "# CSS"
   ]
  },
  {
   "cell_type": "code",
   "execution_count": null,
   "id": "2b2f8ffd",
   "metadata": {},
   "outputs": [],
   "source": [
    "p {\n",
    "    color: red;\n",
    "}\n",
    "\n",
    "작성 후 styles 폴더 생성 후 저장 (css)"
   ]
  },
  {
   "cell_type": "code",
   "execution_count": null,
   "id": "274c13cb",
   "metadata": {},
   "outputs": [],
   "source": [
    "\n",
    "<!doctype html>\n",
    "<html>\n",
    "    <head> \n",
    "        <link href=\"styles/style.css\" rel=\"stylesheet\" type=\"text/css\">\n",
    "        <title> css </title> \n",
    "    </head>\n",
    "    <body> \n",
    "        <p>빨간색이다</p> \n",
    "    </body>\n",
    "</html>\n"
   ]
  },
  {
   "cell_type": "markdown",
   "id": "c82a7c1b",
   "metadata": {},
   "source": [
    "# 자바 스크립트"
   ]
  },
  {
   "cell_type": "code",
   "execution_count": null,
   "id": "e034607a",
   "metadata": {},
   "outputs": [],
   "source": [
    "html_doc = \"\"\"\n",
    "<!doctype html>\n",
    "<html>\n",
    "<body>    \n",
    "    <p> \n",
    "        스크립트 실행 전\n",
    "    </p>\n",
    "    <script>     \n",
    "        alert('컴퓨터가 멈췄습니다.');\n",
    "    </script>\n",
    "</body>\n",
    "</html>\n",
    "\"\"\""
   ]
  },
  {
   "cell_type": "markdown",
   "id": "51670534",
   "metadata": {},
   "source": [
    "실습 폴더안에 script 폴더 생성 후 \n",
    "\n",
    "alert('hello world'); #메모장에 작성 후\n",
    "\n",
    "script.js로 저장"
   ]
  },
  {
   "cell_type": "code",
   "execution_count": null,
   "id": "8bc16b3c",
   "metadata": {},
   "outputs": [],
   "source": [
    "html_doc = \"\"\"\n",
    "<!doctype html>\n",
    "<html>\n",
    "<body>    \n",
    "    <p> \n",
    "        스크립트 실행 전\n",
    "    </p>\n",
    "    <script src=\"script/script.js\"></script>\n",
    "</body>\n",
    "</html>\n",
    "\"\"\""
   ]
  },
  {
   "cell_type": "markdown",
   "id": "94c3a8e4",
   "metadata": {},
   "source": [
    "# Beautifulsoup 라이브러리"
   ]
  },
  {
   "cell_type": "code",
   "execution_count": null,
   "id": "499f0d81",
   "metadata": {},
   "outputs": [],
   "source": [
    "from bs4 import BeautifulSoup"
   ]
  },
  {
   "cell_type": "code",
   "execution_count": 14,
   "id": "76357512",
   "metadata": {},
   "outputs": [
    {
     "name": "stdout",
     "output_type": "stream",
     "text": [
      "<http.client.HTTPResponse object at 0x0000025ACA158CD0>\n"
     ]
    }
   ],
   "source": [
    "from urllib.request import urlopen #urllib 를 불러온다.\n",
    "from bs4 import BeautifulSoup \n",
    "\n",
    "url = \"https://ai-dev.tistory.com/1?category=836119\" #웹 사이트 주소를 저장\n",
    "html = urlopen(url) #urlopen 함수를 이용해 url를 오픈하고 저장\n",
    "bs_obj = BeautifulSoup(html, \"html.parser\") #파싱을 저장\n",
    "\n",
    "제목 추출\n",
    "title = bs_obj.find_all(\"h1\")\n",
    "print(title)\n",
    "# print(title[1])\n",
    "# print(title[1].text)\n",
    "\n",
    "본문 내용 추출\n",
    "contents = bs_obj.find_all(\"p\")\n",
    "print(contents)\n",
    "print(contents[1])\n",
    "print(contents[1].text)"
   ]
  },
  {
   "cell_type": "code",
   "execution_count": null,
   "id": "be9a5139",
   "metadata": {},
   "outputs": [],
   "source": [
    "크롬 드라이버 다운로드\n",
    "\n",
    "chrome://version/\n",
    "    \n",
    "https://sites.google.com/a/chromium.org/chromedriver/downloads"
   ]
  },
  {
   "cell_type": "code",
   "execution_count": null,
   "id": "e5706d6e",
   "metadata": {},
   "outputs": [],
   "source": [
    "from selenium import webdriver #라이브러리 사용\n",
    "from urllib.request import urlopen\n",
    "from bs4 import BeautifulSoup\n",
    "\n",
    "#크롬 드라이버 사용\n",
    "driver = webdriver.Chrome('C:/Users/Cheolwon/Documents/app/chromedriver.exe')\n",
    "driver.implicitly_wait(3) #페이지 로드 기다리기\n",
    "driver.get(\"https://www.livesport.com/team/manchester-united/ppjDR086/\")\n",
    "\n",
    "page = driver.page_source\n",
    "bs_obj = BeautifulSoup(page, \"html.parser\")\n",
    "\n",
    "win = bs_obj.find_all(\"span\", {\"class\":\"wld wld--w\"})\n",
    "tiewin = bs_obj.find_all(\"span\", {\"class\":\"wld wld--wo\"})\n",
    "draw = bs_obj.find_all(\"span\", {\"class\":\"wld wld--d\"})\n",
    "lose = bs_obj.find_all(\"span\", {\"class\":\"wld wld--l\"})\n",
    "tielose = bs_obj.find_all(\"span\", {\"class\":\"wld wld--lo\"})\n",
    "\n",
    "n_win = len(win) + len(tiewin)\n",
    "n_drow = len(draw)\n",
    "n_lose = len(lose) + len(tielose)\n",
    "\n",
    "report ={'win': n_win, 'draw': n_drow, 'lose' : n_lose}\n",
    "max_n = max(report.values())\n",
    "\n",
    "for key in report:\n",
    "    if(report[key]==max_n):\n",
    "        print(key)"
   ]
  },
  {
   "cell_type": "code",
   "execution_count": null,
   "id": "d695cdfc",
   "metadata": {},
   "outputs": [],
   "source": []
  }
 ],
 "metadata": {
  "kernelspec": {
   "display_name": "Python 3 (ipykernel)",
   "language": "python",
   "name": "python3"
  },
  "language_info": {
   "codemirror_mode": {
    "name": "ipython",
    "version": 3
   },
   "file_extension": ".py",
   "mimetype": "text/x-python",
   "name": "python",
   "nbconvert_exporter": "python",
   "pygments_lexer": "ipython3",
   "version": "3.9.13"
  }
 },
 "nbformat": 4,
 "nbformat_minor": 5
}
