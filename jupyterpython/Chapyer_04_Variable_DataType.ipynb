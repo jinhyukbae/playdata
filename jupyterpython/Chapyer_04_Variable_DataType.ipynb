{
 "cells": [
  {
   "cell_type": "markdown",
   "id": "74faa528",
   "metadata": {},
   "source": [
    "<h1>4장 변수와 자료형</h1>\n",
    "<br><h3>4.1 변수</h3>"
   ]
  },
  {
   "cell_type": "code",
   "execution_count": 9,
   "id": "2b0e7890",
   "metadata": {},
   "outputs": [
    {
     "name": "stdout",
     "output_type": "stream",
     "text": [
      "6170.0\n"
     ]
    }
   ],
   "source": [
    "a = 12340\n",
    "print(a * 1/2)"
   ]
  },
  {
   "cell_type": "code",
   "execution_count": 5,
   "id": "c0bf5138",
   "metadata": {},
   "outputs": [
    {
     "data": {
      "text/plain": [
       "3085.0"
      ]
     },
     "execution_count": 5,
     "metadata": {},
     "output_type": "execute_result"
    }
   ],
   "source": [
    "12340 * 1/4"
   ]
  },
  {
   "cell_type": "code",
   "execution_count": 4,
   "id": "cb74da3b",
   "metadata": {},
   "outputs": [
    {
     "data": {
      "text/plain": [
       "2468.0"
      ]
     },
     "execution_count": 4,
     "metadata": {},
     "output_type": "execute_result"
    }
   ],
   "source": [
    "12340 * 1/5"
   ]
  },
  {
   "cell_type": "markdown",
   "id": "0da32e73",
   "metadata": {},
   "source": [
    "<b>데이터를 변수에 할당</b>\n",
    "<br>변수에 자료를 할당하고, 변수를 불러 값을 출력(반대는 변하지 않는 상수)\n",
    "<ol>\n",
    "    <li>변수명은 문자,숫자,밑줄기호를 이용하여 만들 수 있다. EX) a,book1,my_student2,MyDog, _my_number</li>\n",
    "    <li>숫자로 시작할 수 없다. ex)5징어</li>\n",
    "    <li>대소문자를 구별함 Money != money</li>\n",
    "    <li>공백은 불가 world cup (x)</li>\n",
    "    <li>밑줄 이외의 기호는 불가 (%,  등)</li>\n",
    "    <li>예약어는 사용 불가 (True,False,and,or 등)</li>  \n",
    "</ol>"
   ]
  },
  {
   "cell_type": "code",
   "execution_count": 10,
   "id": "72adccea",
   "metadata": {},
   "outputs": [
    {
     "name": "stdout",
     "output_type": "stream",
     "text": [
      "12340\n"
     ]
    }
   ],
   "source": [
    "abc = 12340\n",
    "print(abc)"
   ]
  },
  {
   "cell_type": "code",
   "execution_count": 11,
   "id": "24820fc4",
   "metadata": {},
   "outputs": [
    {
     "data": {
      "text/plain": [
       "12340"
      ]
     },
     "execution_count": 11,
     "metadata": {},
     "output_type": "execute_result"
    }
   ],
   "source": [
    "abc"
   ]
  },
  {
   "cell_type": "code",
   "execution_count": 12,
   "id": "80c4baa6",
   "metadata": {},
   "outputs": [
    {
     "name": "stdout",
     "output_type": "stream",
     "text": [
      "6170.0\n",
      "3085.0\n",
      "2468.0\n"
     ]
    }
   ],
   "source": [
    "print(abc * 1/2)\n",
    "print(abc * 1/4)\n",
    "print(abc * 1/5)"
   ]
  },
  {
   "cell_type": "markdown",
   "id": "2e7eb42b",
   "metadata": {},
   "source": [
    "<h1>4.2 문자열</h1>\n",
    "큰따옴표 작은따옴표 모두 허용"
   ]
  },
  {
   "cell_type": "code",
   "execution_count": 13,
   "id": "f57ebf3b",
   "metadata": {},
   "outputs": [
    {
     "name": "stdout",
     "output_type": "stream",
     "text": [
      "hello world\n",
      "hello wrold\n"
     ]
    }
   ],
   "source": [
    "print(\"hello world\")\n",
    "print('hello wrold')"
   ]
  },
  {
   "cell_type": "code",
   "execution_count": 28,
   "id": "8fdf1be9",
   "metadata": {},
   "outputs": [
    {
     "name": "stdout",
     "output_type": "stream",
     "text": [
      "Life is too short\n",
      "you need python\n",
      "Life is too shortyou need python\n",
      "Life is too short,you need python\n",
      "Life is too short,you need python\n"
     ]
    }
   ],
   "source": [
    "life = \"Life is too short\"\n",
    "need = \"you need python\"\n",
    "print(life)\n",
    "print(need)\n",
    "print(life + need)\n",
    "print(f\"{life},{need}\")\n",
    "\n",
    "total = (f\"{life},{need}\")\n",
    "print(total)"
   ]
  },
  {
   "cell_type": "code",
   "execution_count": 21,
   "id": "2890f703",
   "metadata": {},
   "outputs": [
    {
     "data": {
      "text/plain": [
       "str"
      ]
     },
     "execution_count": 21,
     "metadata": {},
     "output_type": "execute_result"
    }
   ],
   "source": [
    "type(life)\n",
    "type(need)"
   ]
  },
  {
   "cell_type": "markdown",
   "id": "188f83f7",
   "metadata": {},
   "source": [
    "큰 따옴표 작은 따옴표 출력"
   ]
  },
  {
   "cell_type": "code",
   "execution_count": 31,
   "id": "9ad26ec4",
   "metadata": {},
   "outputs": [
    {
     "name": "stdout",
     "output_type": "stream",
     "text": [
      "this is a \"double\" quotation test\n",
      "this is a 'double' quotation test\n"
     ]
    }
   ],
   "source": [
    "string3 = 'this is a \"double\" quotation test'\n",
    "string4 = \"this is a 'double' quotation test\"\n",
    "print(string3)\n",
    "print(string4)"
   ]
  },
  {
   "cell_type": "markdown",
   "id": "7314776a",
   "metadata": {},
   "source": [
    "삼중따옴표 활용"
   ]
  },
  {
   "cell_type": "code",
   "execution_count": 52,
   "id": "0b8b92c2",
   "metadata": {},
   "outputs": [
    {
     "name": "stdout",
     "output_type": "stream",
     "text": [
      "[삼중 작은 따옴표 사용함\n",
      "파이썬에는 삼종따옴표로 여러 행의 문자열을 입력 할 수 있다\n",
      "큰따옴표 작은따옴표도 입력 할 수 있다]\n",
      "[삼중 큰 따옴표 사용함\n",
      "가\n",
      "나\n",
      "다\n",
      "라\n",
      "마]\n"
     ]
    }
   ],
   "source": [
    "long_string1 = '''[삼중 작은 따옴표 사용함\n",
    "파이썬에는 삼종따옴표로 여러 행의 문자열을 입력 할 수 있다\n",
    "큰따옴표 작은따옴표도 입력 할 수 있다]'''\n",
    "long_string2 = \"\"\"[삼중 큰 따옴표 사용함\n",
    "가\n",
    "나\n",
    "다\n",
    "라\n",
    "마]\"\"\"\n",
    "\n",
    "\n",
    "print(long_string1)\n",
    "print(long_string2)\n",
    "\n",
    "#전체 주석처리 컨트롤 슬래쉬 "
   ]
  },
  {
   "cell_type": "markdown",
   "id": "7b74d86a",
   "metadata": {},
   "source": [
    "문자열 다루기\n",
    "<br>문자열 더하기 곱셈"
   ]
  },
  {
   "cell_type": "code",
   "execution_count": 51,
   "id": "f7b46fd9",
   "metadata": {},
   "outputs": [
    {
     "name": "stdout",
     "output_type": "stream",
     "text": [
      "life is too shortyou need python\n",
      "life is too short you need python \n"
     ]
    }
   ],
   "source": [
    "a = 'life is too short'\n",
    "b = 'you need python'\n",
    "c = a + b\n",
    "print(c)\n",
    "\n",
    "print(f\"{a} {b} \")\n",
    "\n"
   ]
  },
  {
   "cell_type": "code",
   "execution_count": 55,
   "id": "42348d1f",
   "metadata": {},
   "outputs": [
    {
     "name": "stdout",
     "output_type": "stream",
     "text": [
      "life is too shortyou need pythonlife is too shortyou need pythonlife is too shortyou need python\n",
      "life is too shortyou need python life is too short you need python \n"
     ]
    }
   ],
   "source": [
    "print(c * 3)\n",
    "print(f\"{c} {a} {b} \")"
   ]
  },
  {
   "cell_type": "code",
   "execution_count": 60,
   "id": "79304d9f",
   "metadata": {},
   "outputs": [
    {
     "name": "stdout",
     "output_type": "stream",
     "text": [
      "enjoy     enjoy     \n"
     ]
    }
   ],
   "source": [
    "a = 'enjoy     '\n",
    "print(a * (3 - 1))"
   ]
  },
  {
   "cell_type": "markdown",
   "id": "b8534b78",
   "metadata": {},
   "source": [
    "<h1>4.3 리스트</h1>\n",
    "<br>리스트 만들기\n",
    "<br>데이터를 한꺼번에 처리하기 위해 묶어놓으면 편하다"
   ]
  },
  {
   "cell_type": "code",
   "execution_count": 75,
   "id": "7061e3ae",
   "metadata": {},
   "outputs": [
    {
     "data": {
      "text/plain": [
       "[90, 95, 85, 80]"
      ]
     },
     "execution_count": 75,
     "metadata": {},
     "output_type": "execute_result"
    }
   ],
   "source": [
    "#1번 학생의 국어, 영어, 수학, 과학 점수가 각각 90,95,85,80\n",
    "student1 = [90,95,85,80]\n",
    "student1\n",
    "\n"
   ]
  },
  {
   "cell_type": "code",
   "execution_count": 76,
   "id": "2d30341b",
   "metadata": {},
   "outputs": [
    {
     "name": "stdout",
     "output_type": "stream",
     "text": [
      "87.5\n"
     ]
    }
   ],
   "source": [
    "import numpy as np\n",
    "student = np.array([90,95,85,80])\n",
    "avg = np.mean(student)\n",
    "print(avg)\n"
   ]
  },
  {
   "cell_type": "code",
   "execution_count": 77,
   "id": "ef66c7fd",
   "metadata": {},
   "outputs": [
    {
     "data": {
      "text/plain": [
       "list"
      ]
     },
     "execution_count": 77,
     "metadata": {},
     "output_type": "execute_result"
    }
   ],
   "source": [
    "type(student1)"
   ]
  },
  {
   "cell_type": "code",
   "execution_count": 98,
   "id": "1bf616ef",
   "metadata": {},
   "outputs": [
    {
     "name": "stdout",
     "output_type": "stream",
     "text": [
      "[80, 85, 95, 90]\n",
      "[80, 85, 90, 95]\n"
     ]
    }
   ],
   "source": [
    "student2 = [90,95,85,80]\n",
    "student2.reverse()\n",
    "print(student2)\n",
    "student2.sort()\n",
    "print(student2)"
   ]
  },
  {
   "cell_type": "markdown",
   "id": "6637226d",
   "metadata": {},
   "source": [
    "리스트의 타입 및 출력"
   ]
  },
  {
   "cell_type": "code",
   "execution_count": 81,
   "id": "209cab79",
   "metadata": {},
   "outputs": [
    {
     "data": {
      "text/plain": [
       "list"
      ]
     },
     "execution_count": 81,
     "metadata": {},
     "output_type": "execute_result"
    }
   ],
   "source": [
    "type(student1)"
   ]
  },
  {
   "cell_type": "code",
   "execution_count": 104,
   "id": "67f11ce4",
   "metadata": {},
   "outputs": [
    {
     "data": {
      "text/plain": [
       "85"
      ]
     },
     "execution_count": 104,
     "metadata": {},
     "output_type": "execute_result"
    }
   ],
   "source": [
    "student[0]\n",
    "student[-1]\n",
    "student[-2]"
   ]
  },
  {
   "cell_type": "code",
   "execution_count": 105,
   "id": "07f95751",
   "metadata": {},
   "outputs": [
    {
     "name": "stdout",
     "output_type": "stream",
     "text": [
      "30\n",
      "다른 점수를 입력해주세요\n"
     ]
    }
   ],
   "source": [
    "#student2 = [90,95,85,80]\n",
    "a = int(input())\n",
    "if a == 90:\n",
    "    print(\"수학 점수\")\n",
    "elif a == 95:\n",
    "    print(\"영어 점수\")\n",
    "elif a == 85:\n",
    "    print(\"과학 점수\")\n",
    "elif a == 80:\n",
    "    print(\"도덕 점수\")\n",
    "else:\n",
    "    print(\"다른 점수를 입력해주세요\")\n",
    "    "
   ]
  },
  {
   "cell_type": "markdown",
   "id": "5c470ba6",
   "metadata": {},
   "source": [
    "새로운 데이터를 할당"
   ]
  },
  {
   "cell_type": "code",
   "execution_count": 110,
   "id": "fb5ba8f7",
   "metadata": {},
   "outputs": [
    {
     "name": "stdout",
     "output_type": "stream",
     "text": [
      "[ 90 100  85  80]\n",
      "3\n",
      "3 * 1 = 3\n",
      "3 * 2 = 6\n",
      "3 * 3 = 9\n",
      "3 * 4 = 12\n",
      "3 * 5 = 15\n",
      "3 * 6 = 18\n",
      "3 * 7 = 21\n",
      "3 * 8 = 24\n",
      "3 * 9 = 27\n"
     ]
    }
   ],
   "source": [
    "student[1] = 100 # 두번째항목에 세로운 데이터 할당\n",
    "student[1]\n",
    "print(student)\n",
    "\n",
    "\n",
    "N = int(input())\n",
    "for i in range(1,10):\n",
    "    print(f\"{N} * {i} = {N*i}\")"
   ]
  },
  {
   "cell_type": "markdown",
   "id": "f0b1d803",
   "metadata": {},
   "source": [
    "데이터 문자열"
   ]
  },
  {
   "cell_type": "code",
   "execution_count": 108,
   "id": "9b81e888",
   "metadata": {},
   "outputs": [
    {
     "data": {
      "text/plain": [
       "['James', 'Robot', 'Lisa', 'Mary']"
      ]
     },
     "execution_count": 108,
     "metadata": {},
     "output_type": "execute_result"
    }
   ],
   "source": [
    "myFriends = ['James', 'Robot', 'Lisa', 'Mary']\n",
    "myFriends\n"
   ]
  },
  {
   "cell_type": "code",
   "execution_count": 115,
   "id": "309d2713",
   "metadata": {},
   "outputs": [
    {
     "data": {
      "text/plain": [
       "'Mary'"
      ]
     },
     "execution_count": 115,
     "metadata": {},
     "output_type": "execute_result"
    }
   ],
   "source": [
    "myFriends[2]\n",
    "myFriends[3]\n",
    "myFriends[-1]"
   ]
  },
  {
   "cell_type": "markdown",
   "id": "f6bf5d4f",
   "metadata": {},
   "source": [
    "다른타입 끼리도 생성가능"
   ]
  },
  {
   "cell_type": "code",
   "execution_count": 123,
   "id": "1f7a928e",
   "metadata": {},
   "outputs": [
    {
     "data": {
      "text/plain": [
       "'Lisa'"
      ]
     },
     "execution_count": 123,
     "metadata": {},
     "output_type": "execute_result"
    }
   ],
   "source": [
    "mixedList = [0,2,3.14, 'python', 'program', True, myFriends]\n",
    "mixedList[6][2]"
   ]
  },
  {
   "cell_type": "markdown",
   "id": "4474af45",
   "metadata": {},
   "source": [
    "리스트 다루기\n",
    "<br>리스트 더하기와 곱하기"
   ]
  },
  {
   "cell_type": "code",
   "execution_count": 121,
   "id": "65cd395f",
   "metadata": {},
   "outputs": [
    {
     "name": "stdout",
     "output_type": "stream",
     "text": [
      "9\n",
      "*\n",
      "**\n",
      "***\n",
      "****\n",
      "*****\n",
      "******\n",
      "*******\n",
      "********\n",
      "*********\n"
     ]
    }
   ],
   "source": [
    "a = int(input())\n",
    "for i in range(1,a+1):\n",
    "    print(\"*\" * i)"
   ]
  },
  {
   "cell_type": "code",
   "execution_count": 125,
   "id": "ec7f6c59",
   "metadata": {},
   "outputs": [
    {
     "name": "stdout",
     "output_type": "stream",
     "text": [
      "[1, 2, 3, 4, 5, 6, 7, 8]\n"
     ]
    }
   ],
   "source": [
    "list_con1 = [1,2,3,4]\n",
    "list_con2 = [5,6,7,8]\n",
    "list_con = list_con1 + list_con2\n",
    "print(list_con)"
   ]
  },
  {
   "cell_type": "code",
   "execution_count": 127,
   "id": "7f1c968e",
   "metadata": {},
   "outputs": [
    {
     "name": "stdout",
     "output_type": "stream",
     "text": [
      "[1, 2, 3, 4, 1, 2, 3, 4, 1, 2, 3, 4]\n"
     ]
    }
   ],
   "source": [
    "list_con1 = [1,2,3,4]\n",
    "list_con = list_con1 * 3\n",
    "print(list_con)"
   ]
  },
  {
   "cell_type": "code",
   "execution_count": 129,
   "id": "e6d19584",
   "metadata": {},
   "outputs": [
    {
     "name": "stdout",
     "output_type": "stream",
     "text": [
      "2.5\n"
     ]
    }
   ],
   "source": [
    "import numpy as np\n",
    "a = np.array(list_con1)\n",
    "avg = np.mean(a)\n",
    "print(avg)"
   ]
  },
  {
   "cell_type": "markdown",
   "id": "44bd5d83",
   "metadata": {},
   "source": [
    "리스트 중 일부 항목 가져오기\n"
   ]
  },
  {
   "cell_type": "code",
   "execution_count": 346,
   "id": "2db1a010",
   "metadata": {},
   "outputs": [
    {
     "name": "stdout",
     "output_type": "stream",
     "text": [
      "[0, 1, 2, 3, 4, 5, 6, 7, 8, '아리어']\n",
      "[0, 1, 2]\n",
      "[4, 5, 6, 7]\n",
      "[0, 1, 2]\n",
      "[7, 8, '아리어']\n",
      "[0, 4, 8]\n",
      "[2, 4, 6, 8]\n",
      "[1, 3, 5, 7, '아리어']\n",
      "[1, 3, 5]\n",
      "[2, 4, 6, 8]\n"
     ]
    }
   ],
   "source": [
    "list_data = [0,1,2,3,4,5,6,7,8,'아리어']\n",
    "print(list_data)\n",
    "print(list_data[0:3]) #0,1,2\n",
    "print(list_data[4:8]) #4,5,6,7\n",
    "print(list_data[:3]) #0,1,2\n",
    "print(list_data[7:]) # 7,8,9\n",
    "print(list_data[::4]) # 0,2,4,6,8\n",
    "print(list_data[2::2])\n",
    "print(list_data[1::2])\n",
    "print(list_data[1:6:2])\n",
    "print(list_data[2:9:2])\n"
   ]
  },
  {
   "cell_type": "code",
   "execution_count": 141,
   "id": "f4dd84e5",
   "metadata": {},
   "outputs": [
    {
     "name": "stdout",
     "output_type": "stream",
     "text": [
      "17\n",
      "17는 홀수\n"
     ]
    }
   ],
   "source": [
    "a = int(input())\n",
    "if a % 2 == 0:\n",
    "    print(f\"{a}는 짝수\")\n",
    "elif a % 2 != 0:\n",
    "    print(f\"{a}는 홀수\")"
   ]
  },
  {
   "cell_type": "code",
   "execution_count": 347,
   "id": "6f7dd69f",
   "metadata": {},
   "outputs": [
    {
     "name": "stdout",
     "output_type": "stream",
     "text": [
      "[0, 1, 2, 3, 4, 5, 6, 7, 8, '아리어']\n",
      "[0, 1, 2, 3, 4, 5, 7, 8, '아리어']\n"
     ]
    }
   ],
   "source": [
    "print(list_data)\n",
    "del list_data[6]\n",
    "print(list_data)\n",
    "\n"
   ]
  },
  {
   "cell_type": "markdown",
   "id": "6c39ab86",
   "metadata": {},
   "source": [
    "리스트에서 항목으 존재 여부 확인하기\n",
    "\n",
    "<br>bool로 반환\n"
   ]
  },
  {
   "cell_type": "code",
   "execution_count": 166,
   "id": "ba45b602",
   "metadata": {},
   "outputs": [
    {
     "name": "stdout",
     "output_type": "stream",
     "text": [
      "True\n",
      "True\n",
      "True\n",
      "False\n",
      "False\n",
      "True\n"
     ]
    }
   ],
   "source": [
    "list_data1 = [1,2,3,4,5]\n",
    "print(5 in list_data1) #in list_data안에 5가 있는가 \n",
    "print(1.0 in list_data1)\n",
    "print(2 * 2.5 in list_data1)\n",
    "print(0 in list_data1)\n",
    "print(\"1\" in list_data1)\n",
    "print(int(\"1\") in list_data1)"
   ]
  },
  {
   "cell_type": "markdown",
   "id": "3df9d240",
   "metadata": {},
   "source": [
    "리스트 메서드 활용하기\n",
    "<br>자료형.메서드이름() 변수형.메서드이름()\n"
   ]
  },
  {
   "cell_type": "code",
   "execution_count": 168,
   "id": "e659126c",
   "metadata": {},
   "outputs": [
    {
     "name": "stdout",
     "output_type": "stream",
     "text": [
      "['James', 'Robot', 'Lisa', 'Mary']\n",
      "['James', 'Robot', 'Lisa', 'Mary', 'Thor']\n"
     ]
    }
   ],
   "source": [
    "myFriends = ['James', 'Robot', 'Lisa', 'Mary']\n",
    "print(myFriends)\n",
    "myFriends.append('Thor') #append 리스트 마지막에 추가\n",
    "print(myFriends)"
   ]
  },
  {
   "cell_type": "code",
   "execution_count": 169,
   "id": "ca085d8d",
   "metadata": {},
   "outputs": [
    {
     "name": "stdout",
     "output_type": "stream",
     "text": [
      "['James', 'Robot', 'Lisa', 'Mary']\n",
      "['James', 'Thor', 'Robot', 'Lisa', 'Mary']\n"
     ]
    }
   ],
   "source": [
    "myFriends = ['James', 'Robot', 'Lisa', 'Mary']\n",
    "print(myFriends)\n",
    "myFriends.insert(1,'Thor') #insert 특정 항목에 삽입 \n",
    "print(myFriends)"
   ]
  },
  {
   "cell_type": "code",
   "execution_count": 170,
   "id": "7446b7e6",
   "metadata": {},
   "outputs": [
    {
     "name": "stdout",
     "output_type": "stream",
     "text": [
      "['James', 'Robot', 'Lisa', 'Mary']\n",
      "['James', 'Robot', 'Lisa', 'Mary', 'Laura', 'Betty']\n"
     ]
    }
   ],
   "source": [
    "myFriends = ['James', 'Robot', 'Lisa', 'Mary']\n",
    "print(myFriends)\n",
    "myFriends.extend(['Laura', 'Betty'])# extend 여러개를 마지막에 추가\n",
    "print(myFriends)"
   ]
  },
  {
   "cell_type": "code",
   "execution_count": 174,
   "id": "a88504d8",
   "metadata": {},
   "outputs": [
    {
     "name": "stdout",
     "output_type": "stream",
     "text": [
      "['James', 'Robot', 'Lisa', 'Mary']\n",
      "['Robot', 'Lisa', 'Mary']\n"
     ]
    }
   ],
   "source": [
    "myFriends = ['James', 'Robot', 'Lisa', 'Mary']\n",
    "print(myFriends)\n",
    "myFriends.remove('James') # remove 첫번째로 일치하는 항목을 리스트에서 제외\n",
    "print(myFriends)"
   ]
  },
  {
   "cell_type": "code",
   "execution_count": 177,
   "id": "ec3f5597",
   "metadata": {},
   "outputs": [
    {
     "name": "stdout",
     "output_type": "stream",
     "text": [
      "['James', 'Robot', 'Lisa', 'Mary']\n",
      "['James', 'Robot', 'Lisa']\n"
     ]
    }
   ],
   "source": [
    "myFriends = ['James', 'Robot', 'Lisa', 'Mary']\n",
    "print(myFriends)\n",
    "popFriends = myFriends.pop()# pop 마지막 항목 제거후 반환 \n",
    "print(myFriends)"
   ]
  },
  {
   "cell_type": "code",
   "execution_count": 186,
   "id": "4f24820a",
   "metadata": {},
   "outputs": [
    {
     "name": "stdout",
     "output_type": "stream",
     "text": [
      "['Lisa', 'James', 'Robot', 'Mary']\n",
      "0\n"
     ]
    }
   ],
   "source": [
    "myFriends = ['Lisa','James', 'Robot', 'Mary']\n",
    "print(myFriends)\n",
    "indexFriends = myFriends.index('Lisa') # index Lisa의 순번 0번째 \n",
    "print(indexFriends)"
   ]
  },
  {
   "cell_type": "code",
   "execution_count": 183,
   "id": "fe46cf2b",
   "metadata": {},
   "outputs": [
    {
     "name": "stdout",
     "output_type": "stream",
     "text": [
      "['James', 'Robot', 'Lisa', 'Mary', 'Lisa']\n",
      "2\n"
     ]
    }
   ],
   "source": [
    "myFriends = ['James', 'Robot', 'Lisa', 'Mary', 'Lisa']\n",
    "print(myFriends)\n",
    "LisaCount = myFriends.count('Lisa') # count Lisa의 수 2번 2\n",
    "print(LisaCount)"
   ]
  },
  {
   "cell_type": "code",
   "execution_count": 190,
   "id": "357f4c4f",
   "metadata": {},
   "outputs": [
    {
     "name": "stdout",
     "output_type": "stream",
     "text": [
      "['James', 'Robot', 'Lisa', 'Mary', 'Lisa']\n",
      "['James', 'Lisa', 'Lisa', 'Mary', 'Robot']\n"
     ]
    }
   ],
   "source": [
    "myFriends = ['James', 'Robot', 'Lisa', 'Mary', 'Lisa']\n",
    "print(myFriends)\n",
    "myFriends.sort() # sort 정렬 오름차순 내림차순 순서대로 \n",
    "print(myFriends)"
   ]
  },
  {
   "cell_type": "code",
   "execution_count": 189,
   "id": "d2bcee12",
   "metadata": {},
   "outputs": [
    {
     "name": "stdout",
     "output_type": "stream",
     "text": [
      "['James', 'Robot', 'Lisa', 'Mary', 'Lisa']\n",
      "['Lisa', 'Mary', 'Lisa', 'Robot', 'James']\n"
     ]
    }
   ],
   "source": [
    "myFriends = ['James', 'Robot', 'Lisa', 'Mary', 'Lisa']\n",
    "print(myFriends)\n",
    "myFriends.reverse() # reverse 거꾸로 뒤집기\n",
    "print(myFriends)"
   ]
  },
  {
   "cell_type": "markdown",
   "id": "b0732d95",
   "metadata": {},
   "source": [
    "<h1>4.4 튜플</h1>\n",
    "<br>리스트와 유사하나 항목 변경 불가능\n",
    "<br>리스트는 [] 튜플 ()"
   ]
  },
  {
   "cell_type": "code",
   "execution_count": 196,
   "id": "7bc8f916",
   "metadata": {},
   "outputs": [
    {
     "data": {
      "text/plain": [
       "(1, 2, 3, 4)"
      ]
     },
     "execution_count": 196,
     "metadata": {},
     "output_type": "execute_result"
    }
   ],
   "source": [
    "tuple1 = (1,2,3,4)\n",
    "tuple1"
   ]
  },
  {
   "cell_type": "code",
   "execution_count": 197,
   "id": "0be7bef7",
   "metadata": {},
   "outputs": [
    {
     "data": {
      "text/plain": [
       "tuple"
      ]
     },
     "execution_count": 197,
     "metadata": {},
     "output_type": "execute_result"
    }
   ],
   "source": [
    "type(tuple1)"
   ]
  },
  {
   "cell_type": "code",
   "execution_count": 198,
   "id": "17693ecb",
   "metadata": {},
   "outputs": [
    {
     "data": {
      "text/plain": [
       "2"
      ]
     },
     "execution_count": 198,
     "metadata": {},
     "output_type": "execute_result"
    }
   ],
   "source": [
    "tuple1[1]"
   ]
  },
  {
   "cell_type": "markdown",
   "id": "63be876c",
   "metadata": {},
   "source": [
    "소괄호 없이도 생성가능"
   ]
  },
  {
   "cell_type": "code",
   "execution_count": 203,
   "id": "bea71bd3",
   "metadata": {},
   "outputs": [
    {
     "data": {
      "text/plain": [
       "(5, 6, 7, 8)"
      ]
     },
     "execution_count": 203,
     "metadata": {},
     "output_type": "execute_result"
    }
   ],
   "source": [
    "tuple2 = 5,6,7,8\n",
    "tuple2"
   ]
  },
  {
   "cell_type": "code",
   "execution_count": 204,
   "id": "d41012df",
   "metadata": {},
   "outputs": [
    {
     "data": {
      "text/plain": [
       "tuple"
      ]
     },
     "execution_count": 204,
     "metadata": {},
     "output_type": "execute_result"
    }
   ],
   "source": [
    "type(tuple2)"
   ]
  },
  {
   "cell_type": "markdown",
   "id": "2590cd3a",
   "metadata": {},
   "source": [
    "인자가 1개 밖에 없는 튜플 생성\n",
    "<br>입력한 후에 콤마, 추가 필요"
   ]
  },
  {
   "cell_type": "code",
   "execution_count": 207,
   "id": "3d6cd139",
   "metadata": {},
   "outputs": [
    {
     "name": "stdout",
     "output_type": "stream",
     "text": [
      "(9,)\n",
      "(10,)\n"
     ]
    }
   ],
   "source": [
    "tuple3 = (9,)\n",
    "tuple4 = 10,\n",
    "print(tuple3)\n",
    "print(tuple4)"
   ]
  },
  {
   "cell_type": "markdown",
   "id": "71994184",
   "metadata": {},
   "source": [
    "튜플 다루기\n",
    "<BR>튜플변경및 삭제 불가\n"
   ]
  },
  {
   "cell_type": "code",
   "execution_count": 209,
   "id": "7aefedd5",
   "metadata": {},
   "outputs": [
    {
     "ename": "TypeError",
     "evalue": "'type' object does not support item assignment",
     "output_type": "error",
     "traceback": [
      "\u001b[1;31m---------------------------------------------------------------------------\u001b[0m",
      "\u001b[1;31mTypeError\u001b[0m                                 Traceback (most recent call last)",
      "\u001b[1;32m~\\AppData\\Local\\Temp\\ipykernel_16420\\1628326580.py\u001b[0m in \u001b[0;36m<module>\u001b[1;34m\u001b[0m\n\u001b[0;32m      1\u001b[0m \u001b[0mtuple5\u001b[0m \u001b[1;33m=\u001b[0m \u001b[1;33m(\u001b[0m\u001b[1;36m1\u001b[0m\u001b[1;33m,\u001b[0m\u001b[1;36m2\u001b[0m\u001b[1;33m,\u001b[0m\u001b[1;36m3\u001b[0m\u001b[1;33m,\u001b[0m\u001b[1;36m4\u001b[0m\u001b[1;33m)\u001b[0m\u001b[1;33m\u001b[0m\u001b[1;33m\u001b[0m\u001b[0m\n\u001b[1;32m----> 2\u001b[1;33m \u001b[0mtuple\u001b[0m\u001b[1;33m[\u001b[0m\u001b[1;36m1\u001b[0m\u001b[1;33m]\u001b[0m \u001b[1;33m=\u001b[0m \u001b[1;36m5\u001b[0m\u001b[1;33m\u001b[0m\u001b[1;33m\u001b[0m\u001b[0m\n\u001b[0m",
      "\u001b[1;31mTypeError\u001b[0m: 'type' object does not support item assignment"
     ]
    }
   ],
   "source": [
    "tuple5 = (1,2,3,4) # 한번 생성되면 변경불가 \n",
    "tuple[1] = 5"
   ]
  },
  {
   "cell_type": "code",
   "execution_count": 210,
   "id": "e867f855",
   "metadata": {},
   "outputs": [
    {
     "ename": "TypeError",
     "evalue": "'tuple' object doesn't support item deletion",
     "output_type": "error",
     "traceback": [
      "\u001b[1;31m---------------------------------------------------------------------------\u001b[0m",
      "\u001b[1;31mTypeError\u001b[0m                                 Traceback (most recent call last)",
      "\u001b[1;32m~\\AppData\\Local\\Temp\\ipykernel_16420\\3501664671.py\u001b[0m in \u001b[0;36m<module>\u001b[1;34m\u001b[0m\n\u001b[1;32m----> 1\u001b[1;33m \u001b[1;32mdel\u001b[0m \u001b[0mtuple5\u001b[0m\u001b[1;33m[\u001b[0m\u001b[1;36m1\u001b[0m\u001b[1;33m]\u001b[0m\u001b[1;33m\u001b[0m\u001b[1;33m\u001b[0m\u001b[0m\n\u001b[0m",
      "\u001b[1;31mTypeError\u001b[0m: 'tuple' object doesn't support item deletion"
     ]
    }
   ],
   "source": [
    "del tuple5[1] #한번 생성하면 삭제불가"
   ]
  },
  {
   "cell_type": "code",
   "execution_count": 348,
   "id": "cdc094bd",
   "metadata": {},
   "outputs": [
    {
     "data": {
      "text/plain": [
       "2"
      ]
     },
     "execution_count": 348,
     "metadata": {},
     "output_type": "execute_result"
    }
   ],
   "source": [
    "tuple6 = ('a', 'b', 'c', 'd','e','f')\n",
    "tuple6.index('c')"
   ]
  },
  {
   "cell_type": "code",
   "execution_count": 215,
   "id": "b5d0338d",
   "metadata": {},
   "outputs": [
    {
     "data": {
      "text/plain": [
       "3"
      ]
     },
     "execution_count": 215,
     "metadata": {},
     "output_type": "execute_result"
    }
   ],
   "source": [
    "tuple7 = ('a','a','a','b','b','c','d',)\n",
    "tuple7.count('a')"
   ]
  },
  {
   "cell_type": "markdown",
   "id": "10ae7508",
   "metadata": {},
   "source": [
    "세트 만들기 세트는 중괄호 사용 {}\n",
    "\n"
   ]
  },
  {
   "cell_type": "code",
   "execution_count": 226,
   "id": "c5484c9e",
   "metadata": {},
   "outputs": [
    {
     "name": "stdout",
     "output_type": "stream",
     "text": [
      "{1, 2, 3}\n",
      "{1, 2, 3}\n",
      "<class 'set'>\n"
     ]
    }
   ],
   "source": [
    "set1 = {1,2,3}\n",
    "set1a = {1,2,3,3,2} #중복 되는 건 하나만 표시 \n",
    "print(set1)\n",
    "print(set1a)\n",
    "print(type(set1))"
   ]
  },
  {
   "cell_type": "code",
   "execution_count": 227,
   "id": "20f829a1",
   "metadata": {},
   "outputs": [
    {
     "data": {
      "text/plain": [
       "{4, 5}"
      ]
     },
     "execution_count": 227,
     "metadata": {},
     "output_type": "execute_result"
    }
   ],
   "source": [
    "#세트의 교집합 차집합 합집합\n",
    "A = {1,2,3,4,5}\n",
    "B = {4,5,6,7,8,9,10}\n",
    "A.intersection(B)# A에 대한 B의 교집합"
   ]
  },
  {
   "cell_type": "code",
   "execution_count": 228,
   "id": "adfea858",
   "metadata": {},
   "outputs": [
    {
     "data": {
      "text/plain": [
       "{1, 2, 3, 4, 5, 6, 7, 8, 9, 10}"
      ]
     },
     "execution_count": 228,
     "metadata": {},
     "output_type": "execute_result"
    }
   ],
   "source": [
    "A.union(B) #A에 대한 B의 합집합"
   ]
  },
  {
   "cell_type": "code",
   "execution_count": 222,
   "id": "57f0f8db",
   "metadata": {},
   "outputs": [
    {
     "data": {
      "text/plain": [
       "{1, 2, 3}"
      ]
     },
     "execution_count": 222,
     "metadata": {},
     "output_type": "execute_result"
    }
   ],
   "source": [
    "A.difference(B) # 집합 A에대한 집합B의 차집합 A-B"
   ]
  },
  {
   "cell_type": "markdown",
   "id": "1fff4754",
   "metadata": {},
   "source": [
    "연산자로 쉽게 하기"
   ]
  },
  {
   "cell_type": "code",
   "execution_count": 229,
   "id": "92c73739",
   "metadata": {},
   "outputs": [
    {
     "data": {
      "text/plain": [
       "{4, 5}"
      ]
     },
     "execution_count": 229,
     "metadata": {},
     "output_type": "execute_result"
    }
   ],
   "source": [
    "A = {1,2,3,4,5}\n",
    "B = {4,5,6,7,8,9,10}\n",
    "A & B #교집합"
   ]
  },
  {
   "cell_type": "code",
   "execution_count": 230,
   "id": "ddbfe588",
   "metadata": {},
   "outputs": [
    {
     "data": {
      "text/plain": [
       "{1, 2, 3, 4, 5, 6, 7, 8, 9, 10}"
      ]
     },
     "execution_count": 230,
     "metadata": {},
     "output_type": "execute_result"
    }
   ],
   "source": [
    "A | B #합집합"
   ]
  },
  {
   "cell_type": "code",
   "execution_count": 231,
   "id": "7f4602ec",
   "metadata": {},
   "outputs": [
    {
     "data": {
      "text/plain": [
       "{1, 2, 3}"
      ]
     },
     "execution_count": 231,
     "metadata": {},
     "output_type": "execute_result"
    }
   ],
   "source": [
    "A - B # 차집합"
   ]
  },
  {
   "cell_type": "markdown",
   "id": "d8d7a41c",
   "metadata": {},
   "source": [
    "리스트,튜플,세트 간 타입 변환"
   ]
  },
  {
   "cell_type": "markdown",
   "id": "78e144f3",
   "metadata": {},
   "source": [
    "list tuple set은 서로 변환 가능"
   ]
  },
  {
   "cell_type": "code",
   "execution_count": 232,
   "id": "0aa91e04",
   "metadata": {},
   "outputs": [
    {
     "data": {
      "text/plain": [
       "list"
      ]
     },
     "execution_count": 232,
     "metadata": {},
     "output_type": "execute_result"
    }
   ],
   "source": [
    "a = [1,2,3,4,5]\n",
    "type(a)"
   ]
  },
  {
   "cell_type": "markdown",
   "id": "9ffa4a18",
   "metadata": {},
   "source": [
    "#튜플로 변환"
   ]
  },
  {
   "cell_type": "code",
   "execution_count": 235,
   "id": "d6421eb5",
   "metadata": {},
   "outputs": [
    {
     "data": {
      "text/plain": [
       "(1, 2, 3, 4, 5)"
      ]
     },
     "execution_count": 235,
     "metadata": {},
     "output_type": "execute_result"
    }
   ],
   "source": [
    "b = tuple(a)\n",
    "b"
   ]
  },
  {
   "cell_type": "code",
   "execution_count": 236,
   "id": "5ee676e2",
   "metadata": {},
   "outputs": [
    {
     "data": {
      "text/plain": [
       "tuple"
      ]
     },
     "execution_count": 236,
     "metadata": {},
     "output_type": "execute_result"
    }
   ],
   "source": [
    "type(b)"
   ]
  },
  {
   "cell_type": "markdown",
   "id": "b12e0b9f",
   "metadata": {},
   "source": [
    "세트로 변환"
   ]
  },
  {
   "cell_type": "code",
   "execution_count": 239,
   "id": "a9397a69",
   "metadata": {},
   "outputs": [
    {
     "data": {
      "text/plain": [
       "{1, 2, 3, 4, 5}"
      ]
     },
     "execution_count": 239,
     "metadata": {},
     "output_type": "execute_result"
    }
   ],
   "source": [
    "c = set(a)\n",
    "c"
   ]
  },
  {
   "cell_type": "code",
   "execution_count": 240,
   "id": "fdcdeb9d",
   "metadata": {},
   "outputs": [
    {
     "data": {
      "text/plain": [
       "set"
      ]
     },
     "execution_count": 240,
     "metadata": {},
     "output_type": "execute_result"
    }
   ],
   "source": [
    "type(c)"
   ]
  },
  {
   "cell_type": "markdown",
   "id": "2ed58e45",
   "metadata": {},
   "source": [
    "리스트로 변환"
   ]
  },
  {
   "cell_type": "code",
   "execution_count": 241,
   "id": "e16640bc",
   "metadata": {},
   "outputs": [
    {
     "data": {
      "text/plain": [
       "[1, 2, 3, 4, 5]"
      ]
     },
     "execution_count": 241,
     "metadata": {},
     "output_type": "execute_result"
    }
   ],
   "source": [
    "list(b)"
   ]
  },
  {
   "cell_type": "code",
   "execution_count": 242,
   "id": "eac56a54",
   "metadata": {},
   "outputs": [
    {
     "data": {
      "text/plain": [
       "[1, 2, 3, 4, 5]"
      ]
     },
     "execution_count": 242,
     "metadata": {},
     "output_type": "execute_result"
    }
   ],
   "source": [
    "list(c)"
   ]
  },
  {
   "cell_type": "markdown",
   "id": "b9fb6831",
   "metadata": {},
   "source": [
    "<h1>4.6 딕셔너리</h1>"
   ]
  },
  {
   "cell_type": "markdown",
   "id": "ff12b078",
   "metadata": {},
   "source": [
    "딕셔너리 만들기"
   ]
  },
  {
   "cell_type": "markdown",
   "id": "cb59a895",
   "metadata": {},
   "source": [
    "<ol>\n",
    "<li>중괄호로 표현한다.</li>\n",
    "<li>키(key)와 값(value) 나누어져 있다</li>\n",
    "<li>인덱스 대신 키 값을 사용한다</li>\n",
    "</ol>"
   ]
  },
  {
   "cell_type": "code",
   "execution_count": 298,
   "id": "489297b0",
   "metadata": {},
   "outputs": [
    {
     "data": {
      "text/plain": [
       "{'영국': '런던', '프랑스': '파리', '스윙스': '베른', '호주': '멜버른', '덴마크': '코펜하겐'}"
      ]
     },
     "execution_count": 298,
     "metadata": {},
     "output_type": "execute_result"
    }
   ],
   "source": [
    "country_capital = {\"영국\":\"런던\", \"프랑스\":\"파리\", \"스윙스\":\"베른\", \"호주\":\"멜버른\", \"덴마크\":\"코펜하겐\"}\n",
    "country_capital"
   ]
  },
  {
   "cell_type": "markdown",
   "id": "6b32e0b0",
   "metadata": {},
   "source": [
    "딕셔너리 타입"
   ]
  },
  {
   "cell_type": "code",
   "execution_count": 246,
   "id": "015d364e",
   "metadata": {},
   "outputs": [
    {
     "data": {
      "text/plain": [
       "dict"
      ]
     },
     "execution_count": 246,
     "metadata": {},
     "output_type": "execute_result"
    }
   ],
   "source": [
    "type(country_capital)"
   ]
  },
  {
   "cell_type": "markdown",
   "id": "5d0ca327",
   "metadata": {},
   "source": [
    "값 구하기"
   ]
  },
  {
   "cell_type": "code",
   "execution_count": 254,
   "id": "be7c8144",
   "metadata": {},
   "outputs": [
    {
     "data": {
      "text/plain": [
       "'런던'"
      ]
     },
     "execution_count": 254,
     "metadata": {},
     "output_type": "execute_result"
    }
   ],
   "source": [
    "country_capital[\"영국\"]\n"
   ]
  },
  {
   "cell_type": "markdown",
   "id": "5a078155",
   "metadata": {},
   "source": [
    "key 값으로 호출한다"
   ]
  },
  {
   "cell_type": "markdown",
   "id": "90cea538",
   "metadata": {},
   "source": [
    "dict_data1 = {1:\"버스\", 3:\"비행기\",4:\"택시\",5:\"자전거\"}\n",
    "dict_data1"
   ]
  },
  {
   "cell_type": "code",
   "execution_count": 255,
   "id": "ae536fb3",
   "metadata": {},
   "outputs": [
    {
     "data": {
      "text/plain": [
       "'비행기'"
      ]
     },
     "execution_count": 255,
     "metadata": {},
     "output_type": "execute_result"
    }
   ],
   "source": [
    "dict_data1[3] #리스트는 0 1 2 3 순서로 찾아서 뽑았을 것 딕셔너리는 키값이 3인 밸류값을 구함 "
   ]
  },
  {
   "cell_type": "markdown",
   "id": "7aec1a4f",
   "metadata": {},
   "source": [
    "키와 값이 모두 숫자"
   ]
  },
  {
   "cell_type": "code",
   "execution_count": 256,
   "id": "909116c7",
   "metadata": {},
   "outputs": [
    {
     "name": "stdout",
     "output_type": "stream",
     "text": [
      "{1: 10, 2: 20, 3: 30, 4: 40, 5: 50}\n",
      "40\n"
     ]
    }
   ],
   "source": [
    "dict_data2 = {1:10, 2:20, 3:30, 4:40, 5:50}\n",
    "print(dict_data2)\n",
    "print(dict_data2[4])"
   ]
  },
  {
   "cell_type": "markdown",
   "id": "1efc18c3",
   "metadata": {},
   "source": [
    "키는 문자열 값은 리스트"
   ]
  },
  {
   "cell_type": "code",
   "execution_count": 257,
   "id": "8772a1aa",
   "metadata": {},
   "outputs": [
    {
     "name": "stdout",
     "output_type": "stream",
     "text": [
      "{'list_data1': [11, 12, 13], 'list_data2': [21, 22, 23]}\n",
      "[21, 22, 23]\n"
     ]
    }
   ],
   "source": [
    "dict_data3 = {\"list_data1\":[11,12,13], \"list_data2\": [21,22,23]}\n",
    "print(dict_data3)\n",
    "print(dict_data3[\"list_data2\"])"
   ]
  },
  {
   "cell_type": "markdown",
   "id": "1d5cfb06",
   "metadata": {},
   "source": [
    "다양한 형태를 가지고 있는 딕셔너리"
   ]
  },
  {
   "cell_type": "code",
   "execution_count": 265,
   "id": "d200b7bf",
   "metadata": {},
   "outputs": [
    {
     "data": {
      "text/plain": [
       "{1: 10,\n",
       " 'dict_num': {1: 10, 2: 20},\n",
       " 'dict_list_tuple': {'A': [11, 12, 13], 'B': (21, 22, 23)},\n",
       " 'dict_string': '이것은 책입니다.'}"
      ]
     },
     "execution_count": 265,
     "metadata": {},
     "output_type": "execute_result"
    }
   ],
   "source": [
    "mixed_dict = {1:10, 'dict_num': {1:10, 2:20}, \"dict_list_tuple\": {\"A\":[11,12,13], \"B\":(21,22,23)}, \"dict_string\": \"이것은 책입니다.\"}\n",
    "mixed_dict\n"
   ]
  },
  {
   "cell_type": "markdown",
   "id": "7c038ff3",
   "metadata": {},
   "source": [
    "데이터 추가 변경 삭제"
   ]
  },
  {
   "cell_type": "code",
   "execution_count": 296,
   "id": "497bb47f",
   "metadata": {},
   "outputs": [
    {
     "data": {
      "text/plain": [
       "{'영국': '런던', '프랑스': '파리', '스윙스': '베른', '호주': '캔버라', '독일': '베를린'}"
      ]
     },
     "execution_count": 296,
     "metadata": {},
     "output_type": "execute_result"
    }
   ],
   "source": [
    "country_capital[\"독일\"]= \"베를린\"\n",
    "country_capital"
   ]
  },
  {
   "cell_type": "code",
   "execution_count": 294,
   "id": "e01f91e6",
   "metadata": {},
   "outputs": [
    {
     "data": {
      "text/plain": [
       "{'영국': '런던', '프랑스': '파리', '스윙스': '베른', '호주': '캔버라', '독일': '베를린'}"
      ]
     },
     "execution_count": 294,
     "metadata": {},
     "output_type": "execute_result"
    }
   ],
   "source": [
    "country_capital[\"호주\"]= \"캔버라\"\n",
    "country_capital"
   ]
  },
  {
   "cell_type": "code",
   "execution_count": 299,
   "id": "1d79a7ae",
   "metadata": {},
   "outputs": [
    {
     "data": {
      "text/plain": [
       "{'영국': '런던', '프랑스': '파리', '스윙스': '베른', '호주': '멜버른'}"
      ]
     },
     "execution_count": 299,
     "metadata": {},
     "output_type": "execute_result"
    }
   ],
   "source": [
    "del country_capital[\"덴마크\"]\n",
    "country_capital"
   ]
  },
  {
   "cell_type": "markdown",
   "id": "f0c561f1",
   "metadata": {},
   "source": [
    "딕셔너리 메서드 활용하기"
   ]
  },
  {
   "cell_type": "code",
   "execution_count": 333,
   "id": "7a0a64e0",
   "metadata": {},
   "outputs": [],
   "source": [
    "fruit_code = {\"사과\":101, \"배\":102, \"딸기\":103, \"포도\":104, \"바나나\":105}"
   ]
  },
  {
   "cell_type": "code",
   "execution_count": 334,
   "id": "c0c9bcc6",
   "metadata": {},
   "outputs": [
    {
     "name": "stdout",
     "output_type": "stream",
     "text": [
      "dict_keys(['사과', '배', '딸기', '포도', '바나나'])\n"
     ]
    }
   ],
   "source": [
    "print(fruit_code.keys()) # key 키 전체를 리스트 형태로 변환"
   ]
  },
  {
   "cell_type": "code",
   "execution_count": 335,
   "id": "80b7a893",
   "metadata": {},
   "outputs": [
    {
     "name": "stdout",
     "output_type": "stream",
     "text": [
      "dict_values([101, 102, 103, 104, 105])\n"
     ]
    }
   ],
   "source": [
    "print(fruit_code.values())# value 밸류 값 전체를 리스트 형태로 변환"
   ]
  },
  {
   "cell_type": "code",
   "execution_count": 336,
   "id": "a01a833c",
   "metadata": {},
   "outputs": [
    {
     "name": "stdout",
     "output_type": "stream",
     "text": [
      "dict_items([('사과', 101), ('배', 102), ('딸기', 103), ('포도', 104), ('바나나', 105)])\n"
     ]
    }
   ],
   "source": [
    "print(fruit_code.items())# items 키와 값을 키,값 처럼 튜플 형태로 반환"
   ]
  },
  {
   "cell_type": "markdown",
   "id": "b80e0a1d",
   "metadata": {},
   "source": [
    "리스트로 변환"
   ]
  },
  {
   "cell_type": "code",
   "execution_count": 337,
   "id": "c1de85c0",
   "metadata": {},
   "outputs": [
    {
     "data": {
      "text/plain": [
       "['사과', '배', '딸기', '포도', '바나나']"
      ]
     },
     "execution_count": 337,
     "metadata": {},
     "output_type": "execute_result"
    }
   ],
   "source": [
    "list(fruit_code.keys())"
   ]
  },
  {
   "cell_type": "code",
   "execution_count": 338,
   "id": "1e0eacb3",
   "metadata": {},
   "outputs": [
    {
     "data": {
      "text/plain": [
       "[101, 102, 103, 104, 105]"
      ]
     },
     "execution_count": 338,
     "metadata": {},
     "output_type": "execute_result"
    }
   ],
   "source": [
    "list(fruit_code.values())"
   ]
  },
  {
   "cell_type": "code",
   "execution_count": 339,
   "id": "5e230042",
   "metadata": {},
   "outputs": [
    {
     "data": {
      "text/plain": [
       "[('사과', 101), ('배', 102), ('딸기', 103), ('포도', 104), ('바나나', 105)]"
      ]
     },
     "execution_count": 339,
     "metadata": {},
     "output_type": "execute_result"
    }
   ],
   "source": [
    "list(fruit_code.items())"
   ]
  },
  {
   "cell_type": "markdown",
   "id": "39780aa8",
   "metadata": {},
   "source": [
    "데이터 추가"
   ]
  },
  {
   "cell_type": "code",
   "execution_count": 340,
   "id": "3c922c8a",
   "metadata": {},
   "outputs": [],
   "source": [
    "fruit_code2 = {\"오렌지\":106, \"수박\":107}\n"
   ]
  },
  {
   "cell_type": "code",
   "execution_count": 341,
   "id": "21591cac",
   "metadata": {},
   "outputs": [
    {
     "data": {
      "text/plain": [
       "{'사과': 101, '배': 102, '딸기': 103, '포도': 104, '바나나': 105, '오렌지': 106, '수박': 107}"
      ]
     },
     "execution_count": 341,
     "metadata": {},
     "output_type": "execute_result"
    }
   ],
   "source": [
    "fruit_code.update(fruit_code2) # update 괄호안에 데이터를 추가함 \n",
    "fruit_code"
   ]
  },
  {
   "cell_type": "markdown",
   "id": "bcca37b7",
   "metadata": {},
   "source": [
    "삭제"
   ]
  },
  {
   "cell_type": "code",
   "execution_count": 342,
   "id": "dfcefb9c",
   "metadata": {},
   "outputs": [
    {
     "name": "stdout",
     "output_type": "stream",
     "text": [
      "{}\n"
     ]
    },
    {
     "data": {
      "text/plain": [
       "dict"
      ]
     },
     "execution_count": 342,
     "metadata": {},
     "output_type": "execute_result"
    }
   ],
   "source": [
    "fruit_code2.clear() #안에 내용물만 삭제\n",
    "print(fruit_code2)ㄴ\n",
    "type(fruit_code2)"
   ]
  },
  {
   "cell_type": "code",
   "execution_count": null,
   "id": "b76adbd3",
   "metadata": {},
   "outputs": [],
   "source": []
  }
 ],
 "metadata": {
  "kernelspec": {
   "display_name": "Python 3 (ipykernel)",
   "language": "python",
   "name": "python3"
  },
  "language_info": {
   "codemirror_mode": {
    "name": "ipython",
    "version": 3
   },
   "file_extension": ".py",
   "mimetype": "text/x-python",
   "name": "python",
   "nbconvert_exporter": "python",
   "pygments_lexer": "ipython3",
   "version": "3.9.13"
  }
 },
 "nbformat": 4,
 "nbformat_minor": 5
}
