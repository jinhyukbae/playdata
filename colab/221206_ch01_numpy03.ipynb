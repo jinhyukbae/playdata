{
  "nbformat": 4,
  "nbformat_minor": 0,
  "metadata": {
    "colab": {
      "provenance": [],
      "collapsed_sections": [
        "XjN6kS1-1MLd"
      ]
    },
    "kernelspec": {
      "name": "python3",
      "display_name": "Python 3"
    },
    "language_info": {
      "name": "python"
    }
  },
  "cells": [
    {
      "cell_type": "code",
      "execution_count": null,
      "metadata": {
        "id": "EkxJfq5A0kHF"
      },
      "outputs": [],
      "source": [
        "import numpy as np"
      ]
    },
    {
      "cell_type": "markdown",
      "source": [
        "# 배열의 연산"
      ],
      "metadata": {
        "id": "CXY0lqh71KNh"
      }
    },
    {
      "cell_type": "markdown",
      "source": [
        "### 벡터화 연산 (vectorized operation)\n",
        "* 명시적으로 반복문을 사용하지 않고도 배열의 모든 원소에 대해 반복 연산을 할 수 있음\n",
        "* 선형 대수 공식과 동일한 아주 간단한 파이썬 코드를 작성할 수 있음\n",
        "\n",
        "<br>\n",
        "$$\n",
        "x = \\begin{bmatrix}1\\\\2\\\\3\\\\⋯\\\\10000\\end{bmatrix},\\quad\n",
        "y = \\begin{bmatrix}10001\\\\10002\\\\10003\\\\⋯\\\\20000\\end{bmatrix}\n",
        "$$\n",
        "\n",
        "<br>\n",
        "$$\n",
        "z = x + y\n",
        "$$\n",
        "\n",
        "<br>\n",
        "$$\n",
        "\\begin{bmatrix}1\\\\2\\\\3\\\\⋯\\\\10000\\end{bmatrix}\n",
        "+ \\begin{bmatrix}10001\\\\10002\\\\10003\\\\⋯\\\\20000\\end{bmatrix}\n",
        "= \\begin{bmatrix}1+10001\\\\2+10002\\\\3+10003\\\\⋯\\\\10000+20000\\end{bmatrix}\n",
        "= \\begin{bmatrix}10002\\\\10004\\\\10006\\\\⋯\\\\30000\\end{bmatrix}\n",
        "$$"
      ],
      "metadata": {
        "id": "XjN6kS1-1MLd"
      }
    },
    {
      "cell_type": "code",
      "source": [
        "x = np.arange(1, 10001)\n",
        "y = np.arange(10001, 20001)"
      ],
      "metadata": {
        "id": "-blj9SIU1JJG"
      },
      "execution_count": null,
      "outputs": []
    },
    {
      "cell_type": "code",
      "source": [
        "z = np.zeros_like(x)"
      ],
      "metadata": {
        "id": "8OCQjBeq2xqR"
      },
      "execution_count": null,
      "outputs": []
    },
    {
      "cell_type": "code",
      "source": [
        "%%time\n",
        "# %time %% -> 여러줄 -> 걸리는 시간을 측정\n",
        "for i in range(len(z)):\n",
        "    z[i] = x[i] + y[i]\n",
        "z"
      ],
      "metadata": {
        "colab": {
          "base_uri": "https://localhost:8080/"
        },
        "id": "Q72rVZ-N1FX5",
        "outputId": "865e6943-3dc4-4b54-fb49-8ece17f1ec9c"
      },
      "execution_count": null,
      "outputs": [
        {
          "output_type": "stream",
          "name": "stdout",
          "text": [
            "CPU times: user 8.78 ms, sys: 0 ns, total: 8.78 ms\n",
            "Wall time: 18.3 ms\n"
          ]
        },
        {
          "output_type": "execute_result",
          "data": {
            "text/plain": [
              "array([10002, 10004, 10006, ..., 29996, 29998, 30000])"
            ]
          },
          "metadata": {},
          "execution_count": 10
        }
      ]
    },
    {
      "cell_type": "code",
      "source": [
        "%%time\n",
        "z = x + y\n",
        "z"
      ],
      "metadata": {
        "colab": {
          "base_uri": "https://localhost:8080/"
        },
        "id": "LzGp9Jjb2jIo",
        "outputId": "dc76e936-29c4-4642-c3b0-3381c423dbe4"
      },
      "execution_count": null,
      "outputs": [
        {
          "output_type": "stream",
          "name": "stdout",
          "text": [
            "CPU times: user 222 µs, sys: 34 µs, total: 256 µs\n",
            "Wall time: 185 µs\n"
          ]
        },
        {
          "output_type": "execute_result",
          "data": {
            "text/plain": [
              "array([10002, 10004, 10006, ..., 29996, 29998, 30000])"
            ]
          },
          "metadata": {},
          "execution_count": 11
        }
      ]
    },
    {
      "cell_type": "code",
      "source": [
        "# 사칙 연산 뿐만 아니라, 비교/논리 연산 (벡터화 연산)\n",
        "a = np.array([1, 2, 3, 4])\n",
        "b = np.array([4, 2, 2, 4])"
      ],
      "metadata": {
        "id": "XBpva_-M25Ft"
      },
      "execution_count": null,
      "outputs": []
    },
    {
      "cell_type": "code",
      "source": [
        "a == b"
      ],
      "metadata": {
        "colab": {
          "base_uri": "https://localhost:8080/"
        },
        "id": "ptNuYkdv3CJX",
        "outputId": "fbc02ca9-c4c1-4437-d67d-e6d9b4e2267d"
      },
      "execution_count": null,
      "outputs": [
        {
          "output_type": "execute_result",
          "data": {
            "text/plain": [
              "array([False,  True, False,  True])"
            ]
          },
          "metadata": {},
          "execution_count": 13
        }
      ]
    },
    {
      "cell_type": "code",
      "source": [
        "a != b"
      ],
      "metadata": {
        "colab": {
          "base_uri": "https://localhost:8080/"
        },
        "id": "XnFPzvcC3Mus",
        "outputId": "c50cb8ef-c81a-47f1-cdfa-86c83a145d9d"
      },
      "execution_count": null,
      "outputs": [
        {
          "output_type": "execute_result",
          "data": {
            "text/plain": [
              "array([ True, False,  True, False])"
            ]
          },
          "metadata": {},
          "execution_count": 14
        }
      ]
    },
    {
      "cell_type": "code",
      "source": [
        "a >= b"
      ],
      "metadata": {
        "colab": {
          "base_uri": "https://localhost:8080/"
        },
        "id": "-LAZbCby3OM4",
        "outputId": "8f36a354-ffb9-4199-eade-c2dbaf75ee86"
      },
      "execution_count": null,
      "outputs": [
        {
          "output_type": "execute_result",
          "data": {
            "text/plain": [
              "array([False,  True,  True,  True])"
            ]
          },
          "metadata": {},
          "execution_count": 15
        }
      ]
    },
    {
      "cell_type": "code",
      "source": [
        "# 배열의 각 원소를 하나씩 비교하는 게 아니라,\n",
        "# 배열의 모든 원소가 같은지 알고 싶다 np.all(조건식)\n",
        "c = np.array([1, 2, 3, 4])\n",
        "a, b, c"
      ],
      "metadata": {
        "colab": {
          "base_uri": "https://localhost:8080/"
        },
        "id": "-pA4qsy73S3I",
        "outputId": "f35a45d2-5100-4b43-8326-2dfa6fa41397"
      },
      "execution_count": null,
      "outputs": [
        {
          "output_type": "execute_result",
          "data": {
            "text/plain": [
              "(array([1, 2, 3, 4]), array([4, 2, 2, 4]), array([1, 2, 3, 4]))"
            ]
          },
          "metadata": {},
          "execution_count": 16
        }
      ]
    },
    {
      "cell_type": "code",
      "source": [
        "np.all(a == b)"
      ],
      "metadata": {
        "colab": {
          "base_uri": "https://localhost:8080/"
        },
        "id": "MnL5MxSx3gC3",
        "outputId": "00754a90-7aa6-4447-f4a9-cf76ad1c3cbf"
      },
      "execution_count": null,
      "outputs": [
        {
          "output_type": "execute_result",
          "data": {
            "text/plain": [
              "False"
            ]
          },
          "metadata": {},
          "execution_count": 17
        }
      ]
    },
    {
      "cell_type": "code",
      "source": [
        "np.all(a == c)"
      ],
      "metadata": {
        "colab": {
          "base_uri": "https://localhost:8080/"
        },
        "id": "WuY4nM7L3kA_",
        "outputId": "e9065034-e51b-447e-c967-1ce643285ce1"
      },
      "execution_count": null,
      "outputs": [
        {
          "output_type": "execute_result",
          "data": {
            "text/plain": [
              "True"
            ]
          },
          "metadata": {},
          "execution_count": 18
        }
      ]
    },
    {
      "cell_type": "code",
      "source": [
        "# 배열의 원소 중 하나라도 이 조건을 만족시키는가? np.any(조건식)\n",
        "np.any(a == b)"
      ],
      "metadata": {
        "colab": {
          "base_uri": "https://localhost:8080/"
        },
        "id": "tx6wqkNH3mNS",
        "outputId": "0e8b9dd8-3b0c-484a-8aa3-920347c617db"
      },
      "execution_count": null,
      "outputs": [
        {
          "output_type": "execute_result",
          "data": {
            "text/plain": [
              "True"
            ]
          },
          "metadata": {},
          "execution_count": 19
        }
      ]
    },
    {
      "cell_type": "code",
      "source": [
        "# 지수함수, 로그함수 (수학함수) -> 벡터화 연산\n",
        "a = np.arange(5)\n",
        "a"
      ],
      "metadata": {
        "colab": {
          "base_uri": "https://localhost:8080/"
        },
        "id": "nm9M0svN3xXA",
        "outputId": "a7be2bbe-dbb9-48db-9bc8-b4c47b93a17f"
      },
      "execution_count": null,
      "outputs": [
        {
          "output_type": "execute_result",
          "data": {
            "text/plain": [
              "array([0, 1, 2, 3, 4])"
            ]
          },
          "metadata": {},
          "execution_count": 20
        }
      ]
    },
    {
      "cell_type": "code",
      "source": [
        "np.exp(a)"
      ],
      "metadata": {
        "colab": {
          "base_uri": "https://localhost:8080/"
        },
        "id": "oGt2eHOU350n",
        "outputId": "d92ccb50-04f2-4ac2-d8c6-18b2788ee6fd"
      },
      "execution_count": null,
      "outputs": [
        {
          "output_type": "execute_result",
          "data": {
            "text/plain": [
              "array([ 1.        ,  2.71828183,  7.3890561 , 20.08553692, 54.59815003])"
            ]
          },
          "metadata": {},
          "execution_count": 21
        }
      ]
    },
    {
      "cell_type": "code",
      "source": [
        "np.log(a + 1)"
      ],
      "metadata": {
        "colab": {
          "base_uri": "https://localhost:8080/"
        },
        "id": "br0nZC2N4DQj",
        "outputId": "332f679b-1818-4c5b-c531-7480ff2c49a5"
      },
      "execution_count": null,
      "outputs": [
        {
          "output_type": "execute_result",
          "data": {
            "text/plain": [
              "array([0.        , 0.69314718, 1.09861229, 1.38629436, 1.60943791])"
            ]
          },
          "metadata": {},
          "execution_count": 22
        }
      ]
    },
    {
      "cell_type": "code",
      "source": [
        "10 ** a"
      ],
      "metadata": {
        "colab": {
          "base_uri": "https://localhost:8080/"
        },
        "id": "TN1YZTBD4IKs",
        "outputId": "587690a4-a801-44c3-aad3-061bd69c9723"
      },
      "execution_count": null,
      "outputs": [
        {
          "output_type": "execute_result",
          "data": {
            "text/plain": [
              "array([    1,    10,   100,  1000, 10000])"
            ]
          },
          "metadata": {},
          "execution_count": 23
        }
      ]
    },
    {
      "cell_type": "markdown",
      "source": [
        "## 스칼라와 벡터/행렬의 곱셉"
      ],
      "metadata": {
        "id": "qBnnIxCJ4OjY"
      }
    },
    {
      "cell_type": "code",
      "source": [
        "x = np.arange(10)\n",
        "x # 1차원 배열"
      ],
      "metadata": {
        "colab": {
          "base_uri": "https://localhost:8080/"
        },
        "id": "Eq1yz75r4ZUq",
        "outputId": "497dc58e-ed7c-4780-cfb0-79b6d21b28f9"
      },
      "execution_count": null,
      "outputs": [
        {
          "output_type": "execute_result",
          "data": {
            "text/plain": [
              "array([0, 1, 2, 3, 4, 5, 6, 7, 8, 9])"
            ]
          },
          "metadata": {},
          "execution_count": 24
        }
      ]
    },
    {
      "cell_type": "code",
      "source": [
        "100 * x"
      ],
      "metadata": {
        "colab": {
          "base_uri": "https://localhost:8080/"
        },
        "id": "vJlo7vG54pRn",
        "outputId": "fbb600a3-9430-464b-cb86-0ca82afb8f4a"
      },
      "execution_count": null,
      "outputs": [
        {
          "output_type": "execute_result",
          "data": {
            "text/plain": [
              "array([  0, 100, 200, 300, 400, 500, 600, 700, 800, 900])"
            ]
          },
          "metadata": {},
          "execution_count": 25
        }
      ]
    },
    {
      "cell_type": "code",
      "source": [
        "x = np.arange(12).reshape(3, -1)\n",
        "x # 2차원 행렬"
      ],
      "metadata": {
        "colab": {
          "base_uri": "https://localhost:8080/"
        },
        "id": "ZqtxWKtq4yfw",
        "outputId": "c4d5cf0a-5dcc-4599-9bc1-7aaf273a5e94"
      },
      "execution_count": null,
      "outputs": [
        {
          "output_type": "execute_result",
          "data": {
            "text/plain": [
              "array([[ 0,  1,  2,  3],\n",
              "       [ 4,  5,  6,  7],\n",
              "       [ 8,  9, 10, 11]])"
            ]
          },
          "metadata": {},
          "execution_count": 26
        }
      ]
    },
    {
      "cell_type": "code",
      "source": [
        "100 * x"
      ],
      "metadata": {
        "colab": {
          "base_uri": "https://localhost:8080/"
        },
        "id": "GeQUzmoO418I",
        "outputId": "dc45323b-913a-4e65-c062-5f8c68bfed21"
      },
      "execution_count": null,
      "outputs": [
        {
          "output_type": "execute_result",
          "data": {
            "text/plain": [
              "array([[   0,  100,  200,  300],\n",
              "       [ 400,  500,  600,  700],\n",
              "       [ 800,  900, 1000, 1100]])"
            ]
          },
          "metadata": {},
          "execution_count": 27
        }
      ]
    },
    {
      "cell_type": "markdown",
      "source": [
        "## 브로드캐스팅\n",
        "* 벡터(또는 행렬)끼리 덧셈과 뺄셈... -> 두 벡터(또는 행령) 간의 크기가 일치\n",
        "* Numpy에선 서로 다른 크기를 가진 두 배열의 사칙 연산을 지원 = 브로드캐스팅(broadcasting)\n",
        "> 크기가 작은 배열을 자동으로 반복 확장하여 크기가 큰 배열에 맞춤\n",
        "\n",
        "<br>\n",
        "$$\n",
        "x = \\begin{bmatrix}0\\\\1\\\\2\\\\3\\\\4\\end{bmatrix},\\quad \n",
        "x + 1 = \\begin{bmatrix}0\\\\1\\\\2\\\\3\\\\4\\end{bmatrix} + 1 = ?\n",
        "$$\n",
        "<br>\n",
        "$$\n",
        "\\begin{bmatrix}0\\\\1\\\\2\\\\3\\\\4\\end{bmatrix} + 1\n",
        "= \\begin{bmatrix}0\\\\1\\\\2\\\\3\\\\4\\end{bmatrix}\n",
        "+ \\begin{bmatrix}1\\\\1\\\\1\\\\1\\\\1\\end{bmatrix}\n",
        "= \\begin{bmatrix}1\\\\2\\\\3\\\\4\\\\5\\end{bmatrix}\n",
        "$$"
      ],
      "metadata": {
        "id": "Y-I9QnBV5B-L"
      }
    },
    {
      "cell_type": "code",
      "source": [
        "x = np.arange(5) # [0...4] (5,)\n",
        "y = np.ones_like(x) # [1...1] (5,)\n",
        "x + y # [1...6] (5,)\n",
        "x + 1"
      ],
      "metadata": {
        "colab": {
          "base_uri": "https://localhost:8080/"
        },
        "id": "KMXolDWn449P",
        "outputId": "03eb61bf-befc-4092-d4bf-29de50c090f8"
      },
      "execution_count": null,
      "outputs": [
        {
          "output_type": "execute_result",
          "data": {
            "text/plain": [
              "array([1, 2, 3, 4, 5])"
            ]
          },
          "metadata": {},
          "execution_count": 28
        }
      ]
    },
    {
      "cell_type": "code",
      "source": [
        "# 2차원 이상 -> 브로드캐스팅 된다\n",
        "x = np.vstack([range(7)[i:i+3] for i in range(5)])\n",
        "# 0-6 (0:3, 1:4...)\n",
        "x, x.shape"
      ],
      "metadata": {
        "colab": {
          "base_uri": "https://localhost:8080/"
        },
        "id": "t6VIsUK56Kwg",
        "outputId": "01412861-906f-4ae0-8770-5fd45cfbf08d"
      },
      "execution_count": null,
      "outputs": [
        {
          "output_type": "execute_result",
          "data": {
            "text/plain": [
              "(array([[0, 1, 2],\n",
              "        [1, 2, 3],\n",
              "        [2, 3, 4],\n",
              "        [3, 4, 5],\n",
              "        [4, 5, 6]]), (5, 3))"
            ]
          },
          "metadata": {},
          "execution_count": 32
        }
      ]
    },
    {
      "cell_type": "code",
      "source": [
        "y = np.arange(5)[:, np.newaxis]\n",
        "y, y.shape"
      ],
      "metadata": {
        "colab": {
          "base_uri": "https://localhost:8080/"
        },
        "id": "3A6-_Yd46XRQ",
        "outputId": "208c3448-0106-4efd-89c0-f695787c5c7d"
      },
      "execution_count": null,
      "outputs": [
        {
          "output_type": "execute_result",
          "data": {
            "text/plain": [
              "(array([[0],\n",
              "        [1],\n",
              "        [2],\n",
              "        [3],\n",
              "        [4]]), (5, 1))"
            ]
          },
          "metadata": {},
          "execution_count": 33
        }
      ]
    },
    {
      "cell_type": "code",
      "source": [
        "x + y"
      ],
      "metadata": {
        "colab": {
          "base_uri": "https://localhost:8080/"
        },
        "id": "DE_ToMmG6_Kg",
        "outputId": "5991c4c2-76e3-43ad-e1de-01926179c33a"
      },
      "execution_count": null,
      "outputs": [
        {
          "output_type": "execute_result",
          "data": {
            "text/plain": [
              "array([[ 0,  1,  2],\n",
              "       [ 2,  3,  4],\n",
              "       [ 4,  5,  6],\n",
              "       [ 6,  7,  8],\n",
              "       [ 8,  9, 10]])"
            ]
          },
          "metadata": {},
          "execution_count": 34
        }
      ]
    },
    {
      "cell_type": "code",
      "source": [
        "y = np.arange(3)\n",
        "y, y.shape"
      ],
      "metadata": {
        "colab": {
          "base_uri": "https://localhost:8080/"
        },
        "id": "roY-sjwG7J40",
        "outputId": "b862b383-a6ef-4483-bd9e-c2f48310b7ed"
      },
      "execution_count": null,
      "outputs": [
        {
          "output_type": "execute_result",
          "data": {
            "text/plain": [
              "(array([0, 1, 2]), (3,))"
            ]
          },
          "metadata": {},
          "execution_count": 35
        }
      ]
    },
    {
      "cell_type": "code",
      "source": [
        "x + y"
      ],
      "metadata": {
        "colab": {
          "base_uri": "https://localhost:8080/"
        },
        "id": "Z1NUolOR7O4k",
        "outputId": "c6a93ad6-a10e-4066-c405-2c88c3e69014"
      },
      "execution_count": null,
      "outputs": [
        {
          "output_type": "execute_result",
          "data": {
            "text/plain": [
              "array([[0, 2, 4],\n",
              "       [1, 3, 5],\n",
              "       [2, 4, 6],\n",
              "       [3, 5, 7],\n",
              "       [4, 6, 8]])"
            ]
          },
          "metadata": {},
          "execution_count": 36
        }
      ]
    },
    {
      "cell_type": "markdown",
      "source": [
        "## 차원 축소 연산\n",
        "* 행렬의 **하나의 행에 있는 원소들**을 하나의 데이터 집합으로 보고, 각 행에 처리된 연산으로 한 차원 낮은 벡터를 구성하게 하는 연산"
      ],
      "metadata": {
        "id": "GstSnYkK7cYW"
      }
    },
    {
      "cell_type": "markdown",
      "source": [
        "### sum : 합계"
      ],
      "metadata": {
        "id": "64FSb4Sy73qc"
      }
    },
    {
      "cell_type": "code",
      "source": [
        "x = np.arange(1, 5)\n",
        "x"
      ],
      "metadata": {
        "colab": {
          "base_uri": "https://localhost:8080/"
        },
        "id": "Dvley6H77kQB",
        "outputId": "82cf1458-0dcf-4200-fc7c-343627cf408b"
      },
      "execution_count": null,
      "outputs": [
        {
          "output_type": "execute_result",
          "data": {
            "text/plain": [
              "array([1, 2, 3, 4])"
            ]
          },
          "metadata": {},
          "execution_count": 37
        }
      ]
    },
    {
      "cell_type": "code",
      "source": [
        "np.sum(x), x.sum() # arr.sum()"
      ],
      "metadata": {
        "colab": {
          "base_uri": "https://localhost:8080/"
        },
        "id": "XKT9aAlx7_l3",
        "outputId": "cfcdd642-8d8b-41a4-ba53-a6fa3237f405"
      },
      "execution_count": null,
      "outputs": [
        {
          "output_type": "execute_result",
          "data": {
            "text/plain": [
              "(10, 10)"
            ]
          },
          "metadata": {},
          "execution_count": 38
        }
      ]
    },
    {
      "cell_type": "markdown",
      "source": [
        "### min, max : 최소, 최대"
      ],
      "metadata": {
        "id": "io8_En-k8HI-"
      }
    },
    {
      "cell_type": "code",
      "source": [
        "x = np.array([1, 3, 2])\n",
        "x"
      ],
      "metadata": {
        "colab": {
          "base_uri": "https://localhost:8080/"
        },
        "id": "8sW5i6Ht8J5c",
        "outputId": "17365476-22c1-42d6-e576-4b3d740ea5c5"
      },
      "execution_count": null,
      "outputs": [
        {
          "output_type": "execute_result",
          "data": {
            "text/plain": [
              "array([1, 3, 2])"
            ]
          },
          "metadata": {},
          "execution_count": 39
        }
      ]
    },
    {
      "cell_type": "code",
      "source": [
        "x.min(), x.max()"
      ],
      "metadata": {
        "colab": {
          "base_uri": "https://localhost:8080/"
        },
        "id": "__SJgzOy8N7n",
        "outputId": "e97bab71-ba98-4cc4-c45c-aec2cfb63642"
      },
      "execution_count": null,
      "outputs": [
        {
          "output_type": "execute_result",
          "data": {
            "text/plain": [
              "(1, 3)"
            ]
          },
          "metadata": {},
          "execution_count": 40
        }
      ]
    },
    {
      "cell_type": "code",
      "source": [
        "np.min(x), np.max(x)"
      ],
      "metadata": {
        "colab": {
          "base_uri": "https://localhost:8080/"
        },
        "id": "p-8wguY78SpI",
        "outputId": "95f4bbb4-97a1-4a71-9bb4-842be90e8111"
      },
      "execution_count": null,
      "outputs": [
        {
          "output_type": "execute_result",
          "data": {
            "text/plain": [
              "(1, 3)"
            ]
          },
          "metadata": {},
          "execution_count": 41
        }
      ]
    },
    {
      "cell_type": "code",
      "source": [
        "x.argmin() # 최솟값의 위치"
      ],
      "metadata": {
        "colab": {
          "base_uri": "https://localhost:8080/"
        },
        "id": "nl397aA_8PjQ",
        "outputId": "56518f10-cc68-4359-d51a-af283199fbf2"
      },
      "execution_count": null,
      "outputs": [
        {
          "output_type": "execute_result",
          "data": {
            "text/plain": [
              "0"
            ]
          },
          "metadata": {},
          "execution_count": 42
        }
      ]
    },
    {
      "cell_type": "code",
      "source": [
        "x.argmax() # 최댓값의 위치"
      ],
      "metadata": {
        "colab": {
          "base_uri": "https://localhost:8080/"
        },
        "id": "oLfFVnfP8iBA",
        "outputId": "f1034f35-b2d6-45e5-8c95-376882ecd80e"
      },
      "execution_count": null,
      "outputs": [
        {
          "output_type": "execute_result",
          "data": {
            "text/plain": [
              "1"
            ]
          },
          "metadata": {},
          "execution_count": 43
        }
      ]
    },
    {
      "cell_type": "markdown",
      "source": [
        "### 통계 (mean, median...)"
      ],
      "metadata": {
        "id": "_LnZFtwF8uDv"
      }
    },
    {
      "cell_type": "code",
      "source": [
        "x = np.array([1, 2, 3, 1])"
      ],
      "metadata": {
        "id": "58cTYsNb81M9"
      },
      "execution_count": null,
      "outputs": []
    },
    {
      "cell_type": "code",
      "source": [
        "# x.mean()\n",
        "np.mean(x) # 평균"
      ],
      "metadata": {
        "colab": {
          "base_uri": "https://localhost:8080/"
        },
        "id": "nX_1Aevo83yH",
        "outputId": "df8ca29f-c2de-41fb-fcdb-cfcf7731561c"
      },
      "execution_count": null,
      "outputs": [
        {
          "output_type": "execute_result",
          "data": {
            "text/plain": [
              "1.75"
            ]
          },
          "metadata": {},
          "execution_count": 46
        }
      ]
    },
    {
      "cell_type": "code",
      "source": [
        "np.median(x) # 중간값"
      ],
      "metadata": {
        "colab": {
          "base_uri": "https://localhost:8080/"
        },
        "id": "uU4NFfjH85wG",
        "outputId": "b91ce123-0f43-45cb-f1d2-9a03a540bbc0"
      },
      "execution_count": null,
      "outputs": [
        {
          "output_type": "execute_result",
          "data": {
            "text/plain": [
              "1.5"
            ]
          },
          "metadata": {},
          "execution_count": 49
        }
      ]
    },
    {
      "cell_type": "markdown",
      "source": [
        "### 불리언 (any, all)"
      ],
      "metadata": {
        "id": "hElJUAmU9ThA"
      }
    },
    {
      "cell_type": "code",
      "source": [
        "np.all([True, True, False]) # 모두가 True인지"
      ],
      "metadata": {
        "colab": {
          "base_uri": "https://localhost:8080/"
        },
        "id": "qObR6Xm89H4p",
        "outputId": "6bd23f53-ff14-4f2c-a914-585a4169b93b"
      },
      "execution_count": null,
      "outputs": [
        {
          "output_type": "execute_result",
          "data": {
            "text/plain": [
              "False"
            ]
          },
          "metadata": {},
          "execution_count": 51
        }
      ]
    },
    {
      "cell_type": "code",
      "source": [
        "np.any([True, False, False]) # 뭐라도 하나가 True인지"
      ],
      "metadata": {
        "colab": {
          "base_uri": "https://localhost:8080/"
        },
        "id": "WQA5qfe39O3w",
        "outputId": "8b7abb7d-5f54-417e-8ccb-b60fe6060092"
      },
      "execution_count": null,
      "outputs": [
        {
          "output_type": "execute_result",
          "data": {
            "text/plain": [
              "True"
            ]
          },
          "metadata": {},
          "execution_count": 52
        }
      ]
    },
    {
      "cell_type": "markdown",
      "source": [
        "* 2차원 이상에서의 차원축소연산은?\n",
        "* 어느 차원으로 계산을 할지 axis 인수를 사용해서 지시\n",
        "* axis=0인 경우에는 열 연산, axis=1인 경우는 행 연산\n",
        "* axis 인수는 대부분의 차원 축소 명령에 적용할 수 있음"
      ],
      "metadata": {
        "id": "rT5E7WEA9fZJ"
      }
    },
    {
      "cell_type": "code",
      "source": [
        "x = np.array([[1, 1], [2, 2]])\n",
        "x"
      ],
      "metadata": {
        "colab": {
          "base_uri": "https://localhost:8080/"
        },
        "id": "qemRoJ329SWe",
        "outputId": "3e301f11-6b00-4a89-97ee-41ecf90430ee"
      },
      "execution_count": null,
      "outputs": [
        {
          "output_type": "execute_result",
          "data": {
            "text/plain": [
              "array([[1, 1],\n",
              "       [2, 2]])"
            ]
          },
          "metadata": {},
          "execution_count": 54
        }
      ]
    },
    {
      "cell_type": "code",
      "source": [
        "x.sum()"
      ],
      "metadata": {
        "colab": {
          "base_uri": "https://localhost:8080/"
        },
        "id": "VyvI06fC9xJw",
        "outputId": "76a98bb7-b736-4ce3-db7b-055514d4e3e4"
      },
      "execution_count": null,
      "outputs": [
        {
          "output_type": "execute_result",
          "data": {
            "text/plain": [
              "6"
            ]
          },
          "metadata": {},
          "execution_count": 55
        }
      ]
    },
    {
      "cell_type": "code",
      "source": [
        "x.sum(axis=0)"
      ],
      "metadata": {
        "colab": {
          "base_uri": "https://localhost:8080/"
        },
        "id": "a07ookh594HE",
        "outputId": "cfc086e2-cdce-4fca-93e1-42131ece98d8"
      },
      "execution_count": null,
      "outputs": [
        {
          "output_type": "execute_result",
          "data": {
            "text/plain": [
              "array([3, 3])"
            ]
          },
          "metadata": {},
          "execution_count": 56
        }
      ]
    },
    {
      "cell_type": "code",
      "source": [
        "x.sum(axis=1)"
      ],
      "metadata": {
        "colab": {
          "base_uri": "https://localhost:8080/"
        },
        "id": "VvEWy5XC-HG3",
        "outputId": "5b5df6e5-752b-4d1c-eb4d-9e37a20159ea"
      },
      "execution_count": null,
      "outputs": [
        {
          "output_type": "execute_result",
          "data": {
            "text/plain": [
              "array([2, 4])"
            ]
          },
          "metadata": {},
          "execution_count": 57
        }
      ]
    },
    {
      "cell_type": "markdown",
      "source": [
        "## ⚓ 연습문제 1\n",
        "실수로 이루어진 5 x 6 형태의 데이터 행렬을 만들고 이 데이터에 대해 다음과 같은 값 도출\n",
        "1. 전체의 최댓값\n",
        "2. 각 행의 합\n",
        "3. 각 행의 최댓값\n",
        "4. 각 열의 평균\n",
        "5. 각 열의 최솟값"
      ],
      "metadata": {
        "id": "I8ZiJ_sv-O0c"
      }
    },
    {
      "cell_type": "code",
      "source": [
        "a = np.linspace(10, 100, 30).reshape((5, 6))\n",
        "a"
      ],
      "metadata": {
        "colab": {
          "base_uri": "https://localhost:8080/"
        },
        "id": "PpjSOIYQ-Ona",
        "outputId": "8f15a740-f165-4511-b8c6-4b3973a7a326"
      },
      "execution_count": null,
      "outputs": [
        {
          "output_type": "execute_result",
          "data": {
            "text/plain": [
              "array([[ 10.        ,  13.10344828,  16.20689655,  19.31034483,\n",
              "         22.4137931 ,  25.51724138],\n",
              "       [ 28.62068966,  31.72413793,  34.82758621,  37.93103448,\n",
              "         41.03448276,  44.13793103],\n",
              "       [ 47.24137931,  50.34482759,  53.44827586,  56.55172414,\n",
              "         59.65517241,  62.75862069],\n",
              "       [ 65.86206897,  68.96551724,  72.06896552,  75.17241379,\n",
              "         78.27586207,  81.37931034],\n",
              "       [ 84.48275862,  87.5862069 ,  90.68965517,  93.79310345,\n",
              "         96.89655172, 100.        ]])"
            ]
          },
          "metadata": {},
          "execution_count": 59
        }
      ]
    },
    {
      "cell_type": "code",
      "source": [
        "# 전체의 최댓값\n",
        "a.max()"
      ],
      "metadata": {
        "colab": {
          "base_uri": "https://localhost:8080/"
        },
        "id": "EGQd1PHaFS9L",
        "outputId": "254c665a-f390-4a49-f308-83276ab5f03c"
      },
      "execution_count": null,
      "outputs": [
        {
          "output_type": "execute_result",
          "data": {
            "text/plain": [
              "100.0"
            ]
          },
          "metadata": {},
          "execution_count": 60
        }
      ]
    },
    {
      "cell_type": "code",
      "source": [
        "# 각 행의 합계 => axis=1\n",
        "a.sum(axis=1)"
      ],
      "metadata": {
        "colab": {
          "base_uri": "https://localhost:8080/"
        },
        "id": "RsSgYlPeFVuQ",
        "outputId": "e21d013e-d781-4547-a7b7-5495a95b2b34"
      },
      "execution_count": null,
      "outputs": [
        {
          "output_type": "execute_result",
          "data": {
            "text/plain": [
              "array([106.55172414, 218.27586207, 330.        , 441.72413793,\n",
              "       553.44827586])"
            ]
          },
          "metadata": {},
          "execution_count": 61
        }
      ]
    },
    {
      "cell_type": "code",
      "source": [
        "# 각 행의 최댓값 => axis=1\n",
        "a.max(axis=1)"
      ],
      "metadata": {
        "colab": {
          "base_uri": "https://localhost:8080/"
        },
        "id": "8sjP5mDSFeP6",
        "outputId": "197cb8e4-8c97-43b5-c10b-c866b29d4cf2"
      },
      "execution_count": null,
      "outputs": [
        {
          "output_type": "execute_result",
          "data": {
            "text/plain": [
              "array([ 25.51724138,  44.13793103,  62.75862069,  81.37931034,\n",
              "       100.        ])"
            ]
          },
          "metadata": {},
          "execution_count": 62
        }
      ]
    },
    {
      "cell_type": "code",
      "source": [
        "# 각 열의 평균 => axis=0\n",
        "a.mean(axis=0)"
      ],
      "metadata": {
        "colab": {
          "base_uri": "https://localhost:8080/"
        },
        "id": "k5usfDo9FiG3",
        "outputId": "e086985b-8d78-4518-bf5a-6d5331e05e74"
      },
      "execution_count": null,
      "outputs": [
        {
          "output_type": "execute_result",
          "data": {
            "text/plain": [
              "array([47.24137931, 50.34482759, 53.44827586, 56.55172414, 59.65517241,\n",
              "       62.75862069])"
            ]
          },
          "metadata": {},
          "execution_count": 63
        }
      ]
    },
    {
      "cell_type": "code",
      "source": [
        "# 각 열의 최솟값\n",
        "a.min(axis=0)"
      ],
      "metadata": {
        "colab": {
          "base_uri": "https://localhost:8080/"
        },
        "id": "uI5i93dvFnpL",
        "outputId": "68e7d5c9-5790-404b-e255-2312bc9e5d80"
      },
      "execution_count": null,
      "outputs": [
        {
          "output_type": "execute_result",
          "data": {
            "text/plain": [
              "array([10.        , 13.10344828, 16.20689655, 19.31034483, 22.4137931 ,\n",
              "       25.51724138])"
            ]
          },
          "metadata": {},
          "execution_count": 64
        }
      ]
    },
    {
      "cell_type": "markdown",
      "source": [
        "## 정렬\n",
        "* `np.sort` : 배열 안의 원소를 크기에 따라 정렬하여 새로운 배열 생성\n",
        "* 2차원 이상인 경우 -> 행이나 열을 따로따로 정렬\n",
        "    * axis=0 : 각각의 행을 따로따로 정렬\n",
        "    * axis=1 : 각각의 열을 따로따로 정렬\n",
        "    * axis=-1 : 가장 안쪽(나중)의 차원"
      ],
      "metadata": {
        "id": "w4C-s3uuFwgN"
      }
    },
    {
      "cell_type": "code",
      "source": [
        "a = np.array([\n",
        "    [4, 3, 5, 7],\n",
        "    [1, 12, 11, 9],\n",
        "    [2, 15, 1, 14]\n",
        "])\n",
        "a"
      ],
      "metadata": {
        "colab": {
          "base_uri": "https://localhost:8080/"
        },
        "id": "9g_DN6JpFqWn",
        "outputId": "d5dc9ce5-7b5f-4bf5-d0cd-9bd02f140ad5"
      },
      "execution_count": null,
      "outputs": [
        {
          "output_type": "execute_result",
          "data": {
            "text/plain": [
              "array([[ 4,  3,  5,  7],\n",
              "       [ 1, 12, 11,  9],\n",
              "       [ 2, 15,  1, 14]])"
            ]
          },
          "metadata": {},
          "execution_count": 65
        }
      ]
    },
    {
      "cell_type": "code",
      "source": [
        "np.sort(a, axis=0)"
      ],
      "metadata": {
        "colab": {
          "base_uri": "https://localhost:8080/"
        },
        "id": "1lUhz0BuG0Wq",
        "outputId": "c303fafb-19df-4ce3-f327-ad00141833be"
      },
      "execution_count": null,
      "outputs": [
        {
          "output_type": "execute_result",
          "data": {
            "text/plain": [
              "array([[ 1,  3,  1,  7],\n",
              "       [ 2, 12,  5,  9],\n",
              "       [ 4, 15, 11, 14]])"
            ]
          },
          "metadata": {},
          "execution_count": 67
        }
      ]
    },
    {
      "cell_type": "code",
      "source": [
        "np.sort(a, axis=1)"
      ],
      "metadata": {
        "colab": {
          "base_uri": "https://localhost:8080/"
        },
        "id": "U4c0KkbdG2C4",
        "outputId": "d5f845a8-0771-4f97-abe2-15cafb122861"
      },
      "execution_count": null,
      "outputs": [
        {
          "output_type": "execute_result",
          "data": {
            "text/plain": [
              "array([[ 3,  4,  5,  7],\n",
              "       [ 1,  9, 11, 12],\n",
              "       [ 1,  2, 14, 15]])"
            ]
          },
          "metadata": {},
          "execution_count": 68
        }
      ]
    },
    {
      "cell_type": "code",
      "source": [
        "np.sort(a, axis=-1)"
      ],
      "metadata": {
        "colab": {
          "base_uri": "https://localhost:8080/"
        },
        "id": "RCBFX2-lHLt3",
        "outputId": "1c8fb7d8-3b93-4e3b-a7a5-960d0f467f31"
      },
      "execution_count": null,
      "outputs": [
        {
          "output_type": "execute_result",
          "data": {
            "text/plain": [
              "array([[ 3,  4,  5,  7],\n",
              "       [ 1,  9, 11, 12],\n",
              "       [ 1,  2, 14, 15]])"
            ]
          },
          "metadata": {},
          "execution_count": 69
        }
      ]
    },
    {
      "cell_type": "code",
      "source": [
        "np.sort(a) # axis=-1, axis=1 -> 2차원 배열, 행렬"
      ],
      "metadata": {
        "colab": {
          "base_uri": "https://localhost:8080/"
        },
        "id": "OiCT4ExIGcyS",
        "outputId": "32464f14-28db-46ba-a226-763172d2fa48"
      },
      "execution_count": null,
      "outputs": [
        {
          "output_type": "execute_result",
          "data": {
            "text/plain": [
              "array([[ 3,  4,  5,  7],\n",
              "       [ 1,  9, 11, 12],\n",
              "       [ 1,  2, 14, 15]])"
            ]
          },
          "metadata": {},
          "execution_count": 66
        }
      ]
    },
    {
      "cell_type": "code",
      "source": [
        "a # np.sort 는 원본에 영향 X, 깊은 복사"
      ],
      "metadata": {
        "colab": {
          "base_uri": "https://localhost:8080/"
        },
        "id": "asIhpzzaHCYF",
        "outputId": "3de56111-557d-4ae5-b4ce-0b0b8d1d4495"
      },
      "execution_count": null,
      "outputs": [
        {
          "output_type": "execute_result",
          "data": {
            "text/plain": [
              "array([[ 4,  3,  5,  7],\n",
              "       [ 1, 12, 11,  9],\n",
              "       [ 2, 15,  1, 14]])"
            ]
          },
          "metadata": {},
          "execution_count": 70
        }
      ]
    },
    {
      "cell_type": "code",
      "source": [
        "b = a.copy()\n",
        "b"
      ],
      "metadata": {
        "colab": {
          "base_uri": "https://localhost:8080/"
        },
        "id": "ftKNynAfHkv_",
        "outputId": "a091230a-d019-47c3-8aa6-881ecb06253c"
      },
      "execution_count": null,
      "outputs": [
        {
          "output_type": "execute_result",
          "data": {
            "text/plain": [
              "array([[ 4,  3,  5,  7],\n",
              "       [ 1, 12, 11,  9],\n",
              "       [ 2, 15,  1, 14]])"
            ]
          },
          "metadata": {},
          "execution_count": 75
        }
      ]
    },
    {
      "cell_type": "code",
      "source": [
        "b.sort() # arr.sort()를 사용할 경우, 해당 arr의 상태가 변화\n",
        "# -> 자체변화 메소드(in-place) = 원본이 수정\n",
        "b"
      ],
      "metadata": {
        "colab": {
          "base_uri": "https://localhost:8080/"
        },
        "id": "vL5ghZBgHifo",
        "outputId": "3c549960-6e7d-4391-94ac-a1f19bd54b43"
      },
      "execution_count": null,
      "outputs": [
        {
          "output_type": "execute_result",
          "data": {
            "text/plain": [
              "array([[ 3,  4,  5,  7],\n",
              "       [ 1,  9, 11, 12],\n",
              "       [ 1,  2, 14, 15]])"
            ]
          },
          "metadata": {},
          "execution_count": 79
        }
      ]
    },
    {
      "cell_type": "code",
      "source": [
        "b.sort(axis=1)\n",
        "b"
      ],
      "metadata": {
        "colab": {
          "base_uri": "https://localhost:8080/"
        },
        "id": "PrrHuvK4HrsI",
        "outputId": "b937f327-c78f-4db0-d719-52e566a5c413"
      },
      "execution_count": null,
      "outputs": [
        {
          "output_type": "execute_result",
          "data": {
            "text/plain": [
              "array([[ 3,  4,  5,  7],\n",
              "       [ 1,  9, 11, 12],\n",
              "       [ 1,  2, 14, 15]])"
            ]
          },
          "metadata": {},
          "execution_count": 80
        }
      ]
    },
    {
      "cell_type": "markdown",
      "source": [
        "* `argsort` : 자료 정렬이 아니라 순서만 알고 싶다"
      ],
      "metadata": {
        "id": "XK1it_M6H_TF"
      }
    },
    {
      "cell_type": "code",
      "source": [
        "#              0, 1,  2,  3\n",
        "a = np.array([42, 38, 12, 25])\n",
        "j = np.argsort(a) # 오름차순\n",
        "j\n",
        "# 오름차순 : 작은 -> 큰 값으로 (데이터가 전개된 방향 일치하게 커진다, asc)\n",
        "# 내림차순 : 큰 -> 작은 (데이터가 전개되는 방향으로 작아진다 = 가장 큰 값이 맨 앞에 있다, desc)"
      ],
      "metadata": {
        "colab": {
          "base_uri": "https://localhost:8080/"
        },
        "id": "AA4ohPBNH-MA",
        "outputId": "70bcd740-98e5-4f1f-c170-6f77765ca4cd"
      },
      "execution_count": null,
      "outputs": [
        {
          "output_type": "execute_result",
          "data": {
            "text/plain": [
              "array([2, 3, 1, 0])"
            ]
          },
          "metadata": {},
          "execution_count": 81
        }
      ]
    },
    {
      "cell_type": "code",
      "source": [
        "a[j] # 정수 배열 인덱싱"
      ],
      "metadata": {
        "colab": {
          "base_uri": "https://localhost:8080/"
        },
        "id": "IWf6Wu0AIwoQ",
        "outputId": "52bb7108-d9c9-4192-bfa0-7c8f2c3bf6bd"
      },
      "execution_count": null,
      "outputs": [
        {
          "output_type": "execute_result",
          "data": {
            "text/plain": [
              "array([12, 25, 38, 42])"
            ]
          },
          "metadata": {},
          "execution_count": 82
        }
      ]
    },
    {
      "cell_type": "markdown",
      "source": [
        "## ⚓ 연습문제 2\n",
        "> 두 번째 행을 기준으로 각 열(column)을 재정렬\n",
        "```\n",
        "array([[  1,    2,    3,    4],\n",
        "       [ 46,   99,  100,   71],\n",
        "       [ 81,   59,   90,  100]])\n",
        "```"
      ],
      "metadata": {
        "id": "dyf7sXv5I8Da"
      }
    },
    {
      "cell_type": "code",
      "source": [
        "x = np.array([\n",
        "    [1, 2, 3, 4],\n",
        "    [46, 99, 100, 71],\n",
        "    [81, 59, 90, 100]\n",
        "])\n",
        "x"
      ],
      "metadata": {
        "colab": {
          "base_uri": "https://localhost:8080/"
        },
        "id": "v7nM_TdbJWkG",
        "outputId": "d4ec0cef-ded0-44df-ad64-762f6da0ee6d"
      },
      "execution_count": null,
      "outputs": [
        {
          "output_type": "execute_result",
          "data": {
            "text/plain": [
              "array([[  1,   2,   3,   4],\n",
              "       [ 46,  99, 100,  71],\n",
              "       [ 81,  59,  90, 100]])"
            ]
          },
          "metadata": {},
          "execution_count": 83
        }
      ]
    },
    {
      "cell_type": "code",
      "source": [
        "x[1]"
      ],
      "metadata": {
        "colab": {
          "base_uri": "https://localhost:8080/"
        },
        "id": "vlspOfdCJarW",
        "outputId": "02895220-ff8e-40e7-8721-8e6217820af3"
      },
      "execution_count": null,
      "outputs": [
        {
          "output_type": "execute_result",
          "data": {
            "text/plain": [
              "array([ 46,  99, 100,  71])"
            ]
          },
          "metadata": {},
          "execution_count": 84
        }
      ]
    },
    {
      "cell_type": "code",
      "source": [
        "np.argsort(x[1]) # = 열들의 인덱스"
      ],
      "metadata": {
        "colab": {
          "base_uri": "https://localhost:8080/"
        },
        "id": "E7mrYg4zJeVq",
        "outputId": "ad3bc06a-7353-41c2-ff21-e7194449bfdc"
      },
      "execution_count": null,
      "outputs": [
        {
          "output_type": "execute_result",
          "data": {
            "text/plain": [
              "array([0, 3, 1, 2])"
            ]
          },
          "metadata": {},
          "execution_count": 85
        }
      ]
    },
    {
      "cell_type": "code",
      "source": [
        "x[:, np.argsort(x[1])]"
      ],
      "metadata": {
        "colab": {
          "base_uri": "https://localhost:8080/"
        },
        "id": "d62-2TizJm0U",
        "outputId": "a20a6441-f556-4332-b147-2cd1c84d26b4"
      },
      "execution_count": null,
      "outputs": [
        {
          "output_type": "execute_result",
          "data": {
            "text/plain": [
              "array([[  1,   4,   2,   3],\n",
              "       [ 46,  71,  99, 100],\n",
              "       [ 81, 100,  59,  90]])"
            ]
          },
          "metadata": {},
          "execution_count": 86
        }
      ]
    },
    {
      "cell_type": "markdown",
      "source": [
        "# 기술 통계 (descriptive statistics)"
      ],
      "metadata": {
        "id": "BuDCzP1HJ494"
      }
    },
    {
      "cell_type": "markdown",
      "source": [
        "* 데이터 집합에 대해 통계를 계산 (차원 축소)"
      ],
      "metadata": {
        "id": "vOHgiq4sJ_DU"
      }
    },
    {
      "cell_type": "code",
      "source": [
        "x = np.array([18,   5,  10,  23,  19,  -8,  10,   0,   0,   5,   2,  15,   8,\n",
        "              2,   5,   4,  15,  -1,   4,  -7, -24,   7,   9,  -6,  23, -13])\n",
        "x"
      ],
      "metadata": {
        "colab": {
          "base_uri": "https://localhost:8080/"
        },
        "id": "NWLbomwQKHTU",
        "outputId": "480e42ff-ded8-4f24-eab1-9bd6a4aae9eb"
      },
      "execution_count": null,
      "outputs": [
        {
          "output_type": "execute_result",
          "data": {
            "text/plain": [
              "array([ 18,   5,  10,  23,  19,  -8,  10,   0,   0,   5,   2,  15,   8,\n",
              "         2,   5,   4,  15,  -1,   4,  -7, -24,   7,   9,  -6,  23, -13])"
            ]
          },
          "metadata": {},
          "execution_count": 87
        }
      ]
    },
    {
      "cell_type": "markdown",
      "source": [
        "## 데이터의 개수"
      ],
      "metadata": {
        "id": "EojBrepzKUu0"
      }
    },
    {
      "cell_type": "code",
      "source": [
        "len(x)"
      ],
      "metadata": {
        "colab": {
          "base_uri": "https://localhost:8080/"
        },
        "id": "IgC40poCKJh-",
        "outputId": "cc803c95-3b2e-4b3b-ac48-0a38feb9c462"
      },
      "execution_count": null,
      "outputs": [
        {
          "output_type": "execute_result",
          "data": {
            "text/plain": [
              "26"
            ]
          },
          "metadata": {},
          "execution_count": 89
        }
      ]
    },
    {
      "cell_type": "markdown",
      "source": [
        "## 표본 평균\n",
        "* 우리가 일반적으로 아는 평균\n",
        "* 통계용어로는 표본 평균(sample average, sample mean)\n",
        "<br>\n",
        "$\n",
        "\\bar{x} = \\frac{1}{N}\\displaystyle\\sum_{i=1}^{N}{x_i}\n",
        "$\n",
        "(𝑁은 데이터의 개수)"
      ],
      "metadata": {
        "id": "2Bz11vNpKe-y"
      }
    },
    {
      "cell_type": "code",
      "source": [
        "# sum(data) / len(data)\n",
        "np.mean(x)"
      ],
      "metadata": {
        "colab": {
          "base_uri": "https://localhost:8080/"
        },
        "id": "y1a35BMWKea4",
        "outputId": "11f2c624-9555-46a7-b3ec-8101bf923292"
      },
      "execution_count": null,
      "outputs": [
        {
          "output_type": "execute_result",
          "data": {
            "text/plain": [
              "4.8076923076923075"
            ]
          },
          "metadata": {},
          "execution_count": 90
        }
      ]
    },
    {
      "cell_type": "markdown",
      "source": [
        "## 표본 분산\n",
        "* 표본 분산(sample variance) : 데이터와 표본 평균간의 거리의 제곱의 평균\n",
        "* 표본 분산이 작으면 데이터가 모여있는 것이고 크면 흩어져 있는 것\n",
        "<br>\n",
        "$\n",
        "s^2 = \\frac{1}{N}\\displaystyle\\sum_{i=1}^{N}{(x_i-\\bar{x})^2}\n",
        "$"
      ],
      "metadata": {
        "id": "ehCu9tUgKxze"
      }
    },
    {
      "cell_type": "code",
      "source": [
        "np.var(x)"
      ],
      "metadata": {
        "colab": {
          "base_uri": "https://localhost:8080/"
        },
        "id": "UN-4cdLIKxj8",
        "outputId": "7fc5d7d7-e517-444d-ebce-f211955a1449"
      },
      "execution_count": null,
      "outputs": [
        {
          "output_type": "execute_result",
          "data": {
            "text/plain": [
              "115.23224852071006"
            ]
          },
          "metadata": {},
          "execution_count": 91
        }
      ]
    },
    {
      "cell_type": "markdown",
      "source": [
        "## 표본 표준편차\n",
        "* 표본 표준편차(sample standard variance) : 표본 분산의 양의 제곱근 값 \n",
        "<br>\n",
        "$\n",
        "s = \\sqrt{s^2}\n",
        "$"
      ],
      "metadata": {
        "id": "q0uGQ407LIyf"
      }
    },
    {
      "cell_type": "code",
      "source": [
        "np.std(x)"
      ],
      "metadata": {
        "colab": {
          "base_uri": "https://localhost:8080/"
        },
        "id": "kQ8Y82bUKt8v",
        "outputId": "bd276ed9-c0db-4891-eb79-29e682b80551"
      },
      "execution_count": null,
      "outputs": [
        {
          "output_type": "execute_result",
          "data": {
            "text/plain": [
              "10.734628476137871"
            ]
          },
          "metadata": {},
          "execution_count": 92
        }
      ]
    },
    {
      "cell_type": "markdown",
      "source": [
        "## 최댓값과 최솟값"
      ],
      "metadata": {
        "id": "Dmte-kE6LbD0"
      }
    },
    {
      "cell_type": "code",
      "source": [
        "# 최댓값 (maximum) / 최솟값 (minimum)\n",
        "np.max(x), np.min(x)"
      ],
      "metadata": {
        "colab": {
          "base_uri": "https://localhost:8080/"
        },
        "id": "5gg8B2iLLeco",
        "outputId": "d1898bb0-b335-4d47-f77d-6aec70f6fa93"
      },
      "execution_count": null,
      "outputs": [
        {
          "output_type": "execute_result",
          "data": {
            "text/plain": [
              "(23, -24)"
            ]
          },
          "metadata": {},
          "execution_count": 93
        }
      ]
    },
    {
      "cell_type": "markdown",
      "source": [
        "## 중앙값\n",
        "* 중앙값(median) : 데이터를 크기대로 정렬하였을 때 가장 가운데에 있는 수\n",
        "* 만약 데이터의 수가 짝수이면 가장 가운데에 있는 두 수의 평균을 사용"
      ],
      "metadata": {
        "id": "JwLIsy0eLgeC"
      }
    },
    {
      "cell_type": "code",
      "source": [
        "np.median(x)"
      ],
      "metadata": {
        "colab": {
          "base_uri": "https://localhost:8080/"
        },
        "id": "-EiB6_iCLju0",
        "outputId": "29c8b675-65be-48f3-da21-27b13dd7caa0"
      },
      "execution_count": null,
      "outputs": [
        {
          "output_type": "execute_result",
          "data": {
            "text/plain": [
              "5.0"
            ]
          },
          "metadata": {},
          "execution_count": 94
        }
      ]
    },
    {
      "cell_type": "markdown",
      "source": [
        "## 사분위수\n",
        "* 사분위수(quartile) : 데이터를 가장 작은 수부터 가장 큰 수까지 크기가 커지는 순서대로 정렬하였을 때 1/4, 2/4, 3/4 위치에 있는 수\n",
        "* 각각 1사분위수, 2사분위수, 3사분위수라고 함\n",
        "* 1/4의 위치란 전체 데이터의 수가 만약 100개이면 25번째 순서, 즉 하위 25%\n",
        "* 따라서 2사분위수는 중앙값과 같음\n",
        "* 때로는 위치를 1/100 단위로 나눈 백분위수(percentile)을 사용하기도 함\n",
        "* 1사분위수는 25% 백분위수와 같음"
      ],
      "metadata": {
        "id": "pl5vm5zILpv4"
      }
    },
    {
      "cell_type": "code",
      "source": [
        "np.percentile(x, 0)  # 최솟값 "
      ],
      "metadata": {
        "colab": {
          "base_uri": "https://localhost:8080/"
        },
        "id": "8ICtwSOfMKbR",
        "outputId": "52cb43db-b701-45c7-e49d-5a128451e1ef"
      },
      "execution_count": null,
      "outputs": [
        {
          "output_type": "execute_result",
          "data": {
            "text/plain": [
              "-24.0"
            ]
          },
          "metadata": {},
          "execution_count": 95
        }
      ]
    },
    {
      "cell_type": "code",
      "source": [
        "np.percentile(x, 25)  # 1사분위 수 100 중 25 => 25/100 => 1/4"
      ],
      "metadata": {
        "colab": {
          "base_uri": "https://localhost:8080/"
        },
        "id": "6UY3k19KMK32",
        "outputId": "df639738-66c2-4e1c-852a-2a1184d79e4d"
      },
      "execution_count": null,
      "outputs": [
        {
          "output_type": "execute_result",
          "data": {
            "text/plain": [
              "0.0"
            ]
          },
          "metadata": {},
          "execution_count": 96
        }
      ]
    },
    {
      "cell_type": "code",
      "source": [
        "np.percentile(x, 50)  # 2사분위 수 2/4"
      ],
      "metadata": {
        "colab": {
          "base_uri": "https://localhost:8080/"
        },
        "id": "ElxM12iwMPEL",
        "outputId": "697b082d-a339-463b-898b-7b2e6dde9a8c"
      },
      "execution_count": null,
      "outputs": [
        {
          "output_type": "execute_result",
          "data": {
            "text/plain": [
              "5.0"
            ]
          },
          "metadata": {},
          "execution_count": 97
        }
      ]
    },
    {
      "cell_type": "code",
      "source": [
        "np.percentile(x, 75)  # 3사분위 수 "
      ],
      "metadata": {
        "colab": {
          "base_uri": "https://localhost:8080/"
        },
        "id": "0FvCB1erMQYf",
        "outputId": "3d98a153-3741-4038-e29f-5ce59ebccba1"
      },
      "execution_count": null,
      "outputs": [
        {
          "output_type": "execute_result",
          "data": {
            "text/plain": [
              "10.0"
            ]
          },
          "metadata": {},
          "execution_count": 98
        }
      ]
    },
    {
      "cell_type": "code",
      "source": [
        "np.percentile(x, 100)  # 최댓값 "
      ],
      "metadata": {
        "colab": {
          "base_uri": "https://localhost:8080/"
        },
        "id": "nMAAX0ECMRze",
        "outputId": "368c43bf-f9fd-4645-8812-e0d31fbc51b3"
      },
      "execution_count": null,
      "outputs": [
        {
          "output_type": "execute_result",
          "data": {
            "text/plain": [
              "23.0"
            ]
          },
          "metadata": {},
          "execution_count": 99
        }
      ]
    },
    {
      "cell_type": "markdown",
      "source": [
        "# 난수 발생과 카운트"
      ],
      "metadata": {
        "id": "UGvXaeBGQwK5"
      }
    },
    {
      "cell_type": "markdown",
      "source": [
        "* 난수? 임의의 수? 무작위 수?\n",
        "* 컴퓨터 프로그램에서 발생하는 무작위의 수는 실은 엄격한 의미의 무작위 수가 아님\n",
        "* 어떠한 특정한 시작 숫자를 정해주면 컴퓨터가 정해진 알고리즘에 이해 마치 난수처럼 보이는 수열을 생성 -> 이런 시작 숫자를 시드(seed)라고 함"
      ],
      "metadata": {
        "id": "TSapvXX2Q0rp"
      }
    },
    {
      "cell_type": "markdown",
      "source": [
        "## 시드 설정"
      ],
      "metadata": {
        "id": "sc2205W_RRjx"
      }
    },
    {
      "cell_type": "markdown",
      "source": [
        "* 일단 생성된 나수는 다음번 난수 생성을 위한 시드값이 됨.\n",
        "* 시드값은 한 번만 정해주면 됨.\n",
        "* 시드 -> 현재 시각 등 -> 자동으로 정해짐. 사람이 수동으로 설정.\n",
        "* 수동으로 설정 -> 그 다음에 만들어진 난수는 모두 예측가능한 값.\n",
        "* 고정된 결과를 얻기 위해서는 실습 때 **시드**를 설정"
      ],
      "metadata": {
        "id": "CCx-izrHRV_Y"
      }
    },
    {
      "cell_type": "code",
      "source": [
        "np.random.seed(0) # 시드값이 고정"
      ],
      "metadata": {
        "id": "oUEWPg4OR8YD"
      },
      "execution_count": null,
      "outputs": []
    },
    {
      "cell_type": "markdown",
      "source": [
        "## `rand` : 0과 1 사이의 난수를 발생"
      ],
      "metadata": {
        "id": "-jMjslrrSE0D"
      }
    },
    {
      "cell_type": "code",
      "source": [
        "np.random.rand(5) # (갯수)"
      ],
      "metadata": {
        "colab": {
          "base_uri": "https://localhost:8080/"
        },
        "id": "5MKeOUA6SBou",
        "outputId": "f05e5788-0827-49e0-8a44-20eb50221e98"
      },
      "execution_count": null,
      "outputs": [
        {
          "output_type": "execute_result",
          "data": {
            "text/plain": [
              "array([0.5488135 , 0.71518937, 0.60276338, 0.54488318, 0.4236548 ])"
            ]
          },
          "metadata": {},
          "execution_count": 105
        }
      ]
    },
    {
      "cell_type": "code",
      "source": [
        "np.random.rand(10)"
      ],
      "metadata": {
        "colab": {
          "base_uri": "https://localhost:8080/"
        },
        "id": "Zxg7eZqMSWOh",
        "outputId": "ffe702b3-fb5b-42bb-d6b8-e3712c42a4ef"
      },
      "execution_count": null,
      "outputs": [
        {
          "output_type": "execute_result",
          "data": {
            "text/plain": [
              "array([0.64589411, 0.43758721, 0.891773  , 0.96366276, 0.38344152,\n",
              "       0.79172504, 0.52889492, 0.56804456, 0.92559664, 0.07103606])"
            ]
          },
          "metadata": {},
          "execution_count": 106
        }
      ]
    },
    {
      "cell_type": "markdown",
      "source": [
        "## 데이터의 순서 변경"
      ],
      "metadata": {
        "id": "0mY2_lTYSfnI"
      }
    },
    {
      "cell_type": "markdown",
      "source": [
        "### `shuffle`\n",
        "* 데이터의 순서를 변경\n",
        "* 자체 변환 함수(in-place) 함수 -> 원본에 영향"
      ],
      "metadata": {
        "id": "usg_gB-oSvkZ"
      }
    },
    {
      "cell_type": "code",
      "source": [
        "x = np.arange(10)\n",
        "x"
      ],
      "metadata": {
        "colab": {
          "base_uri": "https://localhost:8080/"
        },
        "id": "lENxXVKAS8-a",
        "outputId": "54d552a1-aecd-4e8b-b33d-eb208ff79521"
      },
      "execution_count": null,
      "outputs": [
        {
          "output_type": "execute_result",
          "data": {
            "text/plain": [
              "array([0, 1, 2, 3, 4, 5, 6, 7, 8, 9])"
            ]
          },
          "metadata": {},
          "execution_count": 107
        }
      ]
    },
    {
      "cell_type": "code",
      "source": [
        "np.random.shuffle(x)\n",
        "x"
      ],
      "metadata": {
        "colab": {
          "base_uri": "https://localhost:8080/"
        },
        "id": "9RZbCzVbS-0e",
        "outputId": "9c308f6f-e134-43e3-c085-f734f0f244bc"
      },
      "execution_count": null,
      "outputs": [
        {
          "output_type": "execute_result",
          "data": {
            "text/plain": [
              "array([5, 1, 8, 2, 6, 7, 0, 3, 4, 9])"
            ]
          },
          "metadata": {},
          "execution_count": 108
        }
      ]
    },
    {
      "cell_type": "markdown",
      "source": [
        "## 데이터 샘플링\n",
        "* 표본 선택 혹은 샘플링(sampling) : 이미 있는 데이터 집합에서 일부를 무작위로 선택하는 것"
      ],
      "metadata": {
        "id": "es0BNXB8TOYI"
      }
    },
    {
      "cell_type": "markdown",
      "source": [
        "### `choice` : 샘플링에 사용\n",
        "* a : 배열이면 원래의 데이터, 정수이면 arange(a) 명령으로 데이터 생성\n",
        "* size : 정수. 샘플 숫자\n",
        "* replace : 불리언. True이면 한번 선택한 데이터를 다시 선택 가능 (복원/비복원 추출)\n",
        "* p : 배열. 각 데이터가 선택될 수 있는 확률\n",
        "```\n",
        "np.random.choice(a, size=None, replace=True, p=None)\n",
        "```"
      ],
      "metadata": {
        "id": "G4rdC9DBTgj7"
      }
    },
    {
      "cell_type": "code",
      "source": [
        "# np.random.choice(추출 대상이 될 배열, 추출할 사이즈, 복원 여부, 개별 확률)\n",
        "np.random.choice(5, 5, replace=False)\n",
        "np.random.choice(5, 3, replace=False) # 비복원추출 : 자리뽑기, 경품뽑기"
      ],
      "metadata": {
        "colab": {
          "base_uri": "https://localhost:8080/"
        },
        "id": "l9ZdxLSbTf3h",
        "outputId": "d11b01e9-1da0-4238-9ace-b688fe504d45"
      },
      "execution_count": null,
      "outputs": [
        {
          "output_type": "execute_result",
          "data": {
            "text/plain": [
              "array([1, 4, 2])"
            ]
          },
          "metadata": {},
          "execution_count": 110
        }
      ]
    },
    {
      "cell_type": "code",
      "source": [
        "np.random.choice(5, 5, replace=True) # 복원추출 : 동전던지기, 주사위던지기"
      ],
      "metadata": {
        "colab": {
          "base_uri": "https://localhost:8080/"
        },
        "id": "TiWdyFxRTCiO",
        "outputId": "d3d2bd0e-f3dd-4542-a2f0-53080bed6dfb"
      },
      "execution_count": null,
      "outputs": [
        {
          "output_type": "execute_result",
          "data": {
            "text/plain": [
              "array([3, 3, 2, 4, 2])"
            ]
          },
          "metadata": {},
          "execution_count": 111
        }
      ]
    },
    {
      "cell_type": "code",
      "source": [
        "# arange(5) = [0, 1, 2, 3, 4] => 10.\n",
        "np.random.choice(5, 10, p=[0.1, 0, 0.3, 0.6, 0])"
      ],
      "metadata": {
        "colab": {
          "base_uri": "https://localhost:8080/"
        },
        "id": "gCHpSqTQUakb",
        "outputId": "a9468f4c-8539-49db-c634-5e01fce2bf4f"
      },
      "execution_count": null,
      "outputs": [
        {
          "output_type": "execute_result",
          "data": {
            "text/plain": [
              "array([3, 3, 3, 3, 3, 3, 3, 2, 3, 2])"
            ]
          },
          "metadata": {},
          "execution_count": 114
        }
      ]
    },
    {
      "cell_type": "markdown",
      "source": [
        "## 난수 생성"
      ],
      "metadata": {
        "id": "GjpfZ1pbU3Vr"
      }
    },
    {
      "cell_type": "markdown",
      "source": [
        "## `rand` : 0~1 사이에서 균일한 확률 분포로 실수인 난수를 생성\n",
        "=> 0~1 사이의 임의의 수 <br>\n",
        "`np.random.rand(n)` : 생성할 난수의 개수 <br>\n",
        "`np.random.rand(m, n)` : 배열 모양으로 생성"
      ],
      "metadata": {
        "id": "weYWSRZ_U83I"
      }
    },
    {
      "cell_type": "code",
      "source": [
        "np.random.rand(10) # 0~1 10개 임의의 수"
      ],
      "metadata": {
        "colab": {
          "base_uri": "https://localhost:8080/"
        },
        "id": "pQWKSseIU5GO",
        "outputId": "eb9a07a6-5597-4110-b5e5-8fc1d1e50758"
      },
      "execution_count": null,
      "outputs": [
        {
          "output_type": "execute_result",
          "data": {
            "text/plain": [
              "array([0.77834548, 0.94957105, 0.66252687, 0.01357164, 0.6228461 ,\n",
              "       0.67365963, 0.971945  , 0.87819347, 0.50962438, 0.05571469])"
            ]
          },
          "metadata": {},
          "execution_count": 115
        }
      ]
    },
    {
      "cell_type": "code",
      "source": [
        "np.random.rand(3, 5) # 0~1 15개 -> (3, 5)"
      ],
      "metadata": {
        "colab": {
          "base_uri": "https://localhost:8080/"
        },
        "id": "i5ny5qG_VU4J",
        "outputId": "0cdb3a99-087e-458d-f53a-9272b09ca706"
      },
      "execution_count": null,
      "outputs": [
        {
          "output_type": "execute_result",
          "data": {
            "text/plain": [
              "array([[0.45115921, 0.01998767, 0.44171092, 0.97958673, 0.35944446],\n",
              "       [0.48089353, 0.68866118, 0.88047589, 0.91823547, 0.21682214],\n",
              "       [0.56518887, 0.86510256, 0.50896896, 0.91672295, 0.92115761]])"
            ]
          },
          "metadata": {},
          "execution_count": 116
        }
      ]
    },
    {
      "cell_type": "code",
      "source": [
        "np.random.rand(3, 5, 2)"
      ],
      "metadata": {
        "colab": {
          "base_uri": "https://localhost:8080/"
        },
        "id": "xW4vIPKmVYdW",
        "outputId": "7ff80354-a22e-46c5-9391-31ce5a6a8cba"
      },
      "execution_count": null,
      "outputs": [
        {
          "output_type": "execute_result",
          "data": {
            "text/plain": [
              "array([[[0.08311249, 0.27771856],\n",
              "        [0.0093567 , 0.84234208],\n",
              "        [0.64717414, 0.84138612],\n",
              "        [0.26473016, 0.39782075],\n",
              "        [0.55282148, 0.16494046]],\n",
              "\n",
              "       [[0.36980809, 0.14644176],\n",
              "        [0.56961841, 0.70373728],\n",
              "        [0.28847644, 0.43328806],\n",
              "        [0.75610669, 0.39609828],\n",
              "        [0.89603839, 0.63892108]],\n",
              "\n",
              "       [[0.89155444, 0.68005557],\n",
              "        [0.44919774, 0.97857093],\n",
              "        [0.11620191, 0.7670237 ],\n",
              "        [0.41182014, 0.67543908],\n",
              "        [0.24979628, 0.31321833]]])"
            ]
          },
          "metadata": {},
          "execution_count": 117
        }
      ]
    },
    {
      "cell_type": "markdown",
      "source": [
        "### `randn` : 기댓값(평균)이 0이고 표준편차가 1인 표준 정규 분포 (standard normal distribution)를 따르는 난수를 생성"
      ],
      "metadata": {
        "id": "nfpgp8AkVprh"
      }
    },
    {
      "cell_type": "code",
      "source": [
        "np.random.randn(10)"
      ],
      "metadata": {
        "colab": {
          "base_uri": "https://localhost:8080/"
        },
        "id": "WMDsYW7sV6-F",
        "outputId": "d9626e87-565e-485a-f0e2-607d91bd28ce"
      },
      "execution_count": null,
      "outputs": [
        {
          "output_type": "execute_result",
          "data": {
            "text/plain": [
              "array([ 0.08672983,  0.45628701,  0.4310333 ,  2.07257353, -0.53778512,\n",
              "       -1.3784301 , -0.49240425,  2.32773811,  1.80440397, -0.24942133])"
            ]
          },
          "metadata": {},
          "execution_count": 118
        }
      ]
    },
    {
      "cell_type": "code",
      "source": [
        "np.random.randn(5, 2)"
      ],
      "metadata": {
        "colab": {
          "base_uri": "https://localhost:8080/"
        },
        "id": "OLr9XhzfWAJs",
        "outputId": "fc4bc357-2c88-4e43-c5a5-09477c51faf3"
      },
      "execution_count": null,
      "outputs": [
        {
          "output_type": "execute_result",
          "data": {
            "text/plain": [
              "array([[-0.82086383, -1.49333996],\n",
              "       [ 0.52417595,  0.34511317],\n",
              "       [ 0.72437468, -2.04038084],\n",
              "       [-1.0797781 , -0.69342441],\n",
              "       [-2.33804615,  1.66226234]])"
            ]
          },
          "metadata": {},
          "execution_count": 119
        }
      ]
    },
    {
      "cell_type": "markdown",
      "source": [
        "### `randint` : 임의의 범위의 숫자들을 리턴\n",
        "```\n",
        "np.random.randint(low, high=None, size=None)\n",
        "```\n",
        "low~high값까지의 범위에 임의 정수를 반환\n",
        "* high를 입력하지 않으면 0~low\n",
        "* size를 입력하지 않으면 1만. size 입력하면 그만큼\n"
      ],
      "metadata": {
        "id": "RD_z999PWVrZ"
      }
    },
    {
      "cell_type": "code",
      "source": [
        "np.random.randint(10)"
      ],
      "metadata": {
        "colab": {
          "base_uri": "https://localhost:8080/"
        },
        "id": "9YWiVl3vWsxJ",
        "outputId": "bbbcfcc8-a3e8-44ff-8926-eef4acf95cca"
      },
      "execution_count": null,
      "outputs": [
        {
          "output_type": "execute_result",
          "data": {
            "text/plain": [
              "8"
            ]
          },
          "metadata": {},
          "execution_count": 121
        }
      ]
    },
    {
      "cell_type": "code",
      "source": [
        "np.random.randint(10, size=10)"
      ],
      "metadata": {
        "colab": {
          "base_uri": "https://localhost:8080/"
        },
        "id": "7aN9SRu_Wxdo",
        "outputId": "0a27047d-5929-476c-e2f9-044e9a508be1"
      },
      "execution_count": null,
      "outputs": [
        {
          "output_type": "execute_result",
          "data": {
            "text/plain": [
              "array([4, 6, 5, 8, 2, 3, 9, 7, 5, 3])"
            ]
          },
          "metadata": {},
          "execution_count": 122
        }
      ]
    },
    {
      "cell_type": "code",
      "source": [
        "np.random.randint(10, 20, size=10) # size는 배열의 사이즈"
      ],
      "metadata": {
        "colab": {
          "base_uri": "https://localhost:8080/"
        },
        "id": "5PQC9QP3W4Qu",
        "outputId": "f4579041-779b-412c-f3c1-ca7063c275fc"
      },
      "execution_count": null,
      "outputs": [
        {
          "output_type": "execute_result",
          "data": {
            "text/plain": [
              "array([14, 15, 13, 13, 17, 19, 19, 19, 17, 13])"
            ]
          },
          "metadata": {},
          "execution_count": 123
        }
      ]
    },
    {
      "cell_type": "code",
      "source": [
        "np.random.randint(10, 20, size=(2, 2, 5))"
      ],
      "metadata": {
        "colab": {
          "base_uri": "https://localhost:8080/"
        },
        "id": "B67twywHW7dl",
        "outputId": "b9280018-7754-4d9e-8f3a-f96e6aba1ee5"
      },
      "execution_count": null,
      "outputs": [
        {
          "output_type": "execute_result",
          "data": {
            "text/plain": [
              "array([[[12, 13, 19, 17, 17],\n",
              "        [15, 11, 12, 12, 18]],\n",
              "\n",
              "       [[11, 15, 18, 14, 10],\n",
              "        [12, 15, 15, 10, 18]]])"
            ]
          },
          "metadata": {},
          "execution_count": 124
        }
      ]
    },
    {
      "cell_type": "markdown",
      "source": [
        "## ⚓ 연습문제 3\n",
        "1. 동전을 10번 던져 앞면(숫자 1)과 뒷면(숫자 0)이 나오는 가상 실험을 작성하라\n",
        "2. 주사위를 100번 던져서 나오는 숫자의 평균\n",
        "3. 가격이 10,000원인 주식이 있다. 이 주식의 일간 수익률(%)은 기댓값이 0%이고 표준편차가 1%인 표준 정규 분포를 따른다고 하자. 250일 동안의 주가를 무작위로 생성하라"
      ],
      "metadata": {
        "id": "E-ENEgThXBWk"
      }
    },
    {
      "cell_type": "code",
      "source": [
        "#1\n",
        "np.random.randint(2, size=10)"
      ],
      "metadata": {
        "colab": {
          "base_uri": "https://localhost:8080/"
        },
        "id": "pMrTYp-JdEpG",
        "outputId": "0184fc19-b742-4912-b860-ff2fb7833982"
      },
      "execution_count": null,
      "outputs": [
        {
          "output_type": "execute_result",
          "data": {
            "text/plain": [
              "array([0, 1, 1, 0, 1, 1, 1, 0, 0, 1])"
            ]
          },
          "metadata": {},
          "execution_count": 128
        }
      ]
    },
    {
      "cell_type": "code",
      "source": [
        "# HEAD, TAIL\n",
        "coin = np.array(['HEAD', 'TAIL']) # 앞, 뒤\n",
        "coin = np.array([0, 1]) # 앞, 뒤\n",
        "np.random.choice(coin, size=10, replace=True)"
      ],
      "metadata": {
        "colab": {
          "base_uri": "https://localhost:8080/"
        },
        "id": "stZjdfnQdP6I",
        "outputId": "0df7c867-171b-4466-8d0b-5472c9caa0ee"
      },
      "execution_count": null,
      "outputs": [
        {
          "output_type": "execute_result",
          "data": {
            "text/plain": [
              "array([1, 1, 1, 0, 1, 0, 1, 0, 0, 0])"
            ]
          },
          "metadata": {},
          "execution_count": 129
        }
      ]
    },
    {
      "cell_type": "code",
      "source": [
        "#2\n",
        "dice = np.arange(1, 7) # 1~6\n",
        "np.random.choice(dice, 100, replace=True).mean()"
      ],
      "metadata": {
        "colab": {
          "base_uri": "https://localhost:8080/"
        },
        "id": "9-mHVjg3dikd",
        "outputId": "3c26ebc3-9062-44ff-8cd1-7ab6e171c4fa"
      },
      "execution_count": null,
      "outputs": [
        {
          "output_type": "execute_result",
          "data": {
            "text/plain": [
              "3.35"
            ]
          },
          "metadata": {},
          "execution_count": 130
        }
      ]
    },
    {
      "cell_type": "code",
      "source": [
        "(np.random.randint(6, size=100) + 1).mean()"
      ],
      "metadata": {
        "colab": {
          "base_uri": "https://localhost:8080/"
        },
        "id": "uyCocTfIdqK4",
        "outputId": "2cf233d8-aafa-4b69-b773-aabeecd27846"
      },
      "execution_count": null,
      "outputs": [
        {
          "output_type": "execute_result",
          "data": {
            "text/plain": [
              "3.32"
            ]
          },
          "metadata": {},
          "execution_count": 134
        }
      ]
    },
    {
      "cell_type": "code",
      "source": [
        "#3\n",
        "earn1 = np.random.randn(250)\n",
        "earn1 # 평균 0, 표준편차가 1인 분포"
      ],
      "metadata": {
        "id": "Ubje0nO_d7IF"
      },
      "execution_count": null,
      "outputs": []
    },
    {
      "cell_type": "code",
      "source": [
        "earn2 = earn1 / 100 # 1% 표준편차 (1% = 0.01)\n",
        "earn2"
      ],
      "metadata": {
        "id": "P-M0eAy7eHJ2"
      },
      "execution_count": null,
      "outputs": []
    },
    {
      "cell_type": "code",
      "source": [
        "stock = np.empty(250)\n",
        "price = 10000\n",
        "for i, v in enumerate(earn2): # index, value\n",
        "    price *= (1 + v) # 수익률 변화를 거친 금액\n",
        "    stock[i] = price\n",
        "stock"
      ],
      "metadata": {
        "id": "C5H62xU3eMCI"
      },
      "execution_count": null,
      "outputs": []
    },
    {
      "cell_type": "code",
      "source": [
        "er = np.random.randn(250) / 100\n",
        "stock = np.empty(250)\n",
        "price = 10000\n",
        "for i, v in enumerate(er): # index, value\n",
        "    price *= (1 + v) # 수익률 변화를 거친 금액\n",
        "    stock[i] = price\n",
        "stock"
      ],
      "metadata": {
        "colab": {
          "base_uri": "https://localhost:8080/"
        },
        "id": "9r2yvI2ge5tW",
        "outputId": "12adfaea-77d2-401f-9089-b052e1ae34cc"
      },
      "execution_count": null,
      "outputs": [
        {
          "output_type": "execute_result",
          "data": {
            "text/plain": [
              "array([ 9915.33920277,  9906.61664811,  9892.47966865,  9883.48186686,\n",
              "        9981.13316387,  9823.47246252,  9959.74880032,  9878.90231531,\n",
              "        9794.26448262,  9836.31647364,  9755.31759714,  9630.47463652,\n",
              "        9649.28594113,  9573.37104518,  9498.54464587,  9544.97583949,\n",
              "        9665.57372232,  9580.7401576 ,  9667.36406262,  9707.63700437,\n",
              "        9666.13347365,  9670.89167129,  9828.93474864,  9839.72511606,\n",
              "        9835.19028267,  9786.24160184,  9836.619825  ,  9934.16664557,\n",
              "       10158.0821667 , 10276.46082024, 10294.16572236, 10387.82499678,\n",
              "       10564.70977489, 10495.41018117, 10517.49080992, 10510.80968349,\n",
              "       10396.77055322, 10399.83910593, 10259.62596952, 10324.08653579,\n",
              "       10473.26362679, 10575.48555678, 10569.46451745, 10466.68869652,\n",
              "       10307.16940214, 10361.74369524, 10417.83169899, 10295.52624083,\n",
              "       10224.73750177, 10354.84527448, 10425.97051433, 10597.18529915,\n",
              "       10539.5591887 , 10599.51854001, 10529.91676115, 10617.65207853,\n",
              "       10371.62735045, 10412.08285731, 10493.85286789, 10378.68727515,\n",
              "       10400.72075152, 10408.77868671, 10363.62482195, 10350.06996957,\n",
              "       10346.32220955, 10134.18113174, 10209.22167046, 10200.96236173,\n",
              "       10122.62655849, 10231.14337929, 10265.47362647, 10333.32855061,\n",
              "       10157.49570978, 10130.57906958,  9996.57662609, 10029.31301786,\n",
              "       10036.77526477, 10040.89830135, 10167.3771918 , 10258.0363032 ,\n",
              "       10309.90268957, 10239.44309561, 10149.69529178, 10149.1254207 ,\n",
              "       10297.96867242, 10223.22668145, 10046.07682154, 10116.39526893,\n",
              "       10119.63294848, 10141.01454728, 10149.87689525, 10215.90435518,\n",
              "       10152.6959922 , 10161.74658962, 10186.55635413, 10100.51247744,\n",
              "       10009.34765911, 10091.10117816, 10160.92842355, 10033.38027709,\n",
              "       10158.9704008 , 10069.39391377, 10219.4273363 , 10269.6148801 ,\n",
              "       10278.88155313, 10273.54912887, 10389.39242342, 10393.55184967,\n",
              "       10265.2970739 , 10190.33507468,  9937.91054811,  9946.48739934,\n",
              "       10073.99332974, 10026.60612201,  9924.0435406 , 10039.55965436,\n",
              "        9986.60980692, 10165.3078259 , 10228.24389164, 10115.88232364,\n",
              "       10175.32607024, 10321.18714257, 10214.08623451, 10212.86993608,\n",
              "       10208.34734107, 10361.42335448, 10360.37009874, 10416.03671523,\n",
              "       10397.22101635, 10360.6930786 , 10331.32890189, 10402.34822022,\n",
              "       10396.60496664, 10444.89335638, 10572.25902837, 10513.10777603,\n",
              "       10429.02881325, 10422.56736092, 10472.45145854, 10529.19701323,\n",
              "       10500.11545284, 10501.00225333, 10544.88948588, 10469.29186229,\n",
              "       10642.16843794, 10721.98322794, 10865.68323951, 10709.15160876,\n",
              "       10497.69606703, 10340.97549479, 10295.45520786, 10287.22620835,\n",
              "       10181.05331863, 10257.263065  , 10518.79162905, 10456.92220662,\n",
              "       10520.98218785, 10500.97269954, 10737.16503413, 10886.38423926,\n",
              "       10830.73287185, 10793.06270916, 10816.50332637, 10653.23406056,\n",
              "       10685.30767782, 10725.46808469, 10652.38730477, 10729.15730985,\n",
              "       10910.60779941, 10903.13202544, 10852.26227526, 10915.71679422,\n",
              "       11002.51588497, 11042.21935797, 10988.95019653, 10950.74167502,\n",
              "       10812.04410614, 10729.16260277, 10751.23567516, 10685.82807352,\n",
              "       10651.29468099, 10479.24769881, 10524.69394391, 10501.75271015,\n",
              "       10609.21971467, 10594.98900885, 10599.93939298, 10536.86040511,\n",
              "       10331.42150335, 10276.662292  , 10167.6931374 , 10075.32084411,\n",
              "       10071.79695932,  9928.13312384,  9798.81551611,  9682.1353311 ,\n",
              "        9665.62314445,  9744.30632125,  9693.62167389,  9881.15467667,\n",
              "        9875.99713719,  9771.5598841 ,  9756.11202696,  9732.85233219,\n",
              "        9760.05564516,  9951.55552667, 10075.64451882, 10094.57265719,\n",
              "       10223.92574409, 10364.53176711, 10511.77118453, 10453.19172375,\n",
              "       10626.50297963, 10674.62199505, 10635.29317426, 10498.44464248,\n",
              "       10326.84532982, 10325.78407718, 10299.3464977 , 10393.89864787,\n",
              "       10380.6717494 , 10403.26742878, 10448.25465949, 10394.36979916,\n",
              "       10363.43581146, 10295.68982602, 10488.09122212, 10512.9909703 ,\n",
              "       10374.22414152, 10290.03850104, 10243.78485493, 10285.85851363,\n",
              "       10318.06132484, 10362.5363842 , 10226.3282257 , 10463.71101944,\n",
              "       10564.80900405, 10560.94565412, 10504.82831992, 10374.37421694,\n",
              "       10515.64889508, 10609.19968678, 10494.38050486, 10429.2538199 ,\n",
              "       10307.14532537, 10387.01155984, 10500.62654613, 10452.09904596,\n",
              "       10366.73939168, 10222.16325804])"
            ]
          },
          "metadata": {},
          "execution_count": 139
        }
      ]
    },
    {
      "cell_type": "markdown",
      "source": [
        "## 정수 데이터 카운팅\n",
        "  * 만약 난수가 정수값이면 unique 명령이나 bincount 명령으로 데이터의 빈도가 값을 분석"
      ],
      "metadata": {
        "id": "nSsp1R_BfCGt"
      }
    },
    {
      "cell_type": "markdown",
      "source": [
        "### `unique`\n",
        "* unique 함수는 데이터에서 중복된 값을 제거하고 중복되지 않은 값의 리스트 출력 (set?)\n",
        "* return_counts 인수를 True로 설정하면 각 값을 가진 데이터 갯수도 출력"
      ],
      "metadata": {
        "id": "tHaFzdtdfN-V"
      }
    },
    {
      "cell_type": "code",
      "source": [
        "set([11, 11, 2, 2, 34, 34])"
      ],
      "metadata": {
        "colab": {
          "base_uri": "https://localhost:8080/"
        },
        "id": "ZRyPTw3qfm85",
        "outputId": "1d81c731-00af-4aa3-91c6-c9c2e2436482"
      },
      "execution_count": null,
      "outputs": [
        {
          "output_type": "execute_result",
          "data": {
            "text/plain": [
              "{2, 11, 34}"
            ]
          },
          "metadata": {},
          "execution_count": 141
        }
      ]
    },
    {
      "cell_type": "code",
      "source": [
        "np.unique([11, 11, 2, 2, 34, 34])"
      ],
      "metadata": {
        "colab": {
          "base_uri": "https://localhost:8080/"
        },
        "id": "lJd5XnCqfbpt",
        "outputId": "b547a782-8a4e-4768-a0ea-74b05c13c16c"
      },
      "execution_count": null,
      "outputs": [
        {
          "output_type": "execute_result",
          "data": {
            "text/plain": [
              "array([ 2, 11, 34])"
            ]
          },
          "metadata": {},
          "execution_count": 140
        }
      ]
    },
    {
      "cell_type": "code",
      "source": [
        "a = np.array(['a', 'b', 'b', 'c', 'a'])\n",
        "# np.unique(a, return_counts=True)\n",
        "index, count = np.unique(a, return_counts=True) # 중복제거된 값들, 각 값의 빈도수"
      ],
      "metadata": {
        "id": "Fd8rthFFfthm"
      },
      "execution_count": null,
      "outputs": []
    },
    {
      "cell_type": "code",
      "source": [
        "index"
      ],
      "metadata": {
        "colab": {
          "base_uri": "https://localhost:8080/"
        },
        "id": "-ZpoyXIBgH5G",
        "outputId": "930a458f-0d91-4930-f0df-2c35751d972c"
      },
      "execution_count": null,
      "outputs": [
        {
          "output_type": "execute_result",
          "data": {
            "text/plain": [
              "array(['a', 'b', 'c'], dtype='<U1')"
            ]
          },
          "metadata": {},
          "execution_count": 146
        }
      ]
    },
    {
      "cell_type": "code",
      "source": [
        "count"
      ],
      "metadata": {
        "colab": {
          "base_uri": "https://localhost:8080/"
        },
        "id": "eOT09dRGgIwO",
        "outputId": "656b0b0a-81b2-4314-e363-866567c4f634"
      },
      "execution_count": null,
      "outputs": [
        {
          "output_type": "execute_result",
          "data": {
            "text/plain": [
              "array([2, 2, 1])"
            ]
          },
          "metadata": {},
          "execution_count": 148
        }
      ]
    },
    {
      "cell_type": "code",
      "source": [
        "list(zip(index, count))"
      ],
      "metadata": {
        "colab": {
          "base_uri": "https://localhost:8080/"
        },
        "id": "rrFOAHi8gRav",
        "outputId": "afa89eec-b857-4abd-c540-0ae41659ac01"
      },
      "execution_count": null,
      "outputs": [
        {
          "output_type": "execute_result",
          "data": {
            "text/plain": [
              "[('a', 2), ('b', 2), ('c', 1)]"
            ]
          },
          "metadata": {},
          "execution_count": 150
        }
      ]
    },
    {
      "cell_type": "markdown",
      "source": [
        "### `bincount`\n",
        "* `unique` 함수는 데이터에 존재하는 값에 대해서만 갯수를 세므로 데이터 값이 나올 수 있음에도 불구하고 데이터가 하나도 없는 경우에는 정보를 주지 않음\n",
        "* 따라서 데이터가 주사위를 던졌을 때 나오는 수처럼 특정 범위안의 수인 경우에는 `bincount` 함수에 `minlength` 인수를 설정하여 쓰는 것이 더 편리\n",
        "* `bincount` 함수는 0 부터 `minlength` - 1 까지의 숫자에 대해 각각 카운트\n",
        "* 데이터가 없을 경우에는 카운트 값이 0이 됨"
      ],
      "metadata": {
        "id": "hUKsCLuKgbbZ"
      }
    },
    {
      "cell_type": "code",
      "source": [
        "np.bincount([1, 1, 2, 2, 2, 3], minlength=6)"
      ],
      "metadata": {
        "colab": {
          "base_uri": "https://localhost:8080/"
        },
        "id": "dE3SR13Ogwbw",
        "outputId": "0382f3d6-f0b1-4815-bdec-6c46401aaf7b"
      },
      "execution_count": null,
      "outputs": [
        {
          "output_type": "execute_result",
          "data": {
            "text/plain": [
              "array([0, 2, 3, 1, 0, 0])"
            ]
          },
          "metadata": {},
          "execution_count": 151
        }
      ]
    },
    {
      "cell_type": "code",
      "source": [
        "r = np.random.randint(6, size=10) # 0~5\n",
        "r"
      ],
      "metadata": {
        "colab": {
          "base_uri": "https://localhost:8080/"
        },
        "id": "nwC_glZdgyCo",
        "outputId": "789978c3-21d2-4255-d463-33a6511b4bdd"
      },
      "execution_count": null,
      "outputs": [
        {
          "output_type": "execute_result",
          "data": {
            "text/plain": [
              "array([4, 4, 2, 5, 0, 5, 1, 1, 1, 1])"
            ]
          },
          "metadata": {},
          "execution_count": 155
        }
      ]
    },
    {
      "cell_type": "code",
      "source": [
        "np.unique(r, return_counts=True)"
      ],
      "metadata": {
        "colab": {
          "base_uri": "https://localhost:8080/"
        },
        "id": "uqgf-JPThInA",
        "outputId": "aee3ffae-10da-47fb-f7d5-04ebf4f66b0e"
      },
      "execution_count": null,
      "outputs": [
        {
          "output_type": "execute_result",
          "data": {
            "text/plain": [
              "(array([0, 1, 2, 4, 5]), array([1, 4, 1, 2, 2]))"
            ]
          },
          "metadata": {},
          "execution_count": 157
        }
      ]
    },
    {
      "cell_type": "code",
      "source": [
        "np.bincount(r, minlength=6)"
      ],
      "metadata": {
        "colab": {
          "base_uri": "https://localhost:8080/"
        },
        "id": "CxjqVA8dhBP0",
        "outputId": "67b5024f-d760-413d-d87e-f0e584e37c67"
      },
      "execution_count": null,
      "outputs": [
        {
          "output_type": "execute_result",
          "data": {
            "text/plain": [
              "array([1, 4, 1, 0, 2, 2])"
            ]
          },
          "metadata": {},
          "execution_count": 156
        }
      ]
    }
  ]
}