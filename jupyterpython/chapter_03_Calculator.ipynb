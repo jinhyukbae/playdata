{
 "cells": [
  {
   "cell_type": "markdown",
   "id": "eba88929",
   "metadata": {},
   "source": [
    "<h1>파이썬을 계산기처럼 이용하기</h1>\n",
    "\n",
    "<h2>3.1 간단한 사칙 연산<h2>"
   ]
  },
  {
   "cell_type": "markdown",
   "id": "007a5556",
   "metadata": {},
   "source": [
    "<h3>덧셈과 뺄셈</h3>"
   ]
  },
  {
   "cell_type": "code",
   "execution_count": 14,
   "id": "bb456862",
   "metadata": {},
   "outputs": [
    {
     "data": {
      "text/plain": [
       "2"
      ]
     },
     "execution_count": 14,
     "metadata": {},
     "output_type": "execute_result"
    }
   ],
   "source": [
    "1+1"
   ]
  },
  {
   "cell_type": "code",
   "execution_count": 11,
   "id": "82e8266e",
   "metadata": {},
   "outputs": [
    {
     "data": {
      "text/plain": [
       "3"
      ]
     },
     "execution_count": 11,
     "metadata": {},
     "output_type": "execute_result"
    }
   ],
   "source": [
    "5-2"
   ]
  },
  {
   "cell_type": "markdown",
   "id": "45985fb7",
   "metadata": {},
   "source": [
    "<h3>곱셈 나눗셈</h3>"
   ]
  },
  {
   "cell_type": "code",
   "execution_count": 12,
   "id": "5c2dea0f",
   "metadata": {},
   "outputs": [
    {
     "data": {
      "text/plain": [
       "30"
      ]
     },
     "execution_count": 12,
     "metadata": {},
     "output_type": "execute_result"
    }
   ],
   "source": [
    "15 * 2"
   ]
  },
  {
   "cell_type": "code",
   "execution_count": 16,
   "id": "a71ec48d",
   "metadata": {},
   "outputs": [
    {
     "data": {
      "text/plain": [
       "5"
      ]
     },
     "execution_count": 16,
     "metadata": {},
     "output_type": "execute_result"
    }
   ],
   "source": [
    "int(10 / 2)"
   ]
  },
  {
   "cell_type": "markdown",
   "id": "dca9af33",
   "metadata": {},
   "source": [
    "<h3>정수와 실수</h3>\n",
    "정수: 자연수와 음수 그리고 0\n",
    "<br>\n",
    "실수: 유리수와 무리수"
   ]
  },
  {
   "cell_type": "code",
   "execution_count": 17,
   "id": "b373074d",
   "metadata": {},
   "outputs": [
    {
     "data": {
      "text/plain": [
       "6.5"
      ]
     },
     "execution_count": 17,
     "metadata": {},
     "output_type": "execute_result"
    }
   ],
   "source": [
    "1.2 + 5.3"
   ]
  },
  {
   "cell_type": "code",
   "execution_count": 18,
   "id": "81e94148",
   "metadata": {},
   "outputs": [
    {
     "data": {
      "text/plain": [
       "-1.5"
      ]
     },
     "execution_count": 18,
     "metadata": {},
     "output_type": "execute_result"
    }
   ],
   "source": [
    "3.5 - 5.0"
   ]
  },
  {
   "cell_type": "code",
   "execution_count": 19,
   "id": "fd79dda2",
   "metadata": {},
   "outputs": [
    {
     "data": {
      "text/plain": [
       "2.8"
      ]
     },
     "execution_count": 19,
     "metadata": {},
     "output_type": "execute_result"
    }
   ],
   "source": [
    "1.4 * 2"
   ]
  },
  {
   "cell_type": "code",
   "execution_count": 21,
   "id": "62a246d5",
   "metadata": {},
   "outputs": [
    {
     "data": {
      "text/plain": [
       "2.5"
      ]
     },
     "execution_count": 21,
     "metadata": {},
     "output_type": "execute_result"
    }
   ],
   "source": [
    "5 / 2"
   ]
  },
  {
   "cell_type": "code",
   "execution_count": 22,
   "id": "78dde8e0",
   "metadata": {},
   "outputs": [
    {
     "data": {
      "text/plain": [
       "1.6666666666666667"
      ]
     },
     "execution_count": 22,
     "metadata": {},
     "output_type": "execute_result"
    }
   ],
   "source": [
    "5 / 3"
   ]
  },
  {
   "cell_type": "markdown",
   "id": "af643f3b",
   "metadata": {},
   "source": [
    "<h3>복잡한 연산</h3>\n",
    "<br>연산 규칙 : 괄호 > 지수 > 곱셈과나눗셈 > 덧셈과 뺄셈\n"
   ]
  },
  {
   "cell_type": "code",
   "execution_count": 23,
   "id": "d6a7d70e",
   "metadata": {},
   "outputs": [
    {
     "data": {
      "text/plain": [
       "14"
      ]
     },
     "execution_count": 23,
     "metadata": {},
     "output_type": "execute_result"
    }
   ],
   "source": [
    "2 + 3 * 4"
   ]
  },
  {
   "cell_type": "code",
   "execution_count": 27,
   "id": "0b1c5945",
   "metadata": {},
   "outputs": [
    {
     "data": {
      "text/plain": [
       "1.5"
      ]
     },
     "execution_count": 27,
     "metadata": {},
     "output_type": "execute_result"
    }
   ],
   "source": [
    "3 / 2 * (7 - 5) / 2"
   ]
  },
  {
   "cell_type": "code",
   "execution_count": 25,
   "id": "76992ad1",
   "metadata": {},
   "outputs": [
    {
     "data": {
      "text/plain": [
       "8.0"
      ]
     },
     "execution_count": 25,
     "metadata": {},
     "output_type": "execute_result"
    }
   ],
   "source": [
    "10 / 5 + (5 - 2) * 2"
   ]
  },
  {
   "cell_type": "code",
   "execution_count": 26,
   "id": "3b8a3ca9",
   "metadata": {},
   "outputs": [
    {
     "data": {
      "text/plain": [
       "11"
      ]
     },
     "execution_count": 26,
     "metadata": {},
     "output_type": "execute_result"
    }
   ],
   "source": [
    "(5 * 4 - 15) + ((5 - 2) * (9 - 7))"
   ]
  },
  {
   "cell_type": "markdown",
   "id": "1e2802ff",
   "metadata": {},
   "source": [
    "<h3>타입</h3>"
   ]
  },
  {
   "cell_type": "markdown",
   "id": "b9ee94be",
   "metadata": {},
   "source": [
    "함수 : 기능을 수행하도록 작성된 코드의 묶음 함수명(인자)의 형식으로 이용"
   ]
  },
  {
   "cell_type": "code",
   "execution_count": 28,
   "id": "b0a46d1a",
   "metadata": {},
   "outputs": [
    {
     "data": {
      "text/plain": [
       "int"
      ]
     },
     "execution_count": 28,
     "metadata": {},
     "output_type": "execute_result"
    }
   ],
   "source": [
    "type(3)"
   ]
  },
  {
   "cell_type": "code",
   "execution_count": 29,
   "id": "98181ad5",
   "metadata": {},
   "outputs": [
    {
     "data": {
      "text/plain": [
       "float"
      ]
     },
     "execution_count": 29,
     "metadata": {},
     "output_type": "execute_result"
    }
   ],
   "source": [
    "type(1.2)"
   ]
  },
  {
   "cell_type": "markdown",
   "id": "24530ad5",
   "metadata": {},
   "source": [
    "<h1>3.2 거듭 제곱과 나머지</h1>\n",
    "<br><h3>거듭제곱(지수)</h3>\n",
    "<br>거듭제곱 연산자 = **"
   ]
  },
  {
   "cell_type": "code",
   "execution_count": 31,
   "id": "e5b95138",
   "metadata": {},
   "outputs": [
    {
     "data": {
      "text/plain": [
       "32"
      ]
     },
     "execution_count": 31,
     "metadata": {},
     "output_type": "execute_result"
    }
   ],
   "source": [
    "2 ** 5 #2의 5승"
   ]
  },
  {
   "cell_type": "markdown",
   "id": "72efa5b6",
   "metadata": {},
   "source": [
    "실수도 거듭제곱 가능"
   ]
  },
  {
   "cell_type": "code",
   "execution_count": 32,
   "id": "d254d92a",
   "metadata": {},
   "outputs": [
    {
     "data": {
      "text/plain": [
       "2.25"
      ]
     },
     "execution_count": 32,
     "metadata": {},
     "output_type": "execute_result"
    }
   ],
   "source": [
    "1.5 ** 2"
   ]
  },
  {
   "cell_type": "markdown",
   "id": "3dd7fef2",
   "metadata": {},
   "source": [
    "지수가 정수가 아니어도 가능"
   ]
  },
  {
   "cell_type": "code",
   "execution_count": 33,
   "id": "18d797f9",
   "metadata": {},
   "outputs": [
    {
     "data": {
      "text/plain": [
       "1.4142135623730951"
      ]
     },
     "execution_count": 33,
     "metadata": {},
     "output_type": "execute_result"
    }
   ],
   "source": [
    "2 ** (1/2) # 루트 2 "
   ]
  },
  {
   "cell_type": "markdown",
   "id": "5022491e",
   "metadata": {},
   "source": [
    "<h3>나머지와 몫</h3>"
   ]
  },
  {
   "cell_type": "code",
   "execution_count": 34,
   "id": "bf30246c",
   "metadata": {},
   "outputs": [
    {
     "data": {
      "text/plain": [
       "3"
      ]
     },
     "execution_count": 34,
     "metadata": {},
     "output_type": "execute_result"
    }
   ],
   "source": [
    "13 % 5 #나머지"
   ]
  },
  {
   "cell_type": "code",
   "execution_count": 35,
   "id": "0eaa69ee",
   "metadata": {},
   "outputs": [
    {
     "data": {
      "text/plain": [
       "2"
      ]
     },
     "execution_count": 35,
     "metadata": {},
     "output_type": "execute_result"
    }
   ],
   "source": [
    "13 // 5 # 몫"
   ]
  },
  {
   "cell_type": "markdown",
   "id": "7e907be8",
   "metadata": {},
   "source": [
    "<h1>3.3 과학적 표기법</h1>"
   ]
  },
  {
   "cell_type": "code",
   "execution_count": 36,
   "id": "f71756bd",
   "metadata": {},
   "outputs": [
    {
     "data": {
      "text/plain": [
       "300000000"
      ]
     },
     "execution_count": 36,
     "metadata": {},
     "output_type": "execute_result"
    }
   ],
   "source": [
    "3 * 10 ** 8"
   ]
  },
  {
   "cell_type": "markdown",
   "id": "f1f19d47",
   "metadata": {},
   "source": [
    "10의 거듭제곱을 en 형식으로 편하게 입력가능\n",
    "<br>주의 : 항상 숫자가 앞에 있어야 함 e8(x)"
   ]
  },
  {
   "cell_type": "code",
   "execution_count": 37,
   "id": "458f6ca0",
   "metadata": {},
   "outputs": [
    {
     "data": {
      "text/plain": [
       "300000000.0"
      ]
     },
     "execution_count": 37,
     "metadata": {},
     "output_type": "execute_result"
    }
   ],
   "source": [
    "3e8 #실수로 저장"
   ]
  },
  {
   "cell_type": "markdown",
   "id": "ce4da20a",
   "metadata": {},
   "source": [
    "출력에서도 사용 됨"
   ]
  },
  {
   "cell_type": "code",
   "execution_count": 38,
   "id": "fa99eadd",
   "metadata": {},
   "outputs": [
    {
     "data": {
      "text/plain": [
       "1000000000000000.0"
      ]
     },
     "execution_count": 38,
     "metadata": {},
     "output_type": "execute_result"
    }
   ],
   "source": [
    "1e15 # 10의 15승"
   ]
  },
  {
   "cell_type": "code",
   "execution_count": 39,
   "id": "000aac67",
   "metadata": {},
   "outputs": [
    {
     "data": {
      "text/plain": [
       "1e+16"
      ]
     },
     "execution_count": 39,
     "metadata": {},
     "output_type": "execute_result"
    }
   ],
   "source": [
    "1e16 #숫자가 커지면 축약해서 표현"
   ]
  },
  {
   "cell_type": "code",
   "execution_count": 40,
   "id": "957d40cb",
   "metadata": {},
   "outputs": [
    {
     "data": {
      "text/plain": [
       "0.0001"
      ]
     },
     "execution_count": 40,
     "metadata": {},
     "output_type": "execute_result"
    }
   ],
   "source": [
    "1e-4 # 10의 -4승"
   ]
  },
  {
   "cell_type": "code",
   "execution_count": 41,
   "id": "21379bbe",
   "metadata": {},
   "outputs": [
    {
     "data": {
      "text/plain": [
       "1e-05"
      ]
     },
     "execution_count": 41,
     "metadata": {},
     "output_type": "execute_result"
    }
   ],
   "source": [
    "1e-5 # 소수점은 -5승 부터 축약해서 표현"
   ]
  },
  {
   "cell_type": "markdown",
   "id": "32f128a3",
   "metadata": {},
   "source": [
    "<h1>진수 표현과 변환</h1>\n",
    "<br>각 10진법,2진법,8진법,16진법 표기후 10진법 출력"
   ]
  },
  {
   "cell_type": "code",
   "execution_count": 42,
   "id": "18e344bf",
   "metadata": {},
   "outputs": [
    {
     "data": {
      "text/plain": [
       "17"
      ]
     },
     "execution_count": 42,
     "metadata": {},
     "output_type": "execute_result"
    }
   ],
   "source": [
    "17 #10진법 일반적인 숫자 "
   ]
  },
  {
   "cell_type": "code",
   "execution_count": 43,
   "id": "3f168492",
   "metadata": {},
   "outputs": [
    {
     "data": {
      "text/plain": [
       "17"
      ]
     },
     "execution_count": 43,
     "metadata": {},
     "output_type": "execute_result"
    }
   ],
   "source": [
    "0b10001 # 2진법 0b가 붙어있으면 2진법 "
   ]
  },
  {
   "cell_type": "code",
   "execution_count": 44,
   "id": "e9b07a36",
   "metadata": {},
   "outputs": [
    {
     "data": {
      "text/plain": [
       "17"
      ]
     },
     "execution_count": 44,
     "metadata": {},
     "output_type": "execute_result"
    }
   ],
   "source": [
    "0o21 # 0o 붙으면 8진법 8 * 2 + 1 0o200 은 128 8 16 64"
   ]
  },
  {
   "cell_type": "code",
   "execution_count": 48,
   "id": "efe24fa4",
   "metadata": {},
   "outputs": [
    {
     "data": {
      "text/plain": [
       "17"
      ]
     },
     "execution_count": 48,
     "metadata": {},
     "output_type": "execute_result"
    }
   ],
   "source": [
    "0x11 # 0x 붙으면 16진법 16 * 1 + 1 "
   ]
  },
  {
   "cell_type": "markdown",
   "id": "3917be4a",
   "metadata": {},
   "source": [
    "2진법 8진법 16진법으로 출력 됨 (단,문자열로 출력 됨)"
   ]
  },
  {
   "cell_type": "code",
   "execution_count": 49,
   "id": "ca4f76e0",
   "metadata": {},
   "outputs": [
    {
     "data": {
      "text/plain": [
       "'0b10001'"
      ]
     },
     "execution_count": 49,
     "metadata": {},
     "output_type": "execute_result"
    }
   ],
   "source": [
    "bin(17) #10진법 17을 2진법으로 바꿔주는 함수"
   ]
  },
  {
   "cell_type": "code",
   "execution_count": 50,
   "id": "e3c2fad4",
   "metadata": {},
   "outputs": [
    {
     "data": {
      "text/plain": [
       "'0o21'"
      ]
     },
     "execution_count": 50,
     "metadata": {},
     "output_type": "execute_result"
    }
   ],
   "source": [
    "oct(17) #10진법 17을 8진법으로 바꿔주는 함수"
   ]
  },
  {
   "cell_type": "code",
   "execution_count": 51,
   "id": "88b7b8d9",
   "metadata": {},
   "outputs": [
    {
     "data": {
      "text/plain": [
       "'0x11'"
      ]
     },
     "execution_count": 51,
     "metadata": {},
     "output_type": "execute_result"
    }
   ],
   "source": [
    "hex(17) #10진법 17을 16진법으로 바꿔주는 함수 "
   ]
  },
  {
   "cell_type": "markdown",
   "id": "6cb65f3e",
   "metadata": {},
   "source": [
    "연산후 변환함"
   ]
  },
  {
   "cell_type": "code",
   "execution_count": 52,
   "id": "fc7a3504",
   "metadata": {},
   "outputs": [
    {
     "data": {
      "text/plain": [
       "22"
      ]
     },
     "execution_count": 52,
     "metadata": {},
     "output_type": "execute_result"
    }
   ],
   "source": [
    "0b10 * 0o10 + 0x10 - 10"
   ]
  },
  {
   "cell_type": "code",
   "execution_count": 53,
   "id": "acf4771a",
   "metadata": {},
   "outputs": [
    {
     "data": {
      "text/plain": [
       "'0b10110'"
      ]
     },
     "execution_count": 53,
     "metadata": {},
     "output_type": "execute_result"
    }
   ],
   "source": [
    "bin(0b10 * 0o10 + 0x10 - 10)"
   ]
  },
  {
   "cell_type": "code",
   "execution_count": 54,
   "id": "d02dde2d",
   "metadata": {},
   "outputs": [
    {
     "data": {
      "text/plain": [
       "'0o26'"
      ]
     },
     "execution_count": 54,
     "metadata": {},
     "output_type": "execute_result"
    }
   ],
   "source": [
    "oct(0b10 * 0o10 + 0x10 - 10)"
   ]
  },
  {
   "cell_type": "code",
   "execution_count": 56,
   "id": "297b2f73",
   "metadata": {},
   "outputs": [
    {
     "data": {
      "text/plain": [
       "'0x16'"
      ]
     },
     "execution_count": 56,
     "metadata": {},
     "output_type": "execute_result"
    }
   ],
   "source": [
    "hex(0b10 * 0o10 + 0x10 - 10)"
   ]
  },
  {
   "cell_type": "markdown",
   "id": "9eb79c71",
   "metadata": {},
   "source": [
    "<h1>3.5 논리 연산 및 비교 연산</h1>\n",
    "<br><h2>불린연산(Boolean operation)</h2>\n"
   ]
  },
  {
   "cell_type": "code",
   "execution_count": 57,
   "id": "590e6cf5",
   "metadata": {},
   "outputs": [
    {
     "name": "stdout",
     "output_type": "stream",
     "text": [
      "True\n"
     ]
    }
   ],
   "source": [
    "print(True)"
   ]
  },
  {
   "cell_type": "code",
   "execution_count": 58,
   "id": "b61f7fba",
   "metadata": {},
   "outputs": [
    {
     "name": "stdout",
     "output_type": "stream",
     "text": [
      "False\n"
     ]
    }
   ],
   "source": [
    "print(False)"
   ]
  },
  {
   "cell_type": "code",
   "execution_count": 59,
   "id": "c80ec247",
   "metadata": {},
   "outputs": [
    {
     "data": {
      "text/plain": [
       "bool"
      ]
     },
     "execution_count": 59,
     "metadata": {},
     "output_type": "execute_result"
    }
   ],
   "source": [
    "type(True)"
   ]
  },
  {
   "cell_type": "markdown",
   "id": "faaebad4",
   "metadata": {},
   "source": [
    "**논리연산자**\n",
    "<br>and : 모두 참일 때만 참\n",
    "<br>or : 둘중 하나만 참 일 때도 참\n",
    "<br>not : a가 참이면 거짓, 거짓이면 참"
   ]
  },
  {
   "cell_type": "code",
   "execution_count": 63,
   "id": "962ab06e",
   "metadata": {},
   "outputs": [
    {
     "name": "stdout",
     "output_type": "stream",
     "text": [
      "False\n",
      "True\n",
      "True\n",
      "False\n"
     ]
    }
   ],
   "source": [
    "print(True and False)\n",
    "print(not True and False) #not True는 False 가 되므로 False\n",
    "print(True and not False) # not False는 True 이므로 True and True 가 되어 True 가 됨\n",
    "print(True or False)\n",
    "print(not True)"
   ]
  },
  {
   "cell_type": "markdown",
   "id": "b3d8d00d",
   "metadata": {},
   "source": [
    "<b>비교연산자</b>"
   ]
  },
  {
   "cell_type": "code",
   "execution_count": 66,
   "id": "282a0373",
   "metadata": {},
   "outputs": [
    {
     "name": "stdout",
     "output_type": "stream",
     "text": [
      "False\n",
      "True\n",
      "False\n",
      "True\n",
      "False\n",
      "True\n"
     ]
    }
   ],
   "source": [
    "print(5 == 3) #같다\n",
    "print(5 != 3) #같지 않다\n",
    "print(5 < 3) #보다 작다\n",
    "print(5 > 3) #보다 크다\n",
    "print(5 <= 3) #같거나 작다\n",
    "print(5 >= 3) #크거나 같다"
   ]
  },
  {
   "cell_type": "markdown",
   "id": "c145d465",
   "metadata": {},
   "source": [
    "비교연산자의 결과는 불 데이터 형식으로 나온다"
   ]
  },
  {
   "cell_type": "code",
   "execution_count": 67,
   "id": "014748c7",
   "metadata": {},
   "outputs": [
    {
     "name": "stdout",
     "output_type": "stream",
     "text": [
      "True\n"
     ]
    }
   ],
   "source": [
    "print(1 > 0 and -2 < 0)"
   ]
  },
  {
   "cell_type": "markdown",
   "id": "4e77640f",
   "metadata": {},
   "source": [
    "<b>비교연산</b>\n",
    "<br>괄호와 연산이 같이 있으면 괄호가 우선"
   ]
  },
  {
   "cell_type": "code",
   "execution_count": 79,
   "id": "9b64e38d",
   "metadata": {},
   "outputs": [
    {
     "name": "stdout",
     "output_type": "stream",
     "text": [
      "False\n",
      "True\n",
      "True\n",
      "False\n",
      "True\n"
     ]
    }
   ],
   "source": [
    "print((3 < 0) and ((-5 > 0) and (1 > 5))) \n",
    "print((3 > 0) and not ((-5 > 0) and (1 > 5))) \n",
    "print((3 > 0) or ((-5 > 0) and (1 > 5))) # -5 > 0 and 1 > 5가 false 고 앞에 3 > 0이 true 이므로 true or false 가 되므로 true\n",
    "print(((3 > 0) or (-5 > 0)) and ((4 > 8) or ( 3 < 0))) # 3 > 0 or -5 > 0 이 true 4 > 8 or 3 < 0이 false true aprint(((3 > 0) or (-5 > 0)) and ((4 > 8) or ( 3 < 0)))nd false 이므로 false\n",
    "print(((3 > 0) or (-5 > 0)) and not((4 > 8) or ( 3 < 0)))"
   ]
  },
  {
   "cell_type": "code",
   "execution_count": null,
   "id": "c5226e4b",
   "metadata": {},
   "outputs": [],
   "source": []
  }
 ],
 "metadata": {
  "kernelspec": {
   "display_name": "Python 3 (ipykernel)",
   "language": "python",
   "name": "python3"
  },
  "language_info": {
   "codemirror_mode": {
    "name": "ipython",
    "version": 3
   },
   "file_extension": ".py",
   "mimetype": "text/x-python",
   "name": "python",
   "nbconvert_exporter": "python",
   "pygments_lexer": "ipython3",
   "version": "3.9.13"
  }
 },
 "nbformat": 4,
 "nbformat_minor": 5
}
